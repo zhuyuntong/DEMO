{
 "cells": [
  {
   "cell_type": "code",
   "execution_count": 1,
   "id": "a2a7bb63",
   "metadata": {},
   "outputs": [
    {
     "name": "stdout",
     "output_type": "stream",
     "text": [
      "Using device: cuda\n"
     ]
    }
   ],
   "source": [
    "import pandas as pd\n",
    "import numpy as np\n",
    "import torch\n",
    "from torch import nn\n",
    "from torch.utils.data import Dataset, DataLoader\n",
    "from sklearn.preprocessing import LabelEncoder, MultiLabelBinarizer, StandardScaler\n",
    "from sklearn.model_selection import train_test_split\n",
    "import tensorflow as tf\n",
    "import tensorflow_hub as hub\n",
    "from transformers import CLIPProcessor, CLIPModel,BertTokenizer, BertModel\n",
    "from PIL import Image\n",
    "from tqdm import tqdm\n",
    "import random\n",
    "import os\n",
    "device = torch.device('cuda' if torch.cuda.is_available() else 'cpu')\n",
    "print(f\"Using device: {device}\")\n"
   ]
  },
  {
   "cell_type": "code",
   "execution_count": 2,
   "id": "ca4f4e82",
   "metadata": {},
   "outputs": [
    {
     "name": "stdout",
     "output_type": "stream",
     "text": [
      "['review_id', 'user_id', 'business_id', 'stars', 'useful_review', 'funny_review', 'cool_review', 'text', 'date', 'name', 'review_count', 'yelping_since', 'useful_user', 'funny_user', 'cool_user', 'elite', 'friends', 'fans', 'average_stars', 'compliment_hot', 'compliment_more', 'compliment_profile', 'compliment_cute', 'compliment_list', 'compliment_note', 'compliment_plain', 'compliment_cool', 'compliment_funny', 'compliment_writer', 'compliment_photos', 'name_business', 'address', 'city', 'state', 'postal_code', 'latitude', 'longitude', 'stars_business', 'review_count_business', 'is_open', 'attributes', 'categories', 'hours', 'user_index', 'business_index']\n"
     ]
    }
   ],
   "source": [
    "\n",
    "business_df = pd.read_json('yelp_academic_dataset_business.json', lines=True,nrows=10000)\n",
    "user_df = pd.read_json('yelp_academic_dataset_user.json', lines=True,nrows=10000)\n",
    "review_df = pd.read_json('yelp_academic_dataset_review.json', lines=True,nrows=10000)\n",
    "photo_df = pd.read_json('photos.json', lines=True,nrows=10000)\n",
    "business_ids = set(business_df['business_id'])\n",
    "user_ids = set(user_df['user_id'])\n",
    "review_df = review_df[review_df['business_id'].isin(business_ids) & review_df['user_id'].isin(user_ids)]\n",
    "\n",
    "data = pd.merge(review_df, user_df, on='user_id', suffixes=('_review', '_user'))\n",
    "data = pd.merge(data, business_df, on='business_id', suffixes=('', '_business'))\n",
    "\n",
    "user_encoder = LabelEncoder()\n",
    "data['user_index'] = user_encoder.fit_transform(data['user_id'])\n",
    "business_encoder = LabelEncoder()\n",
    "data['business_index'] = business_encoder.fit_transform(data['business_id'])\n",
    "num_users = data['user_index'].nunique()\n",
    "num_businesses = data['business_index'].nunique()\n",
    "print(data.columns.tolist())"
   ]
  },
  {
   "cell_type": "code",
   "execution_count": 3,
   "id": "d2482a28",
   "metadata": {
    "scrolled": true
   },
   "outputs": [
    {
     "name": "stdout",
     "output_type": "stream",
     "text": [
      "Missing columns: []\n"
     ]
    },
    {
     "name": "stderr",
     "output_type": "stream",
     "text": [
      "Some weights of the model checkpoint at ./bert-base-uncased were not used when initializing BertModel: ['cls.predictions.bias', 'cls.predictions.transform.LayerNorm.bias', 'cls.seq_relationship.weight', 'cls.predictions.transform.dense.weight', 'cls.predictions.transform.LayerNorm.weight', 'cls.predictions.decoder.weight', 'cls.predictions.transform.dense.bias', 'cls.seq_relationship.bias']\n",
      "- This IS expected if you are initializing BertModel from the checkpoint of a model trained on another task or with another architecture (e.g. initializing a BertForSequenceClassification model from a BertForPreTraining model).\n",
      "- This IS NOT expected if you are initializing BertModel from the checkpoint of a model that you expect to be exactly identical (initializing a BertForSequenceClassification model from a BertForSequenceClassification model).\n",
      "100%|██████████████████| 592/592 [00:12<00:00, 46.32it/s]\n",
      "100%|█████████████| 10000/10000 [00:17<00:00, 569.73it/s]\n"
     ]
    }
   ],
   "source": [
    "user_features_list = ['review_count', 'useful_user', 'funny_user', 'cool_user', 'fans', 'average_stars']\n",
    "\n",
    "scaler = StandardScaler()\n",
    "user_features = scaler.fit_transform(data[user_features_list])\n",
    "def process_categories(x):\n",
    "    if isinstance(x, list):\n",
    "        return x\n",
    "    elif isinstance(x, str):\n",
    "        return x.split(', ')\n",
    "    else:\n",
    "        return []\n",
    "\n",
    "business_df['categories'] = business_df['categories'].fillna('').apply(process_categories)\n",
    "mlb = MultiLabelBinarizer()\n",
    "categories_encoded = mlb.fit_transform(business_df['categories'])\n",
    "categories_df = pd.DataFrame(categories_encoded, columns=mlb.classes_)\n",
    "\n",
    "business_df = business_df.reset_index(drop=True)\n",
    "categories_df = categories_df.reset_index(drop=True)\n",
    "\n",
    "business_df = pd.concat([business_df, categories_df], axis=1)\n",
    "\n",
    "business_columns_needed = ['business_id', 'latitude', 'longitude'] + list(mlb.classes_)\n",
    "business_df_reduced = business_df[business_columns_needed]\n",
    "data = pd.merge(data, business_df_reduced, on='business_id', how='left')\n",
    "business_id_to_index = dict(zip(business_encoder.classes_, business_encoder.transform(business_encoder.classes_)))\n",
    "\n",
    "business_index_to_categories = {}\n",
    "for idx, row in business_df.iterrows():\n",
    "    business_id = row['business_id']\n",
    "    categories = row['categories'] \n",
    "    business_index = business_id_to_index.get(business_id)\n",
    "    if business_index is not None:\n",
    "        business_index_to_categories[business_index] = categories\n",
    "\n",
    "category_to_business_indices = {}\n",
    "for business_index, categories in business_index_to_categories.items():\n",
    "    for category in categories:\n",
    "        if category not in category_to_business_indices:\n",
    "            category_to_business_indices[category] = set()\n",
    "        category_to_business_indices[category].add(business_index)\n",
    "business_features_list = ['latitude', 'longitude'] + list(mlb.classes_)\n",
    "\n",
    "missing_columns = [col for col in business_features_list if col not in data.columns]\n",
    "for col in missing_columns:\n",
    "    data[col] = 0\n",
    "business_features = scaler.fit_transform(data[business_features_list])\n",
    "missing_columns = [col for col in business_features_list if col not in data.columns]\n",
    "print(f\"Missing columns: {missing_columns}\")\n",
    "business_features = scaler.fit_transform(data[business_features_list])\n",
    "use_model = hub.load('https://tfhub.dev/google/universal-sentence-encoder/4')\n",
    "tokenizer = BertTokenizer.from_pretrained('./bert-base-uncased')\n",
    "bert_model = BertModel.from_pretrained('./bert-base-uncased')\n",
    "bert_model.to(device)\n",
    "bert_model.eval()\n",
    "\n",
    "def get_bert_embedding(text):\n",
    "    if not isinstance(text, str) or text.strip() == '':\n",
    "        return np.zeros(768)\n",
    "    try:\n",
    "        inputs = tokenizer(text, return_tensors='pt', truncation=True, max_length=512)\n",
    "        inputs = {k: v.to(device) for k, v in inputs.items()}\n",
    "        with torch.no_grad():\n",
    "            outputs = bert_model(**inputs)\n",
    "        embedding = outputs.last_hidden_state[:, 0, :].cpu().numpy()[0]\n",
    "        return embedding\n",
    "    except Exception as e:\n",
    "        print(f\"Error processing text: {text}\")\n",
    "        print(e)\n",
    "        return np.zeros(768)\n",
    "data = data.dropna(subset=['text'])\n",
    "tqdm.pandas()\n",
    "data['text_embedding'] = data['text'].progress_apply(get_bert_embedding)\n",
    "photo_df = photo_df[photo_df['business_id'].isin(business_df['business_id'])]\n",
    "business_photos = photo_df.groupby('business_id')['photo_id'].apply(list).reset_index()\n",
    "business_df = pd.merge(business_df, business_photos, on='business_id', how='left')\n",
    "\n",
    "clip_model = CLIPModel.from_pretrained(\"./clip-vit-base-patch32\")\n",
    "clip_processor = CLIPProcessor.from_pretrained(\"./clip-vit-base-patch32\")\n",
    "clip_model.to(device)\n",
    "clip_model.eval()\n",
    "\n",
    "def get_image_embedding(image_path):\n",
    "    try:\n",
    "        image = Image.open(image_path).convert(\"RGB\")\n",
    "        inputs = clip_processor(images=image, return_tensors=\"pt\").to(device)\n",
    "        with torch.no_grad():\n",
    "            outputs = clip_model.get_image_features(**inputs)\n",
    "        embedding = outputs.cpu().numpy()[0]\n",
    "        return embedding\n",
    "    except Exception as e:\n",
    "        return np.zeros(512)\n",
    "\n",
    "def get_business_image_embedding(photo_ids):\n",
    "    embeddings = []\n",
    "    if not isinstance(photo_ids, list):\n",
    "        return np.zeros(512)\n",
    "    for photo_id in photo_ids:\n",
    "        image_path = os.path.join('photos', f'{photo_id}.jpg') \n",
    "        embedding = get_image_embedding(image_path)\n",
    "        if np.count_nonzero(embedding) > 0:\n",
    "            embeddings.append(embedding)\n",
    "    if embeddings:\n",
    "        return np.mean(embeddings, axis=0)\n",
    "    else:\n",
    "        return np.zeros(512)\n",
    "\n",
    "tqdm.pandas()\n",
    "business_df['image_embedding'] = business_df['photo_id'].progress_apply(get_business_image_embedding)\n",
    "\n",
    "business_image_embeddings = business_df[['business_id', 'image_embedding']]\n",
    "data = pd.merge(data, business_image_embeddings, on='business_id', how='left')\n",
    "user_features = np.array(user_features)\n",
    "business_features = np.array(business_features)\n",
    "text_embeddings = np.stack(data['text_embedding'].values)\n",
    "image_embeddings = np.stack(data['image_embedding'].values)\n",
    "\n",
    "user_indices = data['user_index'].values\n",
    "business_indices = data['business_index'].values\n",
    "\n",
    "user_feature_dict = {}\n",
    "for idx, user_id in enumerate(data['user_index'].unique()):\n",
    "    user_feature_dict[user_id] = user_features[data['user_index'] == user_id][0]\n",
    "\n",
    "business_feature_dict = {}\n",
    "for idx, business_id in enumerate(data['business_index'].unique()):\n",
    "    business_feature_dict[business_id] = business_features[data['business_index'] == business_id][0]\n",
    "\n",
    "business_text_embedding_dict = {}\n",
    "for idx, business_id in enumerate(data['business_index'].unique()):\n",
    "    business_text_embedding_dict[business_id] = text_embeddings[data['business_index'] == business_id][0]\n",
    "\n",
    "business_image_embedding_dict = {}\n",
    "for idx, business_id in enumerate(data['business_index'].unique()):\n",
    "    business_image_embedding_dict[business_id] = image_embeddings[data['business_index'] == business_id][0]\n"
   ]
  },
  {
   "cell_type": "code",
   "execution_count": 5,
   "id": "f4b576e7",
   "metadata": {},
   "outputs": [],
   "source": [
    "class YelpDataset(Dataset):\n",
    "    def __init__(self, data, num_businesses, business_index_to_categories, category_to_business_indices, num_negatives=10):\n",
    "        self.data = data\n",
    "        self.num_businesses = num_businesses\n",
    "        self.num_negatives = num_negatives\n",
    "        self.business_index_to_categories = business_index_to_categories\n",
    "        self.category_to_business_indices = category_to_business_indices\n",
    "    \n",
    "        self.user_business_set = set(zip(data['user_index'], data['business_index']))\n",
    "        \n",
    "\n",
    "        self.user_positive_businesses = data.groupby('user_index')['business_index'].apply(set).to_dict()\n",
    "        \n",
    "\n",
    "        self.all_businesses = set(range(num_businesses))\n",
    "        \n",
    "        self.user_indices = data['user_index'].values\n",
    "        self.business_indices = data['business_index'].values\n",
    "        \n",
    "    def __len__(self):\n",
    "        return len(self.user_indices)\n",
    "    \n",
    "    def __getitem__(self, idx):\n",
    "        user = self.user_indices[idx]\n",
    "        pos_business = self.business_indices[idx]\n",
    "\n",
    "        candidate_neg_businesses = self.all_businesses - self.user_positive_businesses[user]\n",
    "\n",
    "        neg_businesses = self.sample_hard_negatives(pos_business, candidate_neg_businesses, self.num_negatives)\n",
    "\n",
    "        return user, pos_business, neg_businesses\n",
    "\n",
    "    def sample_hard_negatives(self, pos_business, candidate_neg_businesses, num_negatives):\n",
    "        neg_businesses = random.sample(candidate_neg_businesses, num_negatives)\n",
    "        return neg_businesses"
   ]
  },
  {
   "cell_type": "code",
   "execution_count": 6,
   "id": "e09891f0",
   "metadata": {},
   "outputs": [],
   "source": [
    "train_data, val_data = train_test_split(data, test_size=0.2, random_state=42)\n",
    "\n",
    "train_dataset = YelpDataset(train_data, num_businesses, business_index_to_categories, category_to_business_indices, num_negatives=5)\n",
    "val_dataset = YelpDataset(val_data, num_businesses, business_index_to_categories, category_to_business_indices, num_negatives=5)\n",
    "def custom_collate(batch):\n",
    "    user_indices = torch.tensor([item[0] for item in batch], dtype=torch.long)\n",
    "    pos_business_indices = torch.tensor([item[1] for item in batch], dtype=torch.long)\n",
    "    neg_business_indices = [item[2] for item in batch] \n",
    "    neg_business_indices = torch.tensor(neg_business_indices, dtype=torch.long)\n",
    "    return user_indices, pos_business_indices, neg_business_indices\n",
    "train_loader = DataLoader(train_dataset, batch_size=256, shuffle=True, collate_fn=custom_collate)\n",
    "val_loader = DataLoader(val_dataset, batch_size=256, shuffle=False, collate_fn=custom_collate)\n"
   ]
  },
  {
   "cell_type": "code",
   "execution_count": 7,
   "id": "73ea13ba",
   "metadata": {},
   "outputs": [],
   "source": [
    "class TwoTowerModel(nn.Module):\n",
    "    def __init__(self, user_feature_dim, business_feature_dim, embedding_dim):\n",
    "        super(TwoTowerModel, self).__init__()\n",
    "        self.user_tower = nn.Sequential(\n",
    "            nn.Linear(user_feature_dim, 512),\n",
    "            nn.ReLU(),\n",
    "            nn.Linear(512, 256),\n",
    "            nn.ReLU(),\n",
    "            nn.Linear(256, embedding_dim)\n",
    "        )\n",
    "        self.business_tower = nn.Sequential(\n",
    "            nn.Linear(business_feature_dim, 512),\n",
    "            nn.ReLU(),\n",
    "            nn.Linear(512, 256),\n",
    "            nn.ReLU(),\n",
    "            nn.Linear(256, embedding_dim)\n",
    "        )\n",
    "\n",
    "    def forward(self, user_features, business_features):\n",
    "        user_vector = self.user_tower(user_features)\n",
    "        business_vector = self.business_tower(business_features)\n",
    "        user_vector = F.normalize(user_vector, p=2, dim=1)\n",
    "        business_vector = F.normalize(business_vector, p=2, dim=1)\n",
    "        return user_vector, business_vector"
   ]
  },
  {
   "cell_type": "code",
   "execution_count": 8,
   "id": "fc958af9",
   "metadata": {},
   "outputs": [],
   "source": [
    "def contrastive_loss(user_vector, pos_business_vector, neg_business_vectors, temperature=0.07):\n",
    "    batch_size = user_vector.size(0)\n",
    "    user_vector = user_vector.unsqueeze(1) \n",
    "    pos_business_vector = pos_business_vector.unsqueeze(1)\n",
    "    all_business_vectors = torch.cat([pos_business_vector, neg_business_vectors], dim=1) \n",
    "    sim_matrix = torch.bmm(user_vector, all_business_vectors.permute(0, 2, 1)) \n",
    "    sim_matrix = sim_matrix.squeeze(1) / temperature  \n",
    "    \n",
    "    labels = torch.zeros(batch_size, dtype=torch.long).to(device)\n",
    "    loss = F.cross_entropy(sim_matrix, labels)\n",
    "    return loss\n",
    "def get_hard_negatives(user_idx, pos_business_idx, num_negatives):\n",
    "    user_positive_businesses = user_positive_businesses_dict[user_idx]\n",
    "    candidate_neg_businesses = all_businesses - user_positive_businesses\n",
    "    hard_negatives = random.sample(candidate_neg_businesses, num_negatives)\n",
    "    return hard_negatives\n",
    "def get_user_features(user_indices):\n",
    "    user_features_batch = []\n",
    "    for user_idx in user_indices.cpu().numpy():\n",
    "        user_features_batch.append(user_feature_dict[user_idx])\n",
    "    user_features_batch = torch.tensor(user_features_batch, dtype=torch.float).to(device)\n",
    "    return user_features_batch\n",
    "def get_business_features(business_indices):\n",
    "    business_features_batch = []\n",
    "    for business_idx in business_indices.cpu().numpy():\n",
    "        features = np.concatenate([\n",
    "            business_feature_dict[business_idx],\n",
    "            business_text_embedding_dict[business_idx],\n",
    "            business_image_embedding_dict[business_idx]\n",
    "        ])\n",
    "        business_features_batch.append(features)\n",
    "    business_features_batch = torch.tensor(business_features_batch, dtype=torch.float).to(device)\n",
    "    return business_features_batch"
   ]
  },
  {
   "cell_type": "code",
   "execution_count": 9,
   "id": "23226abb",
   "metadata": {},
   "outputs": [],
   "source": [
    "def train_model(model, train_loader, optimizer, epoch):\n",
    "    model.train()\n",
    "    total_loss = 0\n",
    "    for batch_idx, batch in enumerate(tqdm(train_loader, desc=f\"Training Epoch {epoch+1}\")):\n",
    "        user_indices, pos_business_indices, neg_business_indices = batch\n",
    "        user_indices = user_indices.to(device)\n",
    "        pos_business_indices = pos_business_indices.to(device)\n",
    "        neg_business_indices = neg_business_indices.to(device)\n",
    "\n",
    "        user_features_batch = get_user_features(user_indices) \n",
    "\n",
    "        pos_business_features_batch = get_business_features(pos_business_indices) \n",
    "\n",
    "        # 获取负样本商家特征\n",
    "        batch_size, num_negatives = neg_business_indices.shape\n",
    "        neg_business_indices_flat = neg_business_indices.view(-1)\n",
    "        neg_business_features_batch = get_business_features(neg_business_indices_flat)  \n",
    "        neg_business_features_batch = neg_business_features_batch.view(batch_size, num_negatives, -1)  \n",
    "\n",
    "        optimizer.zero_grad()\n",
    "        user_vector = model.user_tower(user_features_batch) \n",
    "        pos_business_vector = model.business_tower(pos_business_features_batch)  \n",
    "        neg_business_vectors = []\n",
    "        for i in range(num_negatives):\n",
    "            neg_business_vector = model.business_tower(neg_business_features_batch[:, i, :]) \n",
    "            neg_business_vectors.append(neg_business_vector.unsqueeze(1))  \n",
    "        neg_business_vectors = torch.cat(neg_business_vectors, dim=1) \n",
    "\n",
    "        loss = contrastive_loss(user_vector, pos_business_vector, neg_business_vectors)\n",
    "\n",
    "        loss.backward()\n",
    "        optimizer.step()\n",
    "        total_loss += loss.item()\n",
    "    avg_loss = total_loss / len(train_loader)\n",
    "    print(f\"Epoch {epoch+1}, Training Loss: {avg_loss:.4f}\")"
   ]
  },
  {
   "cell_type": "code",
   "execution_count": 10,
   "id": "5ce79fb5",
   "metadata": {},
   "outputs": [],
   "source": [
    "def evaluate_model(model, val_loader, epoch, k=10):\n",
    "    model.eval()\n",
    "    recalls = []\n",
    "    with torch.no_grad():\n",
    "        for batch in tqdm(val_loader, desc=f\"Evaluating Epoch {epoch+1}\"):\n",
    "            user_indices, pos_business_indices, _ = batch\n",
    "            user_features_batch = get_user_features(user_indices)\n",
    "            pos_business_indices = pos_business_indices.cpu().numpy()\n",
    "\n",
    "            user_vector = model.user_tower(user_features_batch)\n",
    "            user_vector = F.normalize(user_vector, p=2, dim=1)\n",
    "            business_vectors = []\n",
    "            for i in range(num_businesses):\n",
    "                features = get_business_features(torch.tensor([i]))\n",
    "                business_vector = model.business_tower(features)\n",
    "                business_vector = F.normalize(business_vector, p=2, dim=1)\n",
    "                business_vectors.append(business_vector)\n",
    "            business_vectors = torch.cat(business_vectors, dim=0)\n",
    "\n",
    "            scores = torch.matmul(user_vector, business_vectors.T)  \n",
    "\n",
    "            _, indices = torch.topk(scores, k, dim=1)\n",
    "\n",
    "            for i in range(len(user_indices)):\n",
    "                pos_business = pos_business_indices[i]\n",
    "                recommended_businesses = indices[i].cpu().numpy()\n",
    "                if pos_business in recommended_businesses:\n",
    "                    recalls.append(1)\n",
    "                else:\n",
    "                    recalls.append(0)\n",
    "    recall_at_k = sum(recalls) / len(recalls)\n",
    "    print(f\"Epoch {epoch+1}, Recall@{k}: {recall_at_k:.4f}\")\n",
    "    return recall_at_k"
   ]
  },
  {
   "cell_type": "code",
   "execution_count": 11,
   "id": "f90611e1",
   "metadata": {},
   "outputs": [
    {
     "name": "stdout",
     "output_type": "stream",
     "text": [
      "business_features.shape: (592, 1061)\n",
      "business_feature_dim: 2341\n"
     ]
    },
    {
     "name": "stderr",
     "output_type": "stream",
     "text": [
      "Training Epoch 1: 100%|████| 2/2 [00:00<00:00,  5.18it/s]\n"
     ]
    },
    {
     "name": "stdout",
     "output_type": "stream",
     "text": [
      "Epoch 1, Training Loss: 1.8725\n"
     ]
    },
    {
     "name": "stderr",
     "output_type": "stream",
     "text": [
      "Evaluating Epoch 1: 100%|██| 1/1 [00:00<00:00,  5.77it/s]\n"
     ]
    },
    {
     "name": "stdout",
     "output_type": "stream",
     "text": [
      "Epoch 1, Recall@10: 0.0000\n"
     ]
    },
    {
     "name": "stderr",
     "output_type": "stream",
     "text": [
      "Training Epoch 2: 100%|████| 2/2 [00:00<00:00,  4.88it/s]\n"
     ]
    },
    {
     "name": "stdout",
     "output_type": "stream",
     "text": [
      "Epoch 2, Training Loss: 1.7051\n"
     ]
    },
    {
     "name": "stderr",
     "output_type": "stream",
     "text": [
      "Evaluating Epoch 2: 100%|██| 1/1 [00:00<00:00,  5.80it/s]\n"
     ]
    },
    {
     "name": "stdout",
     "output_type": "stream",
     "text": [
      "Epoch 2, Recall@10: 0.0084\n"
     ]
    },
    {
     "name": "stderr",
     "output_type": "stream",
     "text": [
      "Training Epoch 3: 100%|████| 2/2 [00:00<00:00,  4.89it/s]\n"
     ]
    },
    {
     "name": "stdout",
     "output_type": "stream",
     "text": [
      "Epoch 3, Training Loss: 1.6361\n"
     ]
    },
    {
     "name": "stderr",
     "output_type": "stream",
     "text": [
      "Evaluating Epoch 3: 100%|██| 1/1 [00:00<00:00,  5.61it/s]\n"
     ]
    },
    {
     "name": "stdout",
     "output_type": "stream",
     "text": [
      "Epoch 3, Recall@10: 0.0084\n"
     ]
    },
    {
     "name": "stderr",
     "output_type": "stream",
     "text": [
      "Training Epoch 4: 100%|████| 2/2 [00:00<00:00,  4.93it/s]\n"
     ]
    },
    {
     "name": "stdout",
     "output_type": "stream",
     "text": [
      "Epoch 4, Training Loss: 1.5921\n"
     ]
    },
    {
     "name": "stderr",
     "output_type": "stream",
     "text": [
      "Evaluating Epoch 4: 100%|██| 1/1 [00:00<00:00,  5.31it/s]\n"
     ]
    },
    {
     "name": "stdout",
     "output_type": "stream",
     "text": [
      "Epoch 4, Recall@10: 0.0084\n"
     ]
    },
    {
     "name": "stderr",
     "output_type": "stream",
     "text": [
      "Training Epoch 5: 100%|████| 2/2 [00:00<00:00,  4.93it/s]\n"
     ]
    },
    {
     "name": "stdout",
     "output_type": "stream",
     "text": [
      "Epoch 5, Training Loss: 1.5342\n"
     ]
    },
    {
     "name": "stderr",
     "output_type": "stream",
     "text": [
      "Evaluating Epoch 5: 100%|██| 1/1 [00:00<00:00,  4.92it/s]\n"
     ]
    },
    {
     "name": "stdout",
     "output_type": "stream",
     "text": [
      "Epoch 5, Recall@10: 0.0168\n"
     ]
    },
    {
     "name": "stderr",
     "output_type": "stream",
     "text": [
      "Training Epoch 6: 100%|████| 2/2 [00:00<00:00,  4.91it/s]\n"
     ]
    },
    {
     "name": "stdout",
     "output_type": "stream",
     "text": [
      "Epoch 6, Training Loss: 1.5079\n"
     ]
    },
    {
     "name": "stderr",
     "output_type": "stream",
     "text": [
      "Evaluating Epoch 6: 100%|██| 1/1 [00:00<00:00,  4.80it/s]\n"
     ]
    },
    {
     "name": "stdout",
     "output_type": "stream",
     "text": [
      "Epoch 6, Recall@10: 0.0084\n"
     ]
    },
    {
     "name": "stderr",
     "output_type": "stream",
     "text": [
      "Training Epoch 7: 100%|████| 2/2 [00:00<00:00,  4.71it/s]\n"
     ]
    },
    {
     "name": "stdout",
     "output_type": "stream",
     "text": [
      "Epoch 7, Training Loss: 1.4415\n"
     ]
    },
    {
     "name": "stderr",
     "output_type": "stream",
     "text": [
      "Evaluating Epoch 7: 100%|██| 1/1 [00:00<00:00,  5.12it/s]\n"
     ]
    },
    {
     "name": "stdout",
     "output_type": "stream",
     "text": [
      "Epoch 7, Recall@10: 0.0252\n"
     ]
    },
    {
     "name": "stderr",
     "output_type": "stream",
     "text": [
      "Training Epoch 8: 100%|████| 2/2 [00:00<00:00,  5.04it/s]\n"
     ]
    },
    {
     "name": "stdout",
     "output_type": "stream",
     "text": [
      "Epoch 8, Training Loss: 1.3993\n"
     ]
    },
    {
     "name": "stderr",
     "output_type": "stream",
     "text": [
      "Evaluating Epoch 8: 100%|██| 1/1 [00:00<00:00,  5.67it/s]\n"
     ]
    },
    {
     "name": "stdout",
     "output_type": "stream",
     "text": [
      "Epoch 8, Recall@10: 0.0336\n"
     ]
    },
    {
     "name": "stderr",
     "output_type": "stream",
     "text": [
      "Training Epoch 9: 100%|████| 2/2 [00:00<00:00,  4.87it/s]\n"
     ]
    },
    {
     "name": "stdout",
     "output_type": "stream",
     "text": [
      "Epoch 9, Training Loss: 1.3861\n"
     ]
    },
    {
     "name": "stderr",
     "output_type": "stream",
     "text": [
      "Evaluating Epoch 9: 100%|██| 1/1 [00:00<00:00,  4.56it/s]\n"
     ]
    },
    {
     "name": "stdout",
     "output_type": "stream",
     "text": [
      "Epoch 9, Recall@10: 0.0252\n"
     ]
    },
    {
     "name": "stderr",
     "output_type": "stream",
     "text": [
      "Training Epoch 10: 100%|███| 2/2 [00:00<00:00,  4.47it/s]\n"
     ]
    },
    {
     "name": "stdout",
     "output_type": "stream",
     "text": [
      "Epoch 10, Training Loss: 1.3337\n"
     ]
    },
    {
     "name": "stderr",
     "output_type": "stream",
     "text": [
      "Evaluating Epoch 10: 100%|█| 1/1 [00:00<00:00,  5.31it/s]\n"
     ]
    },
    {
     "name": "stdout",
     "output_type": "stream",
     "text": [
      "Epoch 10, Recall@10: 0.0168\n"
     ]
    },
    {
     "name": "stderr",
     "output_type": "stream",
     "text": [
      "Training Epoch 11: 100%|███| 2/2 [00:00<00:00,  4.80it/s]\n"
     ]
    },
    {
     "name": "stdout",
     "output_type": "stream",
     "text": [
      "Epoch 11, Training Loss: 1.3176\n"
     ]
    },
    {
     "name": "stderr",
     "output_type": "stream",
     "text": [
      "Evaluating Epoch 11: 100%|█| 1/1 [00:00<00:00,  5.28it/s]\n"
     ]
    },
    {
     "name": "stdout",
     "output_type": "stream",
     "text": [
      "Epoch 11, Recall@10: 0.0252\n"
     ]
    },
    {
     "name": "stderr",
     "output_type": "stream",
     "text": [
      "Training Epoch 12: 100%|███| 2/2 [00:00<00:00,  4.60it/s]\n"
     ]
    },
    {
     "name": "stdout",
     "output_type": "stream",
     "text": [
      "Epoch 12, Training Loss: 1.2561\n"
     ]
    },
    {
     "name": "stderr",
     "output_type": "stream",
     "text": [
      "Evaluating Epoch 12: 100%|█| 1/1 [00:00<00:00,  4.97it/s]\n"
     ]
    },
    {
     "name": "stdout",
     "output_type": "stream",
     "text": [
      "Epoch 12, Recall@10: 0.0168\n"
     ]
    },
    {
     "name": "stderr",
     "output_type": "stream",
     "text": [
      "Training Epoch 13: 100%|███| 2/2 [00:00<00:00,  4.79it/s]\n"
     ]
    },
    {
     "name": "stdout",
     "output_type": "stream",
     "text": [
      "Epoch 13, Training Loss: 1.2648\n"
     ]
    },
    {
     "name": "stderr",
     "output_type": "stream",
     "text": [
      "Evaluating Epoch 13: 100%|█| 1/1 [00:00<00:00,  5.54it/s]\n"
     ]
    },
    {
     "name": "stdout",
     "output_type": "stream",
     "text": [
      "Epoch 13, Recall@10: 0.0168\n"
     ]
    },
    {
     "name": "stderr",
     "output_type": "stream",
     "text": [
      "Training Epoch 14: 100%|███| 2/2 [00:00<00:00,  4.72it/s]\n"
     ]
    },
    {
     "name": "stdout",
     "output_type": "stream",
     "text": [
      "Epoch 14, Training Loss: 1.2043\n"
     ]
    },
    {
     "name": "stderr",
     "output_type": "stream",
     "text": [
      "Evaluating Epoch 14: 100%|█| 1/1 [00:00<00:00,  5.09it/s]\n"
     ]
    },
    {
     "name": "stdout",
     "output_type": "stream",
     "text": [
      "Epoch 14, Recall@10: 0.0252\n"
     ]
    },
    {
     "name": "stderr",
     "output_type": "stream",
     "text": [
      "Training Epoch 15: 100%|███| 2/2 [00:00<00:00,  4.91it/s]\n"
     ]
    },
    {
     "name": "stdout",
     "output_type": "stream",
     "text": [
      "Epoch 15, Training Loss: 1.1588\n"
     ]
    },
    {
     "name": "stderr",
     "output_type": "stream",
     "text": [
      "Evaluating Epoch 15: 100%|█| 1/1 [00:00<00:00,  4.85it/s]\n"
     ]
    },
    {
     "name": "stdout",
     "output_type": "stream",
     "text": [
      "Epoch 15, Recall@10: 0.0252\n"
     ]
    },
    {
     "name": "stderr",
     "output_type": "stream",
     "text": [
      "Training Epoch 16: 100%|███| 2/2 [00:00<00:00,  4.38it/s]\n"
     ]
    },
    {
     "name": "stdout",
     "output_type": "stream",
     "text": [
      "Epoch 16, Training Loss: 1.1383\n"
     ]
    },
    {
     "name": "stderr",
     "output_type": "stream",
     "text": [
      "Evaluating Epoch 16: 100%|█| 1/1 [00:00<00:00,  5.04it/s]\n"
     ]
    },
    {
     "name": "stdout",
     "output_type": "stream",
     "text": [
      "Epoch 16, Recall@10: 0.0168\n"
     ]
    },
    {
     "name": "stderr",
     "output_type": "stream",
     "text": [
      "Training Epoch 17: 100%|███| 2/2 [00:00<00:00,  4.46it/s]\n"
     ]
    },
    {
     "name": "stdout",
     "output_type": "stream",
     "text": [
      "Epoch 17, Training Loss: 1.0979\n"
     ]
    },
    {
     "name": "stderr",
     "output_type": "stream",
     "text": [
      "Evaluating Epoch 17: 100%|█| 1/1 [00:00<00:00,  4.42it/s]\n"
     ]
    },
    {
     "name": "stdout",
     "output_type": "stream",
     "text": [
      "Epoch 17, Recall@10: 0.0168\n"
     ]
    },
    {
     "name": "stderr",
     "output_type": "stream",
     "text": [
      "Training Epoch 18: 100%|███| 2/2 [00:00<00:00,  4.79it/s]\n"
     ]
    },
    {
     "name": "stdout",
     "output_type": "stream",
     "text": [
      "Epoch 18, Training Loss: 1.1085\n"
     ]
    },
    {
     "name": "stderr",
     "output_type": "stream",
     "text": [
      "Evaluating Epoch 18: 100%|█| 1/1 [00:00<00:00,  5.23it/s]\n"
     ]
    },
    {
     "name": "stdout",
     "output_type": "stream",
     "text": [
      "Epoch 18, Recall@10: 0.0084\n"
     ]
    },
    {
     "name": "stderr",
     "output_type": "stream",
     "text": [
      "Training Epoch 19: 100%|███| 2/2 [00:00<00:00,  4.70it/s]\n"
     ]
    },
    {
     "name": "stdout",
     "output_type": "stream",
     "text": [
      "Epoch 19, Training Loss: 1.0590\n"
     ]
    },
    {
     "name": "stderr",
     "output_type": "stream",
     "text": [
      "Evaluating Epoch 19: 100%|█| 1/1 [00:00<00:00,  5.77it/s]\n"
     ]
    },
    {
     "name": "stdout",
     "output_type": "stream",
     "text": [
      "Epoch 19, Recall@10: 0.0084\n"
     ]
    },
    {
     "name": "stderr",
     "output_type": "stream",
     "text": [
      "Training Epoch 20: 100%|███| 2/2 [00:00<00:00,  4.99it/s]\n"
     ]
    },
    {
     "name": "stdout",
     "output_type": "stream",
     "text": [
      "Epoch 20, Training Loss: 1.0415\n"
     ]
    },
    {
     "name": "stderr",
     "output_type": "stream",
     "text": [
      "Evaluating Epoch 20: 100%|█| 1/1 [00:00<00:00,  5.80it/s]\n"
     ]
    },
    {
     "name": "stdout",
     "output_type": "stream",
     "text": [
      "Epoch 20, Recall@10: 0.0084\n"
     ]
    },
    {
     "name": "stderr",
     "output_type": "stream",
     "text": [
      "Training Epoch 21: 100%|███| 2/2 [00:00<00:00,  4.97it/s]\n"
     ]
    },
    {
     "name": "stdout",
     "output_type": "stream",
     "text": [
      "Epoch 21, Training Loss: 1.0456\n"
     ]
    },
    {
     "name": "stderr",
     "output_type": "stream",
     "text": [
      "Evaluating Epoch 21: 100%|█| 1/1 [00:00<00:00,  4.85it/s]\n"
     ]
    },
    {
     "name": "stdout",
     "output_type": "stream",
     "text": [
      "Epoch 21, Recall@10: 0.0252\n"
     ]
    },
    {
     "name": "stderr",
     "output_type": "stream",
     "text": [
      "Training Epoch 22: 100%|███| 2/2 [00:00<00:00,  4.88it/s]\n"
     ]
    },
    {
     "name": "stdout",
     "output_type": "stream",
     "text": [
      "Epoch 22, Training Loss: 0.9712\n"
     ]
    },
    {
     "name": "stderr",
     "output_type": "stream",
     "text": [
      "Evaluating Epoch 22: 100%|█| 1/1 [00:00<00:00,  5.73it/s]\n"
     ]
    },
    {
     "name": "stdout",
     "output_type": "stream",
     "text": [
      "Epoch 22, Recall@10: 0.0252\n"
     ]
    },
    {
     "name": "stderr",
     "output_type": "stream",
     "text": [
      "Training Epoch 23: 100%|███| 2/2 [00:00<00:00,  5.06it/s]\n"
     ]
    },
    {
     "name": "stdout",
     "output_type": "stream",
     "text": [
      "Epoch 23, Training Loss: 0.9945\n"
     ]
    },
    {
     "name": "stderr",
     "output_type": "stream",
     "text": [
      "Evaluating Epoch 23: 100%|█| 1/1 [00:00<00:00,  5.39it/s]\n"
     ]
    },
    {
     "name": "stdout",
     "output_type": "stream",
     "text": [
      "Epoch 23, Recall@10: 0.0252\n"
     ]
    },
    {
     "name": "stderr",
     "output_type": "stream",
     "text": [
      "Training Epoch 24: 100%|███| 2/2 [00:00<00:00,  5.03it/s]\n"
     ]
    },
    {
     "name": "stdout",
     "output_type": "stream",
     "text": [
      "Epoch 24, Training Loss: 0.9243\n"
     ]
    },
    {
     "name": "stderr",
     "output_type": "stream",
     "text": [
      "Evaluating Epoch 24: 100%|█| 1/1 [00:00<00:00,  5.17it/s]\n"
     ]
    },
    {
     "name": "stdout",
     "output_type": "stream",
     "text": [
      "Epoch 24, Recall@10: 0.0252\n"
     ]
    },
    {
     "name": "stderr",
     "output_type": "stream",
     "text": [
      "Training Epoch 25: 100%|███| 2/2 [00:00<00:00,  5.13it/s]\n"
     ]
    },
    {
     "name": "stdout",
     "output_type": "stream",
     "text": [
      "Epoch 25, Training Loss: 0.9414\n"
     ]
    },
    {
     "name": "stderr",
     "output_type": "stream",
     "text": [
      "Evaluating Epoch 25: 100%|█| 1/1 [00:00<00:00,  5.37it/s]\n"
     ]
    },
    {
     "name": "stdout",
     "output_type": "stream",
     "text": [
      "Epoch 25, Recall@10: 0.0252\n"
     ]
    },
    {
     "name": "stderr",
     "output_type": "stream",
     "text": [
      "Training Epoch 26: 100%|███| 2/2 [00:00<00:00,  5.00it/s]\n"
     ]
    },
    {
     "name": "stdout",
     "output_type": "stream",
     "text": [
      "Epoch 26, Training Loss: 0.9009\n"
     ]
    },
    {
     "name": "stderr",
     "output_type": "stream",
     "text": [
      "Evaluating Epoch 26: 100%|█| 1/1 [00:00<00:00,  5.31it/s]\n"
     ]
    },
    {
     "name": "stdout",
     "output_type": "stream",
     "text": [
      "Epoch 26, Recall@10: 0.0168\n"
     ]
    },
    {
     "name": "stderr",
     "output_type": "stream",
     "text": [
      "Training Epoch 27: 100%|███| 2/2 [00:00<00:00,  5.07it/s]\n"
     ]
    },
    {
     "name": "stdout",
     "output_type": "stream",
     "text": [
      "Epoch 27, Training Loss: 0.8706\n"
     ]
    },
    {
     "name": "stderr",
     "output_type": "stream",
     "text": [
      "Evaluating Epoch 27: 100%|█| 1/1 [00:00<00:00,  5.67it/s]\n"
     ]
    },
    {
     "name": "stdout",
     "output_type": "stream",
     "text": [
      "Epoch 27, Recall@10: 0.0168\n"
     ]
    },
    {
     "name": "stderr",
     "output_type": "stream",
     "text": [
      "Training Epoch 28: 100%|███| 2/2 [00:00<00:00,  5.09it/s]\n"
     ]
    },
    {
     "name": "stdout",
     "output_type": "stream",
     "text": [
      "Epoch 28, Training Loss: 0.8661\n"
     ]
    },
    {
     "name": "stderr",
     "output_type": "stream",
     "text": [
      "Evaluating Epoch 28: 100%|█| 1/1 [00:00<00:00,  5.67it/s]\n"
     ]
    },
    {
     "name": "stdout",
     "output_type": "stream",
     "text": [
      "Epoch 28, Recall@10: 0.0168\n"
     ]
    },
    {
     "name": "stderr",
     "output_type": "stream",
     "text": [
      "Training Epoch 29: 100%|███| 2/2 [00:00<00:00,  5.11it/s]\n"
     ]
    },
    {
     "name": "stdout",
     "output_type": "stream",
     "text": [
      "Epoch 29, Training Loss: 0.8451\n"
     ]
    },
    {
     "name": "stderr",
     "output_type": "stream",
     "text": [
      "Evaluating Epoch 29: 100%|█| 1/1 [00:00<00:00,  5.07it/s]\n"
     ]
    },
    {
     "name": "stdout",
     "output_type": "stream",
     "text": [
      "Epoch 29, Recall@10: 0.0084\n"
     ]
    },
    {
     "name": "stderr",
     "output_type": "stream",
     "text": [
      "Training Epoch 30: 100%|███| 2/2 [00:00<00:00,  5.20it/s]\n"
     ]
    },
    {
     "name": "stdout",
     "output_type": "stream",
     "text": [
      "Epoch 30, Training Loss: 0.8496\n"
     ]
    },
    {
     "name": "stderr",
     "output_type": "stream",
     "text": [
      "Evaluating Epoch 30: 100%|█| 1/1 [00:00<00:00,  4.67it/s]\n"
     ]
    },
    {
     "name": "stdout",
     "output_type": "stream",
     "text": [
      "Epoch 30, Recall@10: 0.0000\n"
     ]
    },
    {
     "name": "stderr",
     "output_type": "stream",
     "text": [
      "Training Epoch 31: 100%|███| 2/2 [00:00<00:00,  5.00it/s]\n"
     ]
    },
    {
     "name": "stdout",
     "output_type": "stream",
     "text": [
      "Epoch 31, Training Loss: 0.8083\n"
     ]
    },
    {
     "name": "stderr",
     "output_type": "stream",
     "text": [
      "Evaluating Epoch 31: 100%|█| 1/1 [00:00<00:00,  5.23it/s]\n"
     ]
    },
    {
     "name": "stdout",
     "output_type": "stream",
     "text": [
      "Epoch 31, Recall@10: 0.0084\n"
     ]
    },
    {
     "name": "stderr",
     "output_type": "stream",
     "text": [
      "Training Epoch 32: 100%|███| 2/2 [00:00<00:00,  5.16it/s]\n"
     ]
    },
    {
     "name": "stdout",
     "output_type": "stream",
     "text": [
      "Epoch 32, Training Loss: 0.7874\n"
     ]
    },
    {
     "name": "stderr",
     "output_type": "stream",
     "text": [
      "Evaluating Epoch 32: 100%|█| 1/1 [00:00<00:00,  5.25it/s]\n"
     ]
    },
    {
     "name": "stdout",
     "output_type": "stream",
     "text": [
      "Epoch 32, Recall@10: 0.0084\n"
     ]
    },
    {
     "name": "stderr",
     "output_type": "stream",
     "text": [
      "Training Epoch 33: 100%|███| 2/2 [00:00<00:00,  5.03it/s]\n"
     ]
    },
    {
     "name": "stdout",
     "output_type": "stream",
     "text": [
      "Epoch 33, Training Loss: 0.7491\n"
     ]
    },
    {
     "name": "stderr",
     "output_type": "stream",
     "text": [
      "Evaluating Epoch 33: 100%|█| 1/1 [00:00<00:00,  5.70it/s]\n"
     ]
    },
    {
     "name": "stdout",
     "output_type": "stream",
     "text": [
      "Epoch 33, Recall@10: 0.0084\n"
     ]
    },
    {
     "name": "stderr",
     "output_type": "stream",
     "text": [
      "Training Epoch 34: 100%|███| 2/2 [00:00<00:00,  5.11it/s]\n"
     ]
    },
    {
     "name": "stdout",
     "output_type": "stream",
     "text": [
      "Epoch 34, Training Loss: 0.7943\n"
     ]
    },
    {
     "name": "stderr",
     "output_type": "stream",
     "text": [
      "Evaluating Epoch 34: 100%|█| 1/1 [00:00<00:00,  5.48it/s]\n"
     ]
    },
    {
     "name": "stdout",
     "output_type": "stream",
     "text": [
      "Epoch 34, Recall@10: 0.0084\n"
     ]
    },
    {
     "name": "stderr",
     "output_type": "stream",
     "text": [
      "Training Epoch 35: 100%|███| 2/2 [00:00<00:00,  4.99it/s]\n"
     ]
    },
    {
     "name": "stdout",
     "output_type": "stream",
     "text": [
      "Epoch 35, Training Loss: 0.7251\n"
     ]
    },
    {
     "name": "stderr",
     "output_type": "stream",
     "text": [
      "Evaluating Epoch 35: 100%|█| 1/1 [00:00<00:00,  5.20it/s]\n"
     ]
    },
    {
     "name": "stdout",
     "output_type": "stream",
     "text": [
      "Epoch 35, Recall@10: 0.0168\n"
     ]
    },
    {
     "name": "stderr",
     "output_type": "stream",
     "text": [
      "Training Epoch 36: 100%|███| 2/2 [00:00<00:00,  5.07it/s]\n"
     ]
    },
    {
     "name": "stdout",
     "output_type": "stream",
     "text": [
      "Epoch 36, Training Loss: 0.7340\n"
     ]
    },
    {
     "name": "stderr",
     "output_type": "stream",
     "text": [
      "Evaluating Epoch 36: 100%|█| 1/1 [00:00<00:00,  5.42it/s]\n"
     ]
    },
    {
     "name": "stdout",
     "output_type": "stream",
     "text": [
      "Epoch 36, Recall@10: 0.0084\n"
     ]
    },
    {
     "name": "stderr",
     "output_type": "stream",
     "text": [
      "Training Epoch 37: 100%|███| 2/2 [00:00<00:00,  4.95it/s]\n"
     ]
    },
    {
     "name": "stdout",
     "output_type": "stream",
     "text": [
      "Epoch 37, Training Loss: 0.7199\n"
     ]
    },
    {
     "name": "stderr",
     "output_type": "stream",
     "text": [
      "Evaluating Epoch 37: 100%|█| 1/1 [00:00<00:00,  5.25it/s]\n"
     ]
    },
    {
     "name": "stdout",
     "output_type": "stream",
     "text": [
      "Epoch 37, Recall@10: 0.0168\n"
     ]
    },
    {
     "name": "stderr",
     "output_type": "stream",
     "text": [
      "Training Epoch 38: 100%|███| 2/2 [00:00<00:00,  5.08it/s]\n"
     ]
    },
    {
     "name": "stdout",
     "output_type": "stream",
     "text": [
      "Epoch 38, Training Loss: 0.7390\n"
     ]
    },
    {
     "name": "stderr",
     "output_type": "stream",
     "text": [
      "Evaluating Epoch 38: 100%|█| 1/1 [00:00<00:00,  5.51it/s]\n"
     ]
    },
    {
     "name": "stdout",
     "output_type": "stream",
     "text": [
      "Epoch 38, Recall@10: 0.0252\n"
     ]
    },
    {
     "name": "stderr",
     "output_type": "stream",
     "text": [
      "Training Epoch 39: 100%|███| 2/2 [00:00<00:00,  4.99it/s]\n"
     ]
    },
    {
     "name": "stdout",
     "output_type": "stream",
     "text": [
      "Epoch 39, Training Loss: 0.7058\n"
     ]
    },
    {
     "name": "stderr",
     "output_type": "stream",
     "text": [
      "Evaluating Epoch 39: 100%|█| 1/1 [00:00<00:00,  5.61it/s]\n"
     ]
    },
    {
     "name": "stdout",
     "output_type": "stream",
     "text": [
      "Epoch 39, Recall@10: 0.0252\n"
     ]
    },
    {
     "name": "stderr",
     "output_type": "stream",
     "text": [
      "Training Epoch 40: 100%|███| 2/2 [00:00<00:00,  5.27it/s]\n"
     ]
    },
    {
     "name": "stdout",
     "output_type": "stream",
     "text": [
      "Epoch 40, Training Loss: 0.7746\n"
     ]
    },
    {
     "name": "stderr",
     "output_type": "stream",
     "text": [
      "Evaluating Epoch 40: 100%|█| 1/1 [00:00<00:00,  4.80it/s]\n"
     ]
    },
    {
     "name": "stdout",
     "output_type": "stream",
     "text": [
      "Epoch 40, Recall@10: 0.0252\n"
     ]
    },
    {
     "name": "stderr",
     "output_type": "stream",
     "text": [
      "Training Epoch 41: 100%|███| 2/2 [00:00<00:00,  5.02it/s]\n"
     ]
    },
    {
     "name": "stdout",
     "output_type": "stream",
     "text": [
      "Epoch 41, Training Loss: 0.6722\n"
     ]
    },
    {
     "name": "stderr",
     "output_type": "stream",
     "text": [
      "Evaluating Epoch 41: 100%|█| 1/1 [00:00<00:00,  5.02it/s]\n"
     ]
    },
    {
     "name": "stdout",
     "output_type": "stream",
     "text": [
      "Epoch 41, Recall@10: 0.0336\n"
     ]
    },
    {
     "name": "stderr",
     "output_type": "stream",
     "text": [
      "Training Epoch 42: 100%|███| 2/2 [00:00<00:00,  5.08it/s]\n"
     ]
    },
    {
     "name": "stdout",
     "output_type": "stream",
     "text": [
      "Epoch 42, Training Loss: 0.6745\n"
     ]
    },
    {
     "name": "stderr",
     "output_type": "stream",
     "text": [
      "Evaluating Epoch 42: 100%|█| 1/1 [00:00<00:00,  5.07it/s]\n"
     ]
    },
    {
     "name": "stdout",
     "output_type": "stream",
     "text": [
      "Epoch 42, Recall@10: 0.0420\n"
     ]
    },
    {
     "name": "stderr",
     "output_type": "stream",
     "text": [
      "Training Epoch 43: 100%|███| 2/2 [00:00<00:00,  4.91it/s]\n"
     ]
    },
    {
     "name": "stdout",
     "output_type": "stream",
     "text": [
      "Epoch 43, Training Loss: 0.7196\n"
     ]
    },
    {
     "name": "stderr",
     "output_type": "stream",
     "text": [
      "Evaluating Epoch 43: 100%|█| 1/1 [00:00<00:00,  5.20it/s]\n"
     ]
    },
    {
     "name": "stdout",
     "output_type": "stream",
     "text": [
      "Epoch 43, Recall@10: 0.0336\n"
     ]
    },
    {
     "name": "stderr",
     "output_type": "stream",
     "text": [
      "Training Epoch 44: 100%|███| 2/2 [00:00<00:00,  5.25it/s]\n"
     ]
    },
    {
     "name": "stdout",
     "output_type": "stream",
     "text": [
      "Epoch 44, Training Loss: 0.6674\n"
     ]
    },
    {
     "name": "stderr",
     "output_type": "stream",
     "text": [
      "Evaluating Epoch 44: 100%|█| 1/1 [00:00<00:00,  4.87it/s]\n"
     ]
    },
    {
     "name": "stdout",
     "output_type": "stream",
     "text": [
      "Epoch 44, Recall@10: 0.0420\n"
     ]
    },
    {
     "name": "stderr",
     "output_type": "stream",
     "text": [
      "Training Epoch 45: 100%|███| 2/2 [00:00<00:00,  5.12it/s]\n"
     ]
    },
    {
     "name": "stdout",
     "output_type": "stream",
     "text": [
      "Epoch 45, Training Loss: 0.6826\n"
     ]
    },
    {
     "name": "stderr",
     "output_type": "stream",
     "text": [
      "Evaluating Epoch 45: 100%|█| 1/1 [00:00<00:00,  5.39it/s]\n"
     ]
    },
    {
     "name": "stdout",
     "output_type": "stream",
     "text": [
      "Epoch 45, Recall@10: 0.0420\n"
     ]
    },
    {
     "name": "stderr",
     "output_type": "stream",
     "text": [
      "Training Epoch 46: 100%|███| 2/2 [00:00<00:00,  4.99it/s]\n"
     ]
    },
    {
     "name": "stdout",
     "output_type": "stream",
     "text": [
      "Epoch 46, Training Loss: 0.6669\n"
     ]
    },
    {
     "name": "stderr",
     "output_type": "stream",
     "text": [
      "Evaluating Epoch 46: 100%|█| 1/1 [00:00<00:00,  5.51it/s]\n"
     ]
    },
    {
     "name": "stdout",
     "output_type": "stream",
     "text": [
      "Epoch 46, Recall@10: 0.0336\n"
     ]
    },
    {
     "name": "stderr",
     "output_type": "stream",
     "text": [
      "Training Epoch 47: 100%|███| 2/2 [00:00<00:00,  5.20it/s]\n"
     ]
    },
    {
     "name": "stdout",
     "output_type": "stream",
     "text": [
      "Epoch 47, Training Loss: 0.6421\n"
     ]
    },
    {
     "name": "stderr",
     "output_type": "stream",
     "text": [
      "Evaluating Epoch 47: 100%|█| 1/1 [00:00<00:00,  5.25it/s]\n"
     ]
    },
    {
     "name": "stdout",
     "output_type": "stream",
     "text": [
      "Epoch 47, Recall@10: 0.0252\n"
     ]
    },
    {
     "name": "stderr",
     "output_type": "stream",
     "text": [
      "Training Epoch 48: 100%|███| 2/2 [00:00<00:00,  5.24it/s]\n"
     ]
    },
    {
     "name": "stdout",
     "output_type": "stream",
     "text": [
      "Epoch 48, Training Loss: 0.6284\n"
     ]
    },
    {
     "name": "stderr",
     "output_type": "stream",
     "text": [
      "Evaluating Epoch 48: 100%|█| 1/1 [00:00<00:00,  5.67it/s]\n"
     ]
    },
    {
     "name": "stdout",
     "output_type": "stream",
     "text": [
      "Epoch 48, Recall@10: 0.0336\n"
     ]
    },
    {
     "name": "stderr",
     "output_type": "stream",
     "text": [
      "Training Epoch 49: 100%|███| 2/2 [00:00<00:00,  5.05it/s]\n"
     ]
    },
    {
     "name": "stdout",
     "output_type": "stream",
     "text": [
      "Epoch 49, Training Loss: 0.5998\n"
     ]
    },
    {
     "name": "stderr",
     "output_type": "stream",
     "text": [
      "Evaluating Epoch 49: 100%|█| 1/1 [00:00<00:00,  4.85it/s]\n"
     ]
    },
    {
     "name": "stdout",
     "output_type": "stream",
     "text": [
      "Epoch 49, Recall@10: 0.0336\n"
     ]
    },
    {
     "name": "stderr",
     "output_type": "stream",
     "text": [
      "Training Epoch 50: 100%|███| 2/2 [00:00<00:00,  5.16it/s]\n"
     ]
    },
    {
     "name": "stdout",
     "output_type": "stream",
     "text": [
      "Epoch 50, Training Loss: 0.6205\n"
     ]
    },
    {
     "name": "stderr",
     "output_type": "stream",
     "text": [
      "Evaluating Epoch 50: 100%|█| 1/1 [00:00<00:00,  5.17it/s]"
     ]
    },
    {
     "name": "stdout",
     "output_type": "stream",
     "text": [
      "Epoch 50, Recall@10: 0.0252\n"
     ]
    },
    {
     "name": "stderr",
     "output_type": "stream",
     "text": [
      "\n"
     ]
    }
   ],
   "source": [
    "import warnings\n",
    "import matplotlib.pyplot as plt\n",
    "import seaborn as sns\n",
    "import torch.nn.functional as F\n",
    "warnings.filterwarnings(\"ignore\", category=UserWarning)\n",
    "embedding_dim = 128 \n",
    "user_feature_dim = user_features.shape[1]\n",
    "business_feature_dim = business_features.shape[1] + 768 + 512\n",
    "print(\"business_features.shape:\", business_features.shape)\n",
    "print(\"business_feature_dim:\", business_feature_dim)\n",
    "model = TwoTowerModel(user_feature_dim, business_feature_dim, embedding_dim)\n",
    "model.to(device)\n",
    "optimizer = torch.optim.AdamW(model.parameters(), lr=1e-4, weight_decay=1e-5)\n",
    "scheduler = torch.optim.lr_scheduler.StepLR(optimizer, step_size=2, gamma=0.3)\n",
    "num_epochs = 50\n",
    "train_losses = []\n",
    "val_roc_aucs = []\n",
    "results = []\n",
    "for epoch in range(num_epochs):\n",
    "    avg_loss = train_model(model, train_loader, optimizer, epoch)\n",
    "    roc_auc = evaluate_model(model, val_loader, epoch)\n"
   ]
  },
  {
   "cell_type": "code",
   "execution_count": 4,
   "id": "75dbd6fa",
   "metadata": {},
   "outputs": [
    {
     "data": {
      "image/png": "[encoded data removed]",
      "text/plain": [
       "<Figure size 1200x1000 with 2 Axes>"
      ]
     },
     "metadata": {},
     "output_type": "display_data"
    }
   ],
   "source": [
    "import numpy as np\n",
    "import seaborn as sns\n",
    "import matplotlib.pyplot as plt\n",
    "from sklearn.metrics.pairwise import cosine_similarity\n",
    "sample_size = 20\n",
    "sample_data = data.sample(n=sample_size, random_state=42).reset_index(drop=True)\n",
    "sample_embeddings = np.stack(sample_data['text_embedding'].values)\n",
    "\n",
    "# Compute cosine similarity matrix\n",
    "similarity_matrix = cosine_similarity(sample_embeddings)\n",
    "\n",
    "# Plot the heatmap\n",
    "plt.figure(figsize=(12, 10))\n",
    "sns.heatmap(similarity_matrix, annot=False, cmap='Blues')\n",
    "plt.title('USE Transformer Encoder Heatmap')\n",
    "plt.xlabel('Review Index')\n",
    "plt.ylabel('Review Index')\n",
    "plt.show()\n"
   ]
  },
  {
   "cell_type": "code",
   "execution_count": 5,
   "id": "007f34e4",
   "metadata": {},
   "outputs": [
    {
     "data": {
      "image/png": "[encoded data removed]",
      "text/plain": [
       "<Figure size 800x800 with 2 Axes>"
      ]
     },
     "metadata": {},
     "output_type": "display_data"
    }
   ],
   "source": [
    "import pandas as pd\n",
    "import numpy as np\n",
    "import os\n",
    "from PIL import Image\n",
    "from sklearn.metrics import confusion_matrix, ConfusionMatrixDisplay\n",
    "from sklearn.preprocessing import LabelEncoder\n",
    "from sklearn.model_selection import train_test_split\n",
    "from sklearn.linear_model import LogisticRegression\n",
    "import matplotlib.pyplot as plt\n",
    "photo_df = pd.read_json('photos.json', lines=True,nrows=5000)\n",
    "labels_to_use = ['food', 'drink', 'menu', 'inside', 'outside']\n",
    "photo_df = photo_df[photo_df['label'].isin(labels_to_use)]\n",
    "label_encoder = LabelEncoder()\n",
    "photo_df['label_encoded'] = label_encoder.fit_transform(photo_df['label'])\n",
    "train_photos, test_photos = train_test_split(photo_df, test_size=0.2, random_state=42, stratify=photo_df['label'])\n",
    "def get_image_embedding(image_path):\n",
    "    try:\n",
    "        image = Image.open(image_path).convert(\"RGB\")\n",
    "        inputs = clip_processor(images=image, return_tensors=\"pt\").to(device)\n",
    "        with torch.no_grad():\n",
    "            outputs = clip_model.get_image_features(**inputs)\n",
    "        embedding = outputs.cpu().numpy()[0]\n",
    "        return embedding\n",
    "    except Exception:\n",
    "        return np.zeros(512)\n",
    "train_embeddings = []\n",
    "for photo_id in train_photos['photo_id']:\n",
    "    image_path = os.path.join('photos', f'{photo_id}.jpg')\n",
    "    embedding = get_image_embedding(image_path)\n",
    "    train_embeddings.append(embedding)\n",
    "train_embeddings = np.array(train_embeddings)\n",
    "test_embeddings = []\n",
    "for photo_id in test_photos['photo_id']:\n",
    "    image_path = os.path.join('photos', f'{photo_id}.jpg')\n",
    "    embedding = get_image_embedding(image_path)\n",
    "    test_embeddings.append(embedding)\n",
    "test_embeddings = np.array(test_embeddings)\n",
    "clf = LogisticRegression(max_iter=1000)\n",
    "clf.fit(train_embeddings, train_photos['label_encoded'])\n",
    "preds = clf.predict(test_embeddings)\n",
    "true_labels = test_photos['label_encoded']\n",
    "cm = confusion_matrix(true_labels, preds, normalize='true')\n",
    "disp = ConfusionMatrixDisplay(confusion_matrix=cm, display_labels=label_encoder.classes_)\n",
    "fig, ax = plt.subplots(figsize=(8, 8))\n",
    "disp.plot(cmap='Blues', ax=ax, values_format='.2f')\n",
    "plt.title('5-way Precision Confusion Matrix')\n",
    "plt.xlabel('Predicted Label')\n",
    "plt.ylabel('True Label')\n",
    "plt.show()\n"
   ]
  },
  {
   "cell_type": "code",
   "execution_count": 6,
   "id": "ae0c0a6b",
   "metadata": {},
   "outputs": [
    {
     "name": "stdout",
     "output_type": "stream",
     "text": [
      "['inside' 'outside' 'drink' 'food' 'menu']\n"
     ]
    },
    {
     "name": "stderr",
     "output_type": "stream",
     "text": [
      "d:\\python37\\lib\\site-packages\\ipykernel_launcher.py:7: SettingWithCopyWarning: \n",
      "A value is trying to be set on a copy of a slice from a DataFrame.\n",
      "Try using .loc[row_indexer,col_indexer] = value instead\n",
      "\n",
      "See the caveats in the documentation: https://pandas.pydata.org/pandas-docs/stable/user_guide/indexing.html#returning-a-view-versus-a-copy\n",
      "  import sys\n"
     ]
    },
    {
     "data": {
      "image/png": "[encoded data removed]",
      "text/plain": [
       "<Figure size 800x800 with 2 Axes>"
      ]
     },
     "metadata": {},
     "output_type": "display_data"
    }
   ],
   "source": [
    "unique_labels = photo_df['label'].unique()\n",
    "print(unique_labels)\n",
    "home_service_categories = ['inside', 'outside']\n",
    "photo_df_home = photo_df[photo_df['label'].isin(home_service_categories)]\n",
    "\n",
    "label_encoder_home = LabelEncoder()\n",
    "photo_df_home['label_encoded'] = label_encoder_home.fit_transform(photo_df_home['label'])\n",
    "\n",
    "train_photos_home, test_photos_home = train_test_split(photo_df_home, test_size=0.2, random_state=42, stratify=photo_df_home['label'])\n",
    "\n",
    "train_embeddings_home = []\n",
    "for photo_id in train_photos_home['photo_id']:\n",
    "    image_path = os.path.join('photos', f'{photo_id}.jpg')\n",
    "    embedding = get_image_embedding(image_path)\n",
    "    train_embeddings_home.append(embedding)\n",
    "train_embeddings_home = np.array(train_embeddings_home)\n",
    "\n",
    "test_embeddings_home = []\n",
    "for photo_id in test_photos_home['photo_id']:\n",
    "    image_path = os.path.join('photos', f'{photo_id}.jpg')\n",
    "    embedding = get_image_embedding(image_path)\n",
    "    test_embeddings_home.append(embedding)\n",
    "test_embeddings_home = np.array(test_embeddings_home)\n",
    "\n",
    "clf_home = LogisticRegression(max_iter=1000)\n",
    "clf_home.fit(train_embeddings_home, train_photos_home['label_encoded'])\n",
    "\n",
    "preds_home = clf_home.predict(test_embeddings_home)\n",
    "true_labels_home = test_photos_home['label_encoded']\n",
    "\n",
    "cm_home = confusion_matrix(true_labels_home, preds_home, normalize='true')\n",
    "disp_home = ConfusionMatrixDisplay(confusion_matrix=cm_home, display_labels=label_encoder_home.classes_)\n",
    "fig, ax = plt.subplots(figsize=(8, 8))\n",
    "disp_home.plot(cmap='Blues', ax=ax, values_format='.2f')\n",
    "plt.title('Home Services Contractors Precision Confusion Matrix')\n",
    "plt.xlabel('Predicted Label')\n",
    "plt.ylabel('True Label')\n",
    "plt.show()\n"
   ]
  },
  {
   "cell_type": "code",
   "execution_count": 7,
   "id": "ab1a02cc",
   "metadata": {},
   "outputs": [
    {
     "name": "stderr",
     "output_type": "stream",
     "text": [
      "100%|██████████████████| 592/592 [00:11<00:00, 50.84it/s]\n"
     ]
    }
   ],
   "source": [
    "from tqdm import tqdm\n",
    "tqdm.pandas()\n",
    "\n",
    "def get_text_embedding(text):\n",
    "    if not isinstance(text, str) or text.strip() == '':\n",
    "        return np.zeros(768)\n",
    "    try:\n",
    "        inputs = tokenizer(text, return_tensors='pt', truncation=True, max_length=512)\n",
    "        inputs = {k: v.to(device) for k, v in inputs.items()}\n",
    "        with torch.no_grad():\n",
    "            outputs = bert_model(**inputs)\n",
    "        embedding = outputs.last_hidden_state[:, 0, :].cpu().numpy()[0]\n",
    "        return embedding\n",
    "    except Exception as e:\n",
    "        print(f\"Error processing text: {text}\")\n",
    "        print(e)\n",
    "        return np.zeros(768)\n",
    "\n",
    "data = data.dropna(subset=['text'])\n",
    "data['text_embedding'] = data['text'].progress_apply(get_text_embedding)"
   ]
  },
  {
   "cell_type": "code",
   "execution_count": 8,
   "id": "0ed7749d",
   "metadata": {},
   "outputs": [],
   "source": [
    "from sklearn.metrics.pairwise import cosine_similarity\n",
    "\n",
    "sample_data = data.head(100)\n",
    "embeddings = np.stack(sample_data['text_embedding'].values)\n",
    "\n",
    "similarity_matrix = cosine_similarity(embeddings)"
   ]
  },
  {
   "cell_type": "code",
   "execution_count": 9,
   "id": "2e90dd0e",
   "metadata": {},
   "outputs": [
    {
     "name": "stderr",
     "output_type": "stream",
     "text": [
      "d:\\python37\\lib\\site-packages\\IPython\\core\\pylabtools.py:151: UserWarning: Glyph 35780 (\\N{CJK UNIFIED IDEOGRAPH-8BC4}) missing from current font.\n",
      "  fig.canvas.print_figure(bytes_io, **kw)\n",
      "d:\\python37\\lib\\site-packages\\IPython\\core\\pylabtools.py:151: UserWarning: Glyph 35770 (\\N{CJK UNIFIED IDEOGRAPH-8BBA}) missing from current font.\n",
      "  fig.canvas.print_figure(bytes_io, **kw)\n",
      "d:\\python37\\lib\\site-packages\\IPython\\core\\pylabtools.py:151: UserWarning: Glyph 30456 (\\N{CJK UNIFIED IDEOGRAPH-76F8}) missing from current font.\n",
      "  fig.canvas.print_figure(bytes_io, **kw)\n",
      "d:\\python37\\lib\\site-packages\\IPython\\core\\pylabtools.py:151: UserWarning: Glyph 20284 (\\N{CJK UNIFIED IDEOGRAPH-4F3C}) missing from current font.\n",
      "  fig.canvas.print_figure(bytes_io, **kw)\n",
      "d:\\python37\\lib\\site-packages\\IPython\\core\\pylabtools.py:151: UserWarning: Glyph 24615 (\\N{CJK UNIFIED IDEOGRAPH-6027}) missing from current font.\n",
      "  fig.canvas.print_figure(bytes_io, **kw)\n",
      "d:\\python37\\lib\\site-packages\\IPython\\core\\pylabtools.py:151: UserWarning: Glyph 28909 (\\N{CJK UNIFIED IDEOGRAPH-70ED}) missing from current font.\n",
      "  fig.canvas.print_figure(bytes_io, **kw)\n",
      "d:\\python37\\lib\\site-packages\\IPython\\core\\pylabtools.py:151: UserWarning: Glyph 21147 (\\N{CJK UNIFIED IDEOGRAPH-529B}) missing from current font.\n",
      "  fig.canvas.print_figure(bytes_io, **kw)\n",
      "d:\\python37\\lib\\site-packages\\IPython\\core\\pylabtools.py:151: UserWarning: Glyph 22270 (\\N{CJK UNIFIED IDEOGRAPH-56FE}) missing from current font.\n",
      "  fig.canvas.print_figure(bytes_io, **kw)\n",
      "d:\\python37\\lib\\site-packages\\IPython\\core\\pylabtools.py:151: UserWarning: Glyph 32034 (\\N{CJK UNIFIED IDEOGRAPH-7D22}) missing from current font.\n",
      "  fig.canvas.print_figure(bytes_io, **kw)\n",
      "d:\\python37\\lib\\site-packages\\IPython\\core\\pylabtools.py:151: UserWarning: Glyph 24341 (\\N{CJK UNIFIED IDEOGRAPH-5F15}) missing from current font.\n",
      "  fig.canvas.print_figure(bytes_io, **kw)\n"
     ]
    },
    {
     "data": {
      "image/png": "[encoded data removed]",
      "text/plain": [
       "<Figure size 1000x800 with 2 Axes>"
      ]
     },
     "metadata": {},
     "output_type": "display_data"
    }
   ],
   "source": [
    "import matplotlib.pyplot as plt\n",
    "import seaborn as sns\n",
    "\n",
    "plt.figure(figsize=(10, 8))\n",
    "sns.heatmap(similarity_matrix, cmap='viridis')\n",
    "plt.title('Yelp 评论相似性热力图')\n",
    "plt.xlabel('评论索引')\n",
    "plt.ylabel('评论索引')\n",
    "plt.show()"
   ]
  },
  {
   "cell_type": "code",
   "execution_count": null,
   "id": "823e44c5",
   "metadata": {},
   "outputs": [],
   "source": []
  }
 ],
 "metadata": {
  "kernelspec": {
   "display_name": "Python 3 (ipykernel)",
   "language": "python",
   "name": "python3"
  },
  "language_info": {
   "codemirror_mode": {
    "name": "ipython",
    "version": 3
   },
   "file_extension": ".py",
   "mimetype": "text/x-python",
   "name": "python",
   "nbconvert_exporter": "python",
   "pygments_lexer": "ipython3",
   "version": "3.7.8"
  }
 },
 "nbformat": 4,
 "nbformat_minor": 5
}
