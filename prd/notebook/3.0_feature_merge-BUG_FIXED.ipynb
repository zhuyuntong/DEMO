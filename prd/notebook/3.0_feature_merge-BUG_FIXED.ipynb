{
 "cells": [
  {
   "cell_type": "code",
   "execution_count": 1,
   "id": "38635df1-6878-4572-9588-8bcae2b1f218",
   "metadata": {
    "collapsed": true,
    "jupyter": {
     "outputs_hidden": true
    },
    "scrolled": true
   },
   "outputs": [
    {
     "name": "stderr",
     "output_type": "stream",
     "text": [
      "24/04/21 01:13:25 WARN NativeCodeLoader: Unable to load native-hadoop library for your platform... using builtin-java classes where applicable\n",
      "Using Spark's default log4j profile: org/apache/spark/log4j-defaults.properties\n",
      "Setting default log level to \"WARN\".\n",
      "To adjust logging level use sc.setLogLevel(newLevel). For SparkR, use setLogLevel(newLevel).\n",
      "----------------------------------------\n",
      "Exception happened during processing of request from ('127.0.0.1', 58770)\n",
      "Traceback (most recent call last):\n",
      "  File \"/usr/lib/python3.8/socketserver.py\", line 316, in _handle_request_noblock\n",
      "    self.process_request(request, client_address)\n",
      "  File \"/usr/lib/python3.8/socketserver.py\", line 347, in process_request\n",
      "    self.finish_request(request, client_address)\n",
      "  File \"/usr/lib/python3.8/socketserver.py\", line 360, in finish_request\n",
      "    self.RequestHandlerClass(request, client_address, self)\n",
      "  File \"/usr/lib/python3.8/socketserver.py\", line 747, in __init__\n",
      "    self.handle()\n",
      "  File \"/usr/local/lib/python3.8/dist-packages/pyspark/accumulators.py\", line 262, in handle\n",
      "    poll(accum_updates)\n",
      "  File \"/usr/local/lib/python3.8/dist-packages/pyspark/accumulators.py\", line 235, in poll\n",
      "    if func():\n",
      "  File \"/usr/local/lib/python3.8/dist-packages/pyspark/accumulators.py\", line 239, in accum_updates\n",
      "    num_updates = read_int(self.rfile)\n",
      "  File \"/usr/local/lib/python3.8/dist-packages/pyspark/serializers.py\", line 564, in read_int\n",
      "    raise EOFError\n",
      "EOFError\n",
      "----------------------------------------\n"
     ]
    }
   ],
   "source": [
    "import sys\n",
    "import time\n",
    "import csv\n",
    "import math\n",
    "import numpy as np\n",
    "import pyspark\n",
    "from pyspark import SparkContext, SparkConf\n",
    "import json\n",
    "from operator import add\n",
    "import pandas as pd\n",
    "import xgboost as xgb\n",
    "from sklearn import preprocessing\n",
    "from sklearn.model_selection import GridSearchCV\n",
    "from sklearn.metrics import mean_squared_error\n",
    "from node2vec import Node2Vec as n2v\n",
    "import networkx as nx\n",
    "from hashlib import md5\n",
    "import pickle\n",
    "import os\n",
    "import pandas as pd\n",
    "from xgboost import XGBRegressor\n",
    "\n",
    "pd.set_option(\"display.max_columns\", 100)\n",
    "pd.set_option('display.width', 100)\n",
    "pd.set_option(\"display.precision\", 2)\n",
    "\n",
    "folder_path = \"../data/\"\n",
    "test_filepath = \"../yelp_true.csv\"\n",
    "output_filepath = \"\"\n",
    "\n",
    "from utils import create_category_md5_mapping, integrate_mapping_user_bus_cat_data, dataframe_to_rdd_dict, analyze_top_business_categories, analyze_top_categories\n",
    "\n",
    "import json\n",
    "import numpy as np\n",
    "from pyspark import SparkContext, SparkConf\n",
    "from pyspark.mllib.recommendation import ALS, MatrixFactorizationModel, Rating\n",
    "\n",
    "def initialize_spark_context(APP_NAME=\"Train: XGBModel\"):\n",
    "    # Spark配置项列表\n",
    "    SPARK_CONF = [\n",
    "        (\"spark.dynamicAllocation.enabled\", \"true\"),  # 启用动态资源分配\n",
    "        (\"spark.dynamicAllocation.maxExecutors\", \"10\"),  # 最大执行器数量\n",
    "        (\"spark.executor.memory\", \"3g\"),  # 每个执行器的内存\n",
    "        (\"spark.executor.cores\", \"2\"),  # 每个执行器的CPU核心数\n",
    "        (\"spark.executor.memoryOverhead\", \"3000\"),  # 执行器内存开销\n",
    "        (\"spark.driver.memory\", \"4g\"),  # 驱动程序的内存\n",
    "        (\"spark.driver.maxResultSize\", \"2g\"),  # 驱动程序的最大结果大小\n",
    "        (\"spark.python.worker.memory\", \"2g\"),  # Python工作进程的内存\n",
    "        (\"spark.sql.shuffle.partitions\", \"20\"),  # Shuffle操作的分区数\n",
    "        (\"spark.sql.sources.partitionOverWriteMode\", \"dynamic\"),  # 分区覆写模式\n",
    "        (\"spark.network.timeout\", \"600s\"),  # 网络超时设置\n",
    "        (\"spark.executor.heartbeatInterval\", \"120s\"),  # 执行器心跳间隔\n",
    "    ]\n",
    "\n",
    "    # 创建Spark配置\n",
    "    spark_conf = pyspark.SparkConf()\n",
    "    spark_conf.setAppName(APP_NAME)\n",
    "    spark_conf.setAll(SPARK_CONF)\n",
    "\n",
    "    # 创建SparkContext\n",
    "    sc = pyspark.SparkContext(conf=spark_conf)\n",
    "    sc.setLogLevel(\"ERROR\")  # 设置日志级别\n",
    "\n",
    "    return sc\n",
    "\n",
    "sc = initialize_spark_context()"
   ]
  },
  {
   "cell_type": "markdown",
   "id": "a7304eeb-9cb7-4b04-8e1d-c6f4256298d5",
   "metadata": {},
   "source": [
    "### Begin"
   ]
  },
  {
   "cell_type": "code",
   "execution_count": 7,
   "id": "809fe3c5-c891-4c8c-a253-98f563649623",
   "metadata": {},
   "outputs": [],
   "source": [
    "import better_features\n",
    "from better_features import FeatureProcessor, read_json_data\n",
    "from datetime import datetime #add\n",
    "\n",
    "\n",
    "def rdd_to_pandas(rdd):\n",
    "    return pd.DataFrame(rdd.collect(), columns=rdd.first().keys())\n",
    "    \n",
    "data_path = '../data/'"
   ]
  },
  {
   "cell_type": "markdown",
   "id": "5a8a53fe-aabe-4cdc-b4be-ebcfd6b22f28",
   "metadata": {},
   "source": [
    "### RE-DO HERE IF NECESSARY (changed features)"
   ]
  },
  {
   "cell_type": "code",
   "execution_count": 6,
   "id": "372712df-1e35-4668-9014-673e490b10ff",
   "metadata": {
    "jupyter": {
     "source_hidden": true
    }
   },
   "outputs": [
    {
     "name": "stderr",
     "output_type": "stream",
     "text": [
      "                                                                                \r"
     ]
    }
   ],
   "source": [
    "import better_features\n",
    "from better_features import FeatureProcessor, read_json_data, transform_user_data, transform_business_data,extract_review_data\n",
    "from datetime import datetime #add\n",
    "\n",
    "def rdd_to_pandas(rdd):\n",
    "    return pd.DataFrame(rdd.collect(), columns=rdd.first().keys())\n",
    "\n",
    "user_rdd = sc.textFile(folder_path + '/user.json').map(transform_user_data)\n",
    "user_df = rdd_to_pandas(user_rdd)\n",
    "\n",
    "business_rdd = sc.textFile(folder_path + '/business.json').map(transform_business_data)\n",
    "business_df = rdd_to_pandas(business_rdd)\n",
    "# business_dict = read_json_data(folder_path + '/business.json', extract_business_data, sc).collectAsMap()\n",
    "\n",
    "review_data = read_json_data(folder_path + '/review_train.json', extract_review_data, sc).collect()"
   ]
  },
  {
   "cell_type": "code",
   "execution_count": 4,
   "id": "efc74fe7-ec17-471e-9cfa-d92e57dd1498",
   "metadata": {},
   "outputs": [
    {
     "name": "stderr",
     "output_type": "stream",
     "text": [
      "                                                                                \r"
     ]
    }
   ],
   "source": [
    "review_data = read_json_data(folder_path + '/review_train.json', extract_review_data, sc)\n",
    "review_df = rdd_to_pandas(review_data)"
   ]
  },
  {
   "cell_type": "code",
   "execution_count": 10,
   "id": "a3ff53e2-7a06-4ac8-937d-13e69e624893",
   "metadata": {},
   "outputs": [],
   "source": [
    "user_df.to_csv('cache/user_df.csv', index=False)\n",
    "business_df.to_csv('cache/business_df.csv', index=False)\n",
    "review_df.to_csv('cache/review_df.csv', index=False)"
   ]
  },
  {
   "cell_type": "raw",
   "id": "6e599a00-d944-478d-b836-06c02605fe04",
   "metadata": {},
   "source": [
    "votes per review"
   ]
  },
  {
   "cell_type": "code",
   "execution_count": null,
   "id": "ecb680e9-b837-4e1b-91f1-5b4767e9ae76",
   "metadata": {},
   "outputs": [],
   "source": [
    "# not consider now"
   ]
  },
  {
   "cell_type": "markdown",
   "id": "9f6ad679-540c-4e87-a241-61cb4e038cfe",
   "metadata": {},
   "source": [
    "## Now start to combine features"
   ]
  },
  {
   "cell_type": "code",
   "execution_count": 2,
   "id": "af271b47-676b-4fad-8692-123389ce2e46",
   "metadata": {},
   "outputs": [],
   "source": []
  },
  {
   "cell_type": "code",
   "execution_count": 3,
   "id": "337fba01-74c1-426a-9d12-4705ed0716b2",
   "metadata": {},
   "outputs": [
    {
     "name": "stderr",
     "output_type": "stream",
     "text": [
      "                                                                                \r"
     ]
    }
   ],
   "source": [
    "# def rdd_to_pandas(rdd):\n",
    "#     return pd.DataFrame(rdd.collect(), columns=rdd.first().keys())\n",
    "\n",
    "# user_rdd = sc.textFile(folder_path + '/user.json').map(transform_user_data)\n",
    "# user_df = rdd_to_pandas(user_rdd)\n",
    "\n",
    "# business_rdd = sc.textFile(folder_path + '/business.json').map(transform_business_data)\n",
    "# business_df = rdd_to_pandas(business_rdd)\n",
    "# # business_dict = read_json_data(folder_path + '/business.json', extract_business_data, sc).collectAsMap()\n",
    "# review_data = read_json_data(folder_path + '/review_train.json', extract_review_data, sc)\n",
    "# review_df = rdd_to_pandas(review_data)\n",
    "\n",
    "# # user_df.to_csv('cache/user_df.csv', index=False)\n",
    "# # business_df.to_csv('cache/business_df.csv', index=False)\n",
    "# # review_df.to_csv('cache/review_df.csv', index=False)"
   ]
  },
  {
   "cell_type": "code",
   "execution_count": 3,
   "id": "3c63c3cd-2f61-4a43-8f13-63f16e4e9c27",
   "metadata": {},
   "outputs": [
    {
     "name": "stdout",
     "output_type": "stream",
     "text": [
      "Duration:  7.745426654815674\n"
     ]
    }
   ],
   "source": [
    "# start_time = time.time()\n",
    "\n",
    "# user_df = pd.read_csv('cache/user_df.csv') # parsed from users.json\n",
    "# business_df = pd.read_csv('cache/business_df.csv') # parsed from business.json\n",
    "# review_df = pd.read_csv('cache/review_df.csv') # parsed from business.json\n",
    "# print(\"Duration: \", time.time() - start_time)"
   ]
  },
  {
   "cell_type": "code",
   "execution_count": 4,
   "id": "c54c6cb6-9600-4543-b0f1-6d881a7bd5be",
   "metadata": {},
   "outputs": [],
   "source": [
    "# # 计算每个用户的总年度反馈计数\n",
    "# total_ufc_per_year = review_df.groupby('user_id')['ufc_count_per_year'].sum().reset_index()\n",
    "# total_ufc_per_year.rename(columns={'ufc_count_per_year': 'total_ufc_count_per_year'}, inplace=True)\n",
    "# user_df = user_df.merge(total_ufc_per_year, on='user_id', how='left')\n",
    "# user_df['total_ufc_count_per_year'] = user_df['total_ufc_count_per_year'].fillna(0) # solve cold start\n",
    "\n",
    "# # 计算每个用户的平均评论反馈计数\n",
    "# avg_ufc_per_review = review_df.groupby('user_id')['ufc_count'].mean().reset_index()\n",
    "# avg_ufc_per_review.rename(columns={'ufc_count': 'avg_ufc_count_per_review'}, inplace=True)\n",
    "\n",
    "# # 合并到用户DataFrame并处理冷启动问题\n",
    "# user_df = user_df.merge(avg_ufc_per_review, on='user_id', how='left')\n",
    "# user_df['avg_ufc_count_per_review'] = user_df['avg_ufc_count_per_review'].fillna(0) # solve cold start"
   ]
  },
  {
   "cell_type": "code",
   "execution_count": 5,
   "id": "e02a931b-10a3-4132-a48b-613bfe30cccd",
   "metadata": {},
   "outputs": [],
   "source": [
    "# import pandas as pd\n",
    "\n",
    "# # 计算每个商家的总年度反馈计数\n",
    "# total_ufc_per_year_biz = review_df.groupby('business_id')['ufc_count_per_year'].sum().reset_index()\n",
    "# total_ufc_per_year_biz.rename(columns={'ufc_count_per_year': 'total_ufc_count_per_year'}, inplace=True)\n",
    "# business_df = business_df.merge(total_ufc_per_year_biz, on='business_id', how='left')\n",
    "# business_df['total_ufc_count_per_year'] = business_df['total_ufc_count_per_year'].fillna(0)  # Handling cold start for businesses\n",
    "\n",
    "# # 计算每个商家的平均评论反馈计数\n",
    "# avg_ufc_per_review_biz = review_df.groupby('business_id')['ufc_count'].mean().reset_index()\n",
    "# avg_ufc_per_review_biz.rename(columns={'ufc_count': 'avg_ufc_count_per_review'}, inplace=True)\n",
    "# business_df = business_df.merge(avg_ufc_per_review_biz, on='business_id', how='left')\n",
    "# business_df['avg_ufc_count_per_review'] = business_df['avg_ufc_count_per_review'].fillna(0)  # Handling cold start for businesses"
   ]
  },
  {
   "cell_type": "code",
   "execution_count": 6,
   "id": "0cb1517c-ff16-45d7-8288-b428c1e01873",
   "metadata": {},
   "outputs": [
    {
     "name": "stdout",
     "output_type": "stream",
     "text": [
      "Duration:  8.227460145950317\n"
     ]
    }
   ],
   "source": [
    "# print(\"Duration: \", time.time() - start_time)"
   ]
  },
  {
   "cell_type": "code",
   "execution_count": null,
   "id": "87c7fb0f-2e0c-4361-8ae4-520fda38c880",
   "metadata": {},
   "outputs": [],
   "source": []
  },
  {
   "cell_type": "markdown",
   "id": "4b38ceb5-3124-4a61-a380-2dbbd5e2896a",
   "metadata": {},
   "source": [
    "# START HERE Load Train Data and evaluate\n",
    "StandardScaler(), z-score?"
   ]
  },
  {
   "cell_type": "code",
   "execution_count": 2,
   "id": "09da0e1a-a442-4d7a-a1e8-1d9c87a7cb9b",
   "metadata": {},
   "outputs": [
    {
     "name": "stdout",
     "output_type": "stream",
     "text": [
      "Duration:  6.3930745124816895\n"
     ]
    }
   ],
   "source": [
    "import better_features\n",
    "from better_features import FeatureProcessor, read_json_data, transform_user_data, transform_business_data, extract_review_data\n",
    "from datetime import datetime #add\n",
    "\n",
    "def rdd_to_pandas(rdd):\n",
    "    return pd.DataFrame(rdd.collect(), columns=rdd.first().keys())\n",
    "\n",
    "start_time = time.time()\n",
    "\n",
    "user_df = pd.read_csv('cache/user_df.csv') # parsed from users.json\n",
    "business_df = pd.read_csv('cache/business_df.csv') # parsed from business.json\n",
    "review_df = pd.read_csv('cache/review_df.csv') # parsed from business.json\n",
    "\n",
    "print(\"Duration: \", time.time() - start_time)"
   ]
  },
  {
   "cell_type": "code",
   "execution_count": 3,
   "id": "c859e635-257f-40cf-8178-1bd5f485e31c",
   "metadata": {},
   "outputs": [],
   "source": [
    "############################"
   ]
  },
  {
   "cell_type": "code",
   "execution_count": 3,
   "id": "e5af713b-d9a9-47cd-98cd-67633f793f24",
   "metadata": {
    "scrolled": true
   },
   "outputs": [],
   "source": [
    "# user_df, business_df = process_and_combine_features(user_df, business_df, review_df)\n",
    "\n",
    "from better_features import FeatureProcessor\n",
    "feature_processor = FeatureProcessor(user_df, business_df, review_df)\n",
    "\n",
    "train_df = pd.read_csv('../yelp_combined.csv')\n",
    "data_folder_path = '../data/'"
   ]
  },
  {
   "cell_type": "code",
   "execution_count": 4,
   "id": "34ae1895-4c4a-48ff-a800-94e10ee6a226",
   "metadata": {},
   "outputs": [
    {
     "name": "stderr",
     "output_type": "stream",
     "text": [
      "                                                                                \r"
     ]
    },
    {
     "name": "stdout",
     "output_type": "stream",
     "text": [
      "Duration:  107.40228581428528\n"
     ]
    }
   ],
   "source": [
    "res_rdd = feature_processor.process_all_features(sc, train_df, '../data/', '../yelp_combined.csv')\n",
    "final_df = rdd_to_pandas(res_rdd)\n",
    "\n",
    "print(\"Duration: \", time.time() - start_time)"
   ]
  },
  {
   "cell_type": "code",
   "execution_count": 5,
   "id": "e4747020-a6f3-411f-bba2-56d4d4aa963b",
   "metadata": {},
   "outputs": [
    {
     "data": {
      "text/html": [
       "<div>\n",
       "<style scoped>\n",
       "    .dataframe tbody tr th:only-of-type {\n",
       "        vertical-align: middle;\n",
       "    }\n",
       "\n",
       "    .dataframe tbody tr th {\n",
       "        vertical-align: top;\n",
       "    }\n",
       "\n",
       "    .dataframe thead th {\n",
       "        text-align: right;\n",
       "    }\n",
       "</style>\n",
       "<table border=\"1\" class=\"dataframe\">\n",
       "  <thead>\n",
       "    <tr style=\"text-align: right;\">\n",
       "      <th></th>\n",
       "      <th>user_id</th>\n",
       "      <th>business_id</th>\n",
       "      <th>stars</th>\n",
       "      <th>average_stars</th>\n",
       "      <th>user_review_count</th>\n",
       "      <th>fans</th>\n",
       "      <th>useful</th>\n",
       "      <th>funny</th>\n",
       "      <th>cool</th>\n",
       "      <th>num_interactions</th>\n",
       "      <th>yelping_since</th>\n",
       "      <th>friends_count</th>\n",
       "      <th>elite_years</th>\n",
       "      <th>compliments</th>\n",
       "      <th>compliment_hot</th>\n",
       "      <th>compliment_more</th>\n",
       "      <th>compliment_profile</th>\n",
       "      <th>compliment_cute</th>\n",
       "      <th>compliment_list</th>\n",
       "      <th>compliment_note</th>\n",
       "      <th>compliment_plain</th>\n",
       "      <th>compliment_cool</th>\n",
       "      <th>compliment_writer</th>\n",
       "      <th>compliment_photos</th>\n",
       "      <th>total_ufc_count_per_year</th>\n",
       "      <th>avg_ufc_count_per_review</th>\n",
       "      <th>bus_stars</th>\n",
       "      <th>bus_review_count</th>\n",
       "      <th>is_open</th>\n",
       "      <th>city_encoded</th>\n",
       "      <th>affinity_score</th>\n",
       "    </tr>\n",
       "  </thead>\n",
       "  <tbody>\n",
       "    <tr>\n",
       "      <th>2861</th>\n",
       "      <td>Ic6-gs1_FjrWGx6JIr95Mw</td>\n",
       "      <td>wmCBxE0PfLZD8sxIwAY59Q</td>\n",
       "      <td>3.0</td>\n",
       "      <td>3.75</td>\n",
       "      <td>923</td>\n",
       "      <td>114</td>\n",
       "      <td>1477</td>\n",
       "      <td>1433</td>\n",
       "      <td>1699</td>\n",
       "      <td>4609</td>\n",
       "      <td>12</td>\n",
       "      <td>1630</td>\n",
       "      <td>6</td>\n",
       "      <td>2608</td>\n",
       "      <td>578</td>\n",
       "      <td>40</td>\n",
       "      <td>40</td>\n",
       "      <td>1</td>\n",
       "      <td>5</td>\n",
       "      <td>172</td>\n",
       "      <td>268</td>\n",
       "      <td>596</td>\n",
       "      <td>229</td>\n",
       "      <td>83</td>\n",
       "      <td>36.81</td>\n",
       "      <td>3.08</td>\n",
       "      <td>4.0</td>\n",
       "      <td>625</td>\n",
       "      <td>1</td>\n",
       "      <td>725</td>\n",
       "      <td>2.21</td>\n",
       "    </tr>\n",
       "    <tr>\n",
       "      <th>10584</th>\n",
       "      <td>llsbSKHnzAUPByQwzOybIA</td>\n",
       "      <td>p4qvXkb34X8hgidxEZ33Gw</td>\n",
       "      <td>5.0</td>\n",
       "      <td>3.82</td>\n",
       "      <td>122</td>\n",
       "      <td>5</td>\n",
       "      <td>12</td>\n",
       "      <td>4</td>\n",
       "      <td>5</td>\n",
       "      <td>21</td>\n",
       "      <td>13</td>\n",
       "      <td>133</td>\n",
       "      <td>5</td>\n",
       "      <td>101</td>\n",
       "      <td>17</td>\n",
       "      <td>5</td>\n",
       "      <td>1</td>\n",
       "      <td>0</td>\n",
       "      <td>0</td>\n",
       "      <td>12</td>\n",
       "      <td>10</td>\n",
       "      <td>23</td>\n",
       "      <td>9</td>\n",
       "      <td>1</td>\n",
       "      <td>20.98</td>\n",
       "      <td>2.46</td>\n",
       "      <td>4.0</td>\n",
       "      <td>633</td>\n",
       "      <td>1</td>\n",
       "      <td>463</td>\n",
       "      <td>2.27</td>\n",
       "    </tr>\n",
       "    <tr>\n",
       "      <th>16813</th>\n",
       "      <td>KcFMI-hsr2Em7whfI4OM5g</td>\n",
       "      <td>RG4NphZCi8Pw6Ei-g6oaqg</td>\n",
       "      <td>5.0</td>\n",
       "      <td>3.73</td>\n",
       "      <td>275</td>\n",
       "      <td>23</td>\n",
       "      <td>441</td>\n",
       "      <td>43</td>\n",
       "      <td>16</td>\n",
       "      <td>500</td>\n",
       "      <td>12</td>\n",
       "      <td>119</td>\n",
       "      <td>6</td>\n",
       "      <td>144</td>\n",
       "      <td>22</td>\n",
       "      <td>4</td>\n",
       "      <td>0</td>\n",
       "      <td>0</td>\n",
       "      <td>0</td>\n",
       "      <td>15</td>\n",
       "      <td>25</td>\n",
       "      <td>18</td>\n",
       "      <td>36</td>\n",
       "      <td>6</td>\n",
       "      <td>17.22</td>\n",
       "      <td>4.00</td>\n",
       "      <td>4.5</td>\n",
       "      <td>276</td>\n",
       "      <td>1</td>\n",
       "      <td>984</td>\n",
       "      <td>2.25</td>\n",
       "    </tr>\n",
       "    <tr>\n",
       "      <th>26146</th>\n",
       "      <td>cyuDrrG5eEK-TZI867MUPA</td>\n",
       "      <td>1MvR4NJQbHy0i7ME1IoYpw</td>\n",
       "      <td>4.0</td>\n",
       "      <td>3.43</td>\n",
       "      <td>983</td>\n",
       "      <td>41</td>\n",
       "      <td>646</td>\n",
       "      <td>196</td>\n",
       "      <td>308</td>\n",
       "      <td>1150</td>\n",
       "      <td>14</td>\n",
       "      <td>161</td>\n",
       "      <td>6</td>\n",
       "      <td>371</td>\n",
       "      <td>23</td>\n",
       "      <td>8</td>\n",
       "      <td>4</td>\n",
       "      <td>0</td>\n",
       "      <td>0</td>\n",
       "      <td>75</td>\n",
       "      <td>89</td>\n",
       "      <td>53</td>\n",
       "      <td>64</td>\n",
       "      <td>2</td>\n",
       "      <td>15.39</td>\n",
       "      <td>3.59</td>\n",
       "      <td>3.5</td>\n",
       "      <td>317</td>\n",
       "      <td>1</td>\n",
       "      <td>155</td>\n",
       "      <td>2.29</td>\n",
       "    </tr>\n",
       "    <tr>\n",
       "      <th>43892</th>\n",
       "      <td>65yB0ydGXOZ_-T6J_GbKfw</td>\n",
       "      <td>wSojc-y-d7MWiGWdy8deCg</td>\n",
       "      <td>4.0</td>\n",
       "      <td>3.57</td>\n",
       "      <td>1206</td>\n",
       "      <td>124</td>\n",
       "      <td>12225</td>\n",
       "      <td>593</td>\n",
       "      <td>27584</td>\n",
       "      <td>40402</td>\n",
       "      <td>10</td>\n",
       "      <td>529</td>\n",
       "      <td>5</td>\n",
       "      <td>2847</td>\n",
       "      <td>150</td>\n",
       "      <td>34</td>\n",
       "      <td>21</td>\n",
       "      <td>1</td>\n",
       "      <td>3</td>\n",
       "      <td>219</td>\n",
       "      <td>919</td>\n",
       "      <td>570</td>\n",
       "      <td>149</td>\n",
       "      <td>211</td>\n",
       "      <td>55.66</td>\n",
       "      <td>4.78</td>\n",
       "      <td>4.0</td>\n",
       "      <td>437</td>\n",
       "      <td>1</td>\n",
       "      <td>984</td>\n",
       "      <td>2.19</td>\n",
       "    </tr>\n",
       "    <tr>\n",
       "      <th>...</th>\n",
       "      <td>...</td>\n",
       "      <td>...</td>\n",
       "      <td>...</td>\n",
       "      <td>...</td>\n",
       "      <td>...</td>\n",
       "      <td>...</td>\n",
       "      <td>...</td>\n",
       "      <td>...</td>\n",
       "      <td>...</td>\n",
       "      <td>...</td>\n",
       "      <td>...</td>\n",
       "      <td>...</td>\n",
       "      <td>...</td>\n",
       "      <td>...</td>\n",
       "      <td>...</td>\n",
       "      <td>...</td>\n",
       "      <td>...</td>\n",
       "      <td>...</td>\n",
       "      <td>...</td>\n",
       "      <td>...</td>\n",
       "      <td>...</td>\n",
       "      <td>...</td>\n",
       "      <td>...</td>\n",
       "      <td>...</td>\n",
       "      <td>...</td>\n",
       "      <td>...</td>\n",
       "      <td>...</td>\n",
       "      <td>...</td>\n",
       "      <td>...</td>\n",
       "      <td>...</td>\n",
       "      <td>...</td>\n",
       "    </tr>\n",
       "    <tr>\n",
       "      <th>556851</th>\n",
       "      <td>hWDybu_KvYLSdEFzGrniTw</td>\n",
       "      <td>h6f3QbR0n0fpS2Tu9MJJTw</td>\n",
       "      <td>4.0</td>\n",
       "      <td>3.60</td>\n",
       "      <td>9278</td>\n",
       "      <td>479</td>\n",
       "      <td>25881</td>\n",
       "      <td>22142</td>\n",
       "      <td>22284</td>\n",
       "      <td>70307</td>\n",
       "      <td>15</td>\n",
       "      <td>1782</td>\n",
       "      <td>9</td>\n",
       "      <td>12159</td>\n",
       "      <td>1564</td>\n",
       "      <td>411</td>\n",
       "      <td>300</td>\n",
       "      <td>21</td>\n",
       "      <td>56</td>\n",
       "      <td>800</td>\n",
       "      <td>2581</td>\n",
       "      <td>2193</td>\n",
       "      <td>1100</td>\n",
       "      <td>940</td>\n",
       "      <td>14.15</td>\n",
       "      <td>2.78</td>\n",
       "      <td>4.0</td>\n",
       "      <td>316</td>\n",
       "      <td>1</td>\n",
       "      <td>155</td>\n",
       "      <td>2.51</td>\n",
       "    </tr>\n",
       "    <tr>\n",
       "      <th>558784</th>\n",
       "      <td>mFwRTTDW0Yr-rFkTF2cFsw</td>\n",
       "      <td>3gdjVkNeUa9piW9H708Aig</td>\n",
       "      <td>4.0</td>\n",
       "      <td>3.47</td>\n",
       "      <td>350</td>\n",
       "      <td>37</td>\n",
       "      <td>961</td>\n",
       "      <td>450</td>\n",
       "      <td>634</td>\n",
       "      <td>2045</td>\n",
       "      <td>10</td>\n",
       "      <td>2255</td>\n",
       "      <td>4</td>\n",
       "      <td>335</td>\n",
       "      <td>28</td>\n",
       "      <td>3</td>\n",
       "      <td>6</td>\n",
       "      <td>2</td>\n",
       "      <td>1</td>\n",
       "      <td>27</td>\n",
       "      <td>83</td>\n",
       "      <td>74</td>\n",
       "      <td>24</td>\n",
       "      <td>13</td>\n",
       "      <td>22.68</td>\n",
       "      <td>5.71</td>\n",
       "      <td>4.5</td>\n",
       "      <td>205</td>\n",
       "      <td>1</td>\n",
       "      <td>242</td>\n",
       "      <td>2.10</td>\n",
       "    </tr>\n",
       "    <tr>\n",
       "      <th>559259</th>\n",
       "      <td>S84mUyQA14a4SLv6a8Lzaw</td>\n",
       "      <td>46Ld9Qc9nAx_A0jwclNZiw</td>\n",
       "      <td>4.0</td>\n",
       "      <td>3.82</td>\n",
       "      <td>137</td>\n",
       "      <td>16</td>\n",
       "      <td>684</td>\n",
       "      <td>72</td>\n",
       "      <td>73</td>\n",
       "      <td>829</td>\n",
       "      <td>12</td>\n",
       "      <td>130</td>\n",
       "      <td>4</td>\n",
       "      <td>163</td>\n",
       "      <td>26</td>\n",
       "      <td>4</td>\n",
       "      <td>0</td>\n",
       "      <td>2</td>\n",
       "      <td>0</td>\n",
       "      <td>12</td>\n",
       "      <td>24</td>\n",
       "      <td>36</td>\n",
       "      <td>22</td>\n",
       "      <td>1</td>\n",
       "      <td>39.51</td>\n",
       "      <td>3.05</td>\n",
       "      <td>4.5</td>\n",
       "      <td>1023</td>\n",
       "      <td>1</td>\n",
       "      <td>558</td>\n",
       "      <td>2.42</td>\n",
       "    </tr>\n",
       "    <tr>\n",
       "      <th>576378</th>\n",
       "      <td>ic-tyi1jElL_umxZVh8KNA</td>\n",
       "      <td>-9dmhyBvepc08KPEHlEM0w</td>\n",
       "      <td>3.0</td>\n",
       "      <td>3.30</td>\n",
       "      <td>1437</td>\n",
       "      <td>23</td>\n",
       "      <td>182</td>\n",
       "      <td>72</td>\n",
       "      <td>80</td>\n",
       "      <td>334</td>\n",
       "      <td>10</td>\n",
       "      <td>231</td>\n",
       "      <td>2</td>\n",
       "      <td>132</td>\n",
       "      <td>8</td>\n",
       "      <td>4</td>\n",
       "      <td>0</td>\n",
       "      <td>0</td>\n",
       "      <td>0</td>\n",
       "      <td>33</td>\n",
       "      <td>24</td>\n",
       "      <td>15</td>\n",
       "      <td>12</td>\n",
       "      <td>21</td>\n",
       "      <td>69.06</td>\n",
       "      <td>10.40</td>\n",
       "      <td>4.0</td>\n",
       "      <td>578</td>\n",
       "      <td>1</td>\n",
       "      <td>984</td>\n",
       "      <td>2.42</td>\n",
       "    </tr>\n",
       "    <tr>\n",
       "      <th>581824</th>\n",
       "      <td>qKpkRCPk4ycbllTfFcRbNw</td>\n",
       "      <td>q91nljuSDFl0IYReyF_A3w</td>\n",
       "      <td>4.0</td>\n",
       "      <td>3.53</td>\n",
       "      <td>688</td>\n",
       "      <td>9</td>\n",
       "      <td>14</td>\n",
       "      <td>4</td>\n",
       "      <td>3</td>\n",
       "      <td>21</td>\n",
       "      <td>9</td>\n",
       "      <td>13</td>\n",
       "      <td>3</td>\n",
       "      <td>57</td>\n",
       "      <td>4</td>\n",
       "      <td>1</td>\n",
       "      <td>0</td>\n",
       "      <td>0</td>\n",
       "      <td>0</td>\n",
       "      <td>11</td>\n",
       "      <td>2</td>\n",
       "      <td>5</td>\n",
       "      <td>4</td>\n",
       "      <td>25</td>\n",
       "      <td>10.59</td>\n",
       "      <td>5.83</td>\n",
       "      <td>4.0</td>\n",
       "      <td>135</td>\n",
       "      <td>1</td>\n",
       "      <td>558</td>\n",
       "      <td>2.04</td>\n",
       "    </tr>\n",
       "  </tbody>\n",
       "</table>\n",
       "<p>66 rows × 31 columns</p>\n",
       "</div>"
      ],
      "text/plain": [
       "                       user_id             business_id  stars  average_stars  user_review_count  \\\n",
       "2861    Ic6-gs1_FjrWGx6JIr95Mw  wmCBxE0PfLZD8sxIwAY59Q    3.0           3.75                923   \n",
       "10584   llsbSKHnzAUPByQwzOybIA  p4qvXkb34X8hgidxEZ33Gw    5.0           3.82                122   \n",
       "16813   KcFMI-hsr2Em7whfI4OM5g  RG4NphZCi8Pw6Ei-g6oaqg    5.0           3.73                275   \n",
       "26146   cyuDrrG5eEK-TZI867MUPA  1MvR4NJQbHy0i7ME1IoYpw    4.0           3.43                983   \n",
       "43892   65yB0ydGXOZ_-T6J_GbKfw  wSojc-y-d7MWiGWdy8deCg    4.0           3.57               1206   \n",
       "...                        ...                     ...    ...            ...                ...   \n",
       "556851  hWDybu_KvYLSdEFzGrniTw  h6f3QbR0n0fpS2Tu9MJJTw    4.0           3.60               9278   \n",
       "558784  mFwRTTDW0Yr-rFkTF2cFsw  3gdjVkNeUa9piW9H708Aig    4.0           3.47                350   \n",
       "559259  S84mUyQA14a4SLv6a8Lzaw  46Ld9Qc9nAx_A0jwclNZiw    4.0           3.82                137   \n",
       "576378  ic-tyi1jElL_umxZVh8KNA  -9dmhyBvepc08KPEHlEM0w    3.0           3.30               1437   \n",
       "581824  qKpkRCPk4ycbllTfFcRbNw  q91nljuSDFl0IYReyF_A3w    4.0           3.53                688   \n",
       "\n",
       "        fans  useful  funny   cool  num_interactions  yelping_since  friends_count  elite_years  \\\n",
       "2861     114    1477   1433   1699              4609             12           1630            6   \n",
       "10584      5      12      4      5                21             13            133            5   \n",
       "16813     23     441     43     16               500             12            119            6   \n",
       "26146     41     646    196    308              1150             14            161            6   \n",
       "43892    124   12225    593  27584             40402             10            529            5   \n",
       "...      ...     ...    ...    ...               ...            ...            ...          ...   \n",
       "556851   479   25881  22142  22284             70307             15           1782            9   \n",
       "558784    37     961    450    634              2045             10           2255            4   \n",
       "559259    16     684     72     73               829             12            130            4   \n",
       "576378    23     182     72     80               334             10            231            2   \n",
       "581824     9      14      4      3                21              9             13            3   \n",
       "\n",
       "        compliments  compliment_hot  compliment_more  compliment_profile  compliment_cute  \\\n",
       "2861           2608             578               40                  40                1   \n",
       "10584           101              17                5                   1                0   \n",
       "16813           144              22                4                   0                0   \n",
       "26146           371              23                8                   4                0   \n",
       "43892          2847             150               34                  21                1   \n",
       "...             ...             ...              ...                 ...              ...   \n",
       "556851        12159            1564              411                 300               21   \n",
       "558784          335              28                3                   6                2   \n",
       "559259          163              26                4                   0                2   \n",
       "576378          132               8                4                   0                0   \n",
       "581824           57               4                1                   0                0   \n",
       "\n",
       "        compliment_list  compliment_note  compliment_plain  compliment_cool  compliment_writer  \\\n",
       "2861                  5              172               268              596                229   \n",
       "10584                 0               12                10               23                  9   \n",
       "16813                 0               15                25               18                 36   \n",
       "26146                 0               75                89               53                 64   \n",
       "43892                 3              219               919              570                149   \n",
       "...                 ...              ...               ...              ...                ...   \n",
       "556851               56              800              2581             2193               1100   \n",
       "558784                1               27                83               74                 24   \n",
       "559259                0               12                24               36                 22   \n",
       "576378                0               33                24               15                 12   \n",
       "581824                0               11                 2                5                  4   \n",
       "\n",
       "        compliment_photos  total_ufc_count_per_year  avg_ufc_count_per_review  bus_stars  \\\n",
       "2861                   83                     36.81                      3.08        4.0   \n",
       "10584                   1                     20.98                      2.46        4.0   \n",
       "16813                   6                     17.22                      4.00        4.5   \n",
       "26146                   2                     15.39                      3.59        3.5   \n",
       "43892                 211                     55.66                      4.78        4.0   \n",
       "...                   ...                       ...                       ...        ...   \n",
       "556851                940                     14.15                      2.78        4.0   \n",
       "558784                 13                     22.68                      5.71        4.5   \n",
       "559259                  1                     39.51                      3.05        4.5   \n",
       "576378                 21                     69.06                     10.40        4.0   \n",
       "581824                 25                     10.59                      5.83        4.0   \n",
       "\n",
       "        bus_review_count  is_open  city_encoded  affinity_score  \n",
       "2861                 625        1           725            2.21  \n",
       "10584                633        1           463            2.27  \n",
       "16813                276        1           984            2.25  \n",
       "26146                317        1           155            2.29  \n",
       "43892                437        1           984            2.19  \n",
       "...                  ...      ...           ...             ...  \n",
       "556851               316        1           155            2.51  \n",
       "558784               205        1           242            2.10  \n",
       "559259              1023        1           558            2.42  \n",
       "576378               578        1           984            2.42  \n",
       "581824               135        1           558            2.04  \n",
       "\n",
       "[66 rows x 31 columns]"
      ]
     },
     "execution_count": 5,
     "metadata": {},
     "output_type": "execute_result"
    }
   ],
   "source": [
    "final_df[(final_df['affinity_score'] > 2) & (final_df['affinity_score'] <= 5.0)]"
   ]
  },
  {
   "cell_type": "code",
   "execution_count": 6,
   "id": "35a40626-32d5-4ce7-ade7-786d48a45b65",
   "metadata": {
    "scrolled": true
   },
   "outputs": [
    {
     "name": "stdout",
     "output_type": "stream",
     "text": [
      "Number of rows with affinity_score approximately equal to 0: 185387\n"
     ]
    },
    {
     "data": {
      "image/png": "[encoded data removed]",
      "text/plain": [
       "<Figure size 640x480 with 1 Axes>"
      ]
     },
     "metadata": {},
     "output_type": "display_data"
    },
    {
     "name": "stdout",
     "output_type": "stream",
     "text": [
      "count    602850.00\n",
      "mean          0.46\n",
      "std           0.39\n",
      "min           0.00\n",
      "25%           0.03\n",
      "50%           0.42\n",
      "75%           0.83\n",
      "max           2.85\n",
      "Name: affinity_score, dtype: float64\n"
     ]
    }
   ],
   "source": [
    "specific_value = 0  # 您要查询的特定affinity_score值\n",
    "tolerance = 0.1  # 容忍范围，根据实际情况调整\n",
    "count_specific_value = final_df[(final_df['affinity_score'] >= specific_value - tolerance) & \n",
    "                                (final_df['affinity_score'] <= specific_value + tolerance)].shape[0]\n",
    "print(f\"Number of rows with affinity_score approximately equal to {specific_value}: {count_specific_value}\")\n",
    "\n",
    "# 获取整个数据集中的affinity_score分布情况\n",
    "import matplotlib.pyplot as plt\n",
    "\n",
    "plt.hist(final_df['affinity_score'], bins=1000, color='skyblue')  # bins参数根据需要调整\n",
    "plt.title('Distribution of Affinity Scores')\n",
    "plt.xlabel('Affinity Score')\n",
    "plt.ylabel('Frequency')\n",
    "plt.show()\n",
    "\n",
    "# 也可以用describe方法来获取统计信息\n",
    "print(final_df['affinity_score'].describe()) # 极端的正偏态分布"
   ]
  },
  {
   "cell_type": "code",
   "execution_count": 7,
   "id": "f0532c6e-375d-4e2c-aaa2-17bfd6e30184",
   "metadata": {},
   "outputs": [
    {
     "name": "stdout",
     "output_type": "stream",
     "text": [
      "Original count: 602850, Final DF count: 602850\n"
     ]
    }
   ],
   "source": [
    "original_count = len(train_df)  # 获取原始DataFrame的行数\n",
    "final_df_count = len(final_df)  # 计算处理后的RDD的行数\n",
    "\n",
    "print(f\"Original count: {original_count}, Final DF count: {final_df_count}\")"
   ]
  },
  {
   "cell_type": "code",
   "execution_count": 8,
   "id": "4a9d6b7d-dbe0-4130-bce7-69763101830b",
   "metadata": {},
   "outputs": [],
   "source": [
    "features = final_df.drop(['stars', 'user_id', 'business_id'], axis=1)  # 或其他目标变量列\n",
    "labels = final_df['stars'] "
   ]
  },
  {
   "cell_type": "code",
   "execution_count": 9,
   "id": "60ba1e81-f82b-46fd-bc06-f4ae47ba833c",
   "metadata": {},
   "outputs": [],
   "source": [
    "from sklearn.model_selection import train_test_split\n",
    "from sklearn.preprocessing import StandardScaler\n",
    "\n",
    "# 分割数据集\n",
    "X_train, X_test, y_train, y_test = train_test_split(features, labels, test_size=0.2, random_state=42)\n",
    "\n",
    "# 标准化特征（如果需要）\n",
    "# scaler = StandardScaler()\n",
    "# X_train = scaler.fit_transform(X_train)\n",
    "# X_test = scaler.transform(X_test)"
   ]
  },
  {
   "cell_type": "markdown",
   "id": "b4a9ea45-4300-4304-92c6-721236346bac",
   "metadata": {},
   "source": [
    "## ONE-SHOT WITHOUT FINE-TUNING"
   ]
  },
  {
   "cell_type": "code",
   "execution_count": 21,
   "id": "cb0e0c81-e980-4532-904e-646c262b2866",
   "metadata": {},
   "outputs": [],
   "source": [
    "import xgboost as xgb\n",
    "\n",
    "# 初始化XGBRegressor\n",
    "params = {\n",
    "    'objective': 'reg:squarederror',\n",
    "    'colsample_bytree': 0.6072881476244077,\n",
    "    'gamma': 0.3628798465362447,\n",
    "    'learning_rate': 0.029227134470457283,\n",
    "    'max_depth': 8,\n",
    "    'n_estimators': 480,\n",
    "    'subsample': 0.8869519293950694\n",
    "}\n",
    "model = XGBRegressor(**params)\n",
    "# model = xgb.XGBRegressor(objective ='reg:squarederror', max_depth=7, learning_rate=0.05, n_estimators=300, max_leaves=120)\n",
    "\n",
    "# 训练模型\n",
    "model.fit(X_train, y_train)\n",
    "\n",
    "# 预测测试集\n",
    "y_pred = model.predict(X_test)"
   ]
  },
  {
   "cell_type": "code",
   "execution_count": 22,
   "id": "66dfdf86-b089-4f55-b3d9-db96c1e62d40",
   "metadata": {},
   "outputs": [
    {
     "name": "stdout",
     "output_type": "stream",
     "text": [
      "RMSE: 0.982537\n"
     ]
    }
   ],
   "source": [
    "from sklearn.metrics import mean_squared_error\n",
    "\n",
    "rmse = np.sqrt(mean_squared_error(y_test, y_pred))\n",
    "print(\"RMSE: %f\" % (rmse))"
   ]
  },
  {
   "cell_type": "code",
   "execution_count": null,
   "id": "aee1466b-43ea-47ee-b5e8-d7a09db00086",
   "metadata": {},
   "outputs": [],
   "source": [
    "# MANNNNNNNNNNNNNNNNNNN"
   ]
  },
  {
   "cell_type": "code",
   "execution_count": null,
   "id": "bdd55888-ec15-4ddc-a3ad-8b41cd5dc9ed",
   "metadata": {},
   "outputs": [],
   "source": [
    "## GRID SEARCH\n",
    "\n",
    "import numpy as np\n",
    "import xgboost as xgb\n",
    "from sklearn.model_selection import GridSearchCV, train_test_split\n",
    "from sklearn.metrics import mean_squared_error\n",
    "from math import sqrt\n",
    "\n",
    "param_grid = {\n",
    "    'max_depth': [5, 6, 7],\n",
    "    'learning_rate': [0.04, 0.05, 0.06],\n",
    "    'n_estimators': [450, 500, 550],\n",
    "    'max_leaves': [90, 100, 110],\n",
    "    'subsample': [0.7, 0.8, 0.9],\n",
    "    'colsample_bytree': [0.7, 0.8, 0.9],\n",
    "    'gamma': [0, 0.1, 0.2]\n",
    "}\n",
    "\n",
    "grid_search = GridSearchCV(estimator=model, param_grid=param_grid, cv=3, scoring='neg_mean_squared_error', verbose=1)\n",
    "grid_search.fit(X_train, y_train)\n",
    "\n",
    "print(\"Best parameters:\", grid_search.best_params_)\n",
    "print(\"Best score (MSE):\", -grid_search.best_score_)\n",
    "\n",
    "if (-grid_search.best_score_ < min_mse):\n",
    "    min_mse = -grid_search.best_score_\n",
    "else:\n",
    "    print(\"no better\\n\")\n",
    "\n",
    "best_model = grid_search.best_estimator_\n",
    "y_pred = best_model.predict(X_val)\n",
    "rmse = sqrt(mean_squared_error(y_val, y_pred))\n",
    "print(\"RMSE on true set:\", rmse)\n",
    "\n",
    "results.append({\n",
    "    'param_grid': param_grid,\n",
    "    'best_params': grid_search.best_params_,\n",
    "    'best_score': np.sqrt(-grid_search.best_score_),\n",
    "    'rmse': rmse\n",
    "})"
   ]
  },
  {
   "cell_type": "markdown",
   "id": "425faefc-d899-4236-8b9f-b05b7eb87f2c",
   "metadata": {
    "jp-MarkdownHeadingCollapsed": true
   },
   "source": [
    "# FINE TUNING"
   ]
  },
  {
   "cell_type": "code",
   "execution_count": 25,
   "id": "0011f5db-2d6a-45ba-8d67-4118a190d015",
   "metadata": {},
   "outputs": [],
   "source": [
    "from sklearn.model_selection import train_test_split\n",
    "from sklearn.preprocessing import StandardScaler\n",
    "\n",
    "# 分割数据集\n",
    "X_train, X_test, y_train, y_test = train_test_split(features, labels, test_size=0.2, random_state=42)\n",
    "\n",
    "# # 标准化特征（如果需要）\n",
    "# scaler = StandardScaler()\n",
    "# X_train = scaler.fit_transform(X_train)\n",
    "# X_test = scaler.transform(X_test)"
   ]
  },
  {
   "cell_type": "code",
   "execution_count": 34,
   "id": "8556d78a-768c-49f2-ab1a-29f5f902232e",
   "metadata": {},
   "outputs": [],
   "source": [
    "# !pip install hyperopt"
   ]
  },
  {
   "cell_type": "code",
   "execution_count": 27,
   "id": "4a752b53-2857-4d3f-935e-97476860dacb",
   "metadata": {
    "collapsed": true,
    "jupyter": {
     "outputs_hidden": true
    },
    "scrolled": true
   },
   "outputs": [
    {
     "name": "stdout",
     "output_type": "stream",
     "text": [
      " 67%|██████████████████████████████████▏                | 67/100 [05:12<02:34,  4.67s/trial, best loss: 0.9828491468362728]\n"
     ]
    },
    {
     "ename": "KeyboardInterrupt",
     "evalue": "",
     "output_type": "error",
     "traceback": [
      "\u001b[0;31m---------------------------------------------------------------------------\u001b[0m",
      "\u001b[0;31mKeyboardInterrupt\u001b[0m                         Traceback (most recent call last)",
      "Cell \u001b[0;32mIn[27], line 32\u001b[0m\n\u001b[1;32m     30\u001b[0m \u001b[38;5;66;03m# 运行贝叶斯优化\u001b[39;00m\n\u001b[1;32m     31\u001b[0m trials \u001b[38;5;241m=\u001b[39m Trials()\n\u001b[0;32m---> 32\u001b[0m best \u001b[38;5;241m=\u001b[39m \u001b[43mfmin\u001b[49m\u001b[43m(\u001b[49m\u001b[43mfn\u001b[49m\u001b[38;5;241;43m=\u001b[39;49m\u001b[43mobjective\u001b[49m\u001b[43m,\u001b[49m\u001b[43m \u001b[49m\u001b[43mspace\u001b[49m\u001b[38;5;241;43m=\u001b[39;49m\u001b[43mspace\u001b[49m\u001b[43m,\u001b[49m\u001b[43m \u001b[49m\u001b[43malgo\u001b[49m\u001b[38;5;241;43m=\u001b[39;49m\u001b[43mtpe\u001b[49m\u001b[38;5;241;43m.\u001b[39;49m\u001b[43msuggest\u001b[49m\u001b[43m,\u001b[49m\u001b[43m \u001b[49m\u001b[43mmax_evals\u001b[49m\u001b[38;5;241;43m=\u001b[39;49m\u001b[38;5;241;43m100\u001b[39;49m\u001b[43m,\u001b[49m\u001b[43m \u001b[49m\u001b[43mtrials\u001b[49m\u001b[38;5;241;43m=\u001b[39;49m\u001b[43mtrials\u001b[49m\u001b[43m)\u001b[49m\n\u001b[1;32m     34\u001b[0m \u001b[38;5;66;03m# 存储参数和对应的RMSE\u001b[39;00m\n\u001b[1;32m     35\u001b[0m data \u001b[38;5;241m=\u001b[39m []\n",
      "File \u001b[0;32m/usr/local/lib/python3.8/dist-packages/hyperopt/fmin.py:540\u001b[0m, in \u001b[0;36mfmin\u001b[0;34m(fn, space, algo, max_evals, timeout, loss_threshold, trials, rstate, allow_trials_fmin, pass_expr_memo_ctrl, catch_eval_exceptions, verbose, return_argmin, points_to_evaluate, max_queue_len, show_progressbar, early_stop_fn, trials_save_file)\u001b[0m\n\u001b[1;32m    537\u001b[0m     fn \u001b[38;5;241m=\u001b[39m __objective_fmin_wrapper(fn)\n\u001b[1;32m    539\u001b[0m \u001b[38;5;28;01mif\u001b[39;00m allow_trials_fmin \u001b[38;5;129;01mand\u001b[39;00m \u001b[38;5;28mhasattr\u001b[39m(trials, \u001b[38;5;124m\"\u001b[39m\u001b[38;5;124mfmin\u001b[39m\u001b[38;5;124m\"\u001b[39m):\n\u001b[0;32m--> 540\u001b[0m     \u001b[38;5;28;01mreturn\u001b[39;00m \u001b[43mtrials\u001b[49m\u001b[38;5;241;43m.\u001b[39;49m\u001b[43mfmin\u001b[49m\u001b[43m(\u001b[49m\n\u001b[1;32m    541\u001b[0m \u001b[43m        \u001b[49m\u001b[43mfn\u001b[49m\u001b[43m,\u001b[49m\n\u001b[1;32m    542\u001b[0m \u001b[43m        \u001b[49m\u001b[43mspace\u001b[49m\u001b[43m,\u001b[49m\n\u001b[1;32m    543\u001b[0m \u001b[43m        \u001b[49m\u001b[43malgo\u001b[49m\u001b[38;5;241;43m=\u001b[39;49m\u001b[43malgo\u001b[49m\u001b[43m,\u001b[49m\n\u001b[1;32m    544\u001b[0m \u001b[43m        \u001b[49m\u001b[43mmax_evals\u001b[49m\u001b[38;5;241;43m=\u001b[39;49m\u001b[43mmax_evals\u001b[49m\u001b[43m,\u001b[49m\n\u001b[1;32m    545\u001b[0m \u001b[43m        \u001b[49m\u001b[43mtimeout\u001b[49m\u001b[38;5;241;43m=\u001b[39;49m\u001b[43mtimeout\u001b[49m\u001b[43m,\u001b[49m\n\u001b[1;32m    546\u001b[0m \u001b[43m        \u001b[49m\u001b[43mloss_threshold\u001b[49m\u001b[38;5;241;43m=\u001b[39;49m\u001b[43mloss_threshold\u001b[49m\u001b[43m,\u001b[49m\n\u001b[1;32m    547\u001b[0m \u001b[43m        \u001b[49m\u001b[43mmax_queue_len\u001b[49m\u001b[38;5;241;43m=\u001b[39;49m\u001b[43mmax_queue_len\u001b[49m\u001b[43m,\u001b[49m\n\u001b[1;32m    548\u001b[0m \u001b[43m        \u001b[49m\u001b[43mrstate\u001b[49m\u001b[38;5;241;43m=\u001b[39;49m\u001b[43mrstate\u001b[49m\u001b[43m,\u001b[49m\n\u001b[1;32m    549\u001b[0m \u001b[43m        \u001b[49m\u001b[43mpass_expr_memo_ctrl\u001b[49m\u001b[38;5;241;43m=\u001b[39;49m\u001b[43mpass_expr_memo_ctrl\u001b[49m\u001b[43m,\u001b[49m\n\u001b[1;32m    550\u001b[0m \u001b[43m        \u001b[49m\u001b[43mverbose\u001b[49m\u001b[38;5;241;43m=\u001b[39;49m\u001b[43mverbose\u001b[49m\u001b[43m,\u001b[49m\n\u001b[1;32m    551\u001b[0m \u001b[43m        \u001b[49m\u001b[43mcatch_eval_exceptions\u001b[49m\u001b[38;5;241;43m=\u001b[39;49m\u001b[43mcatch_eval_exceptions\u001b[49m\u001b[43m,\u001b[49m\n\u001b[1;32m    552\u001b[0m \u001b[43m        \u001b[49m\u001b[43mreturn_argmin\u001b[49m\u001b[38;5;241;43m=\u001b[39;49m\u001b[43mreturn_argmin\u001b[49m\u001b[43m,\u001b[49m\n\u001b[1;32m    553\u001b[0m \u001b[43m        \u001b[49m\u001b[43mshow_progressbar\u001b[49m\u001b[38;5;241;43m=\u001b[39;49m\u001b[43mshow_progressbar\u001b[49m\u001b[43m,\u001b[49m\n\u001b[1;32m    554\u001b[0m \u001b[43m        \u001b[49m\u001b[43mearly_stop_fn\u001b[49m\u001b[38;5;241;43m=\u001b[39;49m\u001b[43mearly_stop_fn\u001b[49m\u001b[43m,\u001b[49m\n\u001b[1;32m    555\u001b[0m \u001b[43m        \u001b[49m\u001b[43mtrials_save_file\u001b[49m\u001b[38;5;241;43m=\u001b[39;49m\u001b[43mtrials_save_file\u001b[49m\u001b[43m,\u001b[49m\n\u001b[1;32m    556\u001b[0m \u001b[43m    \u001b[49m\u001b[43m)\u001b[49m\n\u001b[1;32m    558\u001b[0m \u001b[38;5;28;01mif\u001b[39;00m trials \u001b[38;5;129;01mis\u001b[39;00m \u001b[38;5;28;01mNone\u001b[39;00m:\n\u001b[1;32m    559\u001b[0m     \u001b[38;5;28;01mif\u001b[39;00m os\u001b[38;5;241m.\u001b[39mpath\u001b[38;5;241m.\u001b[39mexists(trials_save_file):\n",
      "File \u001b[0;32m/usr/local/lib/python3.8/dist-packages/hyperopt/base.py:671\u001b[0m, in \u001b[0;36mTrials.fmin\u001b[0;34m(self, fn, space, algo, max_evals, timeout, loss_threshold, max_queue_len, rstate, verbose, pass_expr_memo_ctrl, catch_eval_exceptions, return_argmin, show_progressbar, early_stop_fn, trials_save_file)\u001b[0m\n\u001b[1;32m    666\u001b[0m \u001b[38;5;66;03m# -- Stop-gap implementation!\u001b[39;00m\n\u001b[1;32m    667\u001b[0m \u001b[38;5;66;03m#    fmin should have been a Trials method in the first place\u001b[39;00m\n\u001b[1;32m    668\u001b[0m \u001b[38;5;66;03m#    but for now it's still sitting in another file.\u001b[39;00m\n\u001b[1;32m    669\u001b[0m \u001b[38;5;28;01mfrom\u001b[39;00m \u001b[38;5;21;01m.\u001b[39;00m\u001b[38;5;21;01mfmin\u001b[39;00m \u001b[38;5;28;01mimport\u001b[39;00m fmin\n\u001b[0;32m--> 671\u001b[0m \u001b[38;5;28;01mreturn\u001b[39;00m \u001b[43mfmin\u001b[49m\u001b[43m(\u001b[49m\n\u001b[1;32m    672\u001b[0m \u001b[43m    \u001b[49m\u001b[43mfn\u001b[49m\u001b[43m,\u001b[49m\n\u001b[1;32m    673\u001b[0m \u001b[43m    \u001b[49m\u001b[43mspace\u001b[49m\u001b[43m,\u001b[49m\n\u001b[1;32m    674\u001b[0m \u001b[43m    \u001b[49m\u001b[43malgo\u001b[49m\u001b[38;5;241;43m=\u001b[39;49m\u001b[43malgo\u001b[49m\u001b[43m,\u001b[49m\n\u001b[1;32m    675\u001b[0m \u001b[43m    \u001b[49m\u001b[43mmax_evals\u001b[49m\u001b[38;5;241;43m=\u001b[39;49m\u001b[43mmax_evals\u001b[49m\u001b[43m,\u001b[49m\n\u001b[1;32m    676\u001b[0m \u001b[43m    \u001b[49m\u001b[43mtimeout\u001b[49m\u001b[38;5;241;43m=\u001b[39;49m\u001b[43mtimeout\u001b[49m\u001b[43m,\u001b[49m\n\u001b[1;32m    677\u001b[0m \u001b[43m    \u001b[49m\u001b[43mloss_threshold\u001b[49m\u001b[38;5;241;43m=\u001b[39;49m\u001b[43mloss_threshold\u001b[49m\u001b[43m,\u001b[49m\n\u001b[1;32m    678\u001b[0m \u001b[43m    \u001b[49m\u001b[43mtrials\u001b[49m\u001b[38;5;241;43m=\u001b[39;49m\u001b[38;5;28;43mself\u001b[39;49m\u001b[43m,\u001b[49m\n\u001b[1;32m    679\u001b[0m \u001b[43m    \u001b[49m\u001b[43mrstate\u001b[49m\u001b[38;5;241;43m=\u001b[39;49m\u001b[43mrstate\u001b[49m\u001b[43m,\u001b[49m\n\u001b[1;32m    680\u001b[0m \u001b[43m    \u001b[49m\u001b[43mverbose\u001b[49m\u001b[38;5;241;43m=\u001b[39;49m\u001b[43mverbose\u001b[49m\u001b[43m,\u001b[49m\n\u001b[1;32m    681\u001b[0m \u001b[43m    \u001b[49m\u001b[43mmax_queue_len\u001b[49m\u001b[38;5;241;43m=\u001b[39;49m\u001b[43mmax_queue_len\u001b[49m\u001b[43m,\u001b[49m\n\u001b[1;32m    682\u001b[0m \u001b[43m    \u001b[49m\u001b[43mallow_trials_fmin\u001b[49m\u001b[38;5;241;43m=\u001b[39;49m\u001b[38;5;28;43;01mFalse\u001b[39;49;00m\u001b[43m,\u001b[49m\u001b[43m  \u001b[49m\u001b[38;5;66;43;03m# -- prevent recursion\u001b[39;49;00m\n\u001b[1;32m    683\u001b[0m \u001b[43m    \u001b[49m\u001b[43mpass_expr_memo_ctrl\u001b[49m\u001b[38;5;241;43m=\u001b[39;49m\u001b[43mpass_expr_memo_ctrl\u001b[49m\u001b[43m,\u001b[49m\n\u001b[1;32m    684\u001b[0m \u001b[43m    \u001b[49m\u001b[43mcatch_eval_exceptions\u001b[49m\u001b[38;5;241;43m=\u001b[39;49m\u001b[43mcatch_eval_exceptions\u001b[49m\u001b[43m,\u001b[49m\n\u001b[1;32m    685\u001b[0m \u001b[43m    \u001b[49m\u001b[43mreturn_argmin\u001b[49m\u001b[38;5;241;43m=\u001b[39;49m\u001b[43mreturn_argmin\u001b[49m\u001b[43m,\u001b[49m\n\u001b[1;32m    686\u001b[0m \u001b[43m    \u001b[49m\u001b[43mshow_progressbar\u001b[49m\u001b[38;5;241;43m=\u001b[39;49m\u001b[43mshow_progressbar\u001b[49m\u001b[43m,\u001b[49m\n\u001b[1;32m    687\u001b[0m \u001b[43m    \u001b[49m\u001b[43mearly_stop_fn\u001b[49m\u001b[38;5;241;43m=\u001b[39;49m\u001b[43mearly_stop_fn\u001b[49m\u001b[43m,\u001b[49m\n\u001b[1;32m    688\u001b[0m \u001b[43m    \u001b[49m\u001b[43mtrials_save_file\u001b[49m\u001b[38;5;241;43m=\u001b[39;49m\u001b[43mtrials_save_file\u001b[49m\u001b[43m,\u001b[49m\n\u001b[1;32m    689\u001b[0m \u001b[43m\u001b[49m\u001b[43m)\u001b[49m\n",
      "File \u001b[0;32m/usr/local/lib/python3.8/dist-packages/hyperopt/fmin.py:586\u001b[0m, in \u001b[0;36mfmin\u001b[0;34m(fn, space, algo, max_evals, timeout, loss_threshold, trials, rstate, allow_trials_fmin, pass_expr_memo_ctrl, catch_eval_exceptions, verbose, return_argmin, points_to_evaluate, max_queue_len, show_progressbar, early_stop_fn, trials_save_file)\u001b[0m\n\u001b[1;32m    583\u001b[0m rval\u001b[38;5;241m.\u001b[39mcatch_eval_exceptions \u001b[38;5;241m=\u001b[39m catch_eval_exceptions\n\u001b[1;32m    585\u001b[0m \u001b[38;5;66;03m# next line is where the fmin is actually executed\u001b[39;00m\n\u001b[0;32m--> 586\u001b[0m \u001b[43mrval\u001b[49m\u001b[38;5;241;43m.\u001b[39;49m\u001b[43mexhaust\u001b[49m\u001b[43m(\u001b[49m\u001b[43m)\u001b[49m\n\u001b[1;32m    588\u001b[0m \u001b[38;5;28;01mif\u001b[39;00m return_argmin:\n\u001b[1;32m    589\u001b[0m     \u001b[38;5;28;01mif\u001b[39;00m \u001b[38;5;28mlen\u001b[39m(trials\u001b[38;5;241m.\u001b[39mtrials) \u001b[38;5;241m==\u001b[39m \u001b[38;5;241m0\u001b[39m:\n",
      "File \u001b[0;32m/usr/local/lib/python3.8/dist-packages/hyperopt/fmin.py:364\u001b[0m, in \u001b[0;36mFMinIter.exhaust\u001b[0;34m(self)\u001b[0m\n\u001b[1;32m    362\u001b[0m \u001b[38;5;28;01mdef\u001b[39;00m \u001b[38;5;21mexhaust\u001b[39m(\u001b[38;5;28mself\u001b[39m):\n\u001b[1;32m    363\u001b[0m     n_done \u001b[38;5;241m=\u001b[39m \u001b[38;5;28mlen\u001b[39m(\u001b[38;5;28mself\u001b[39m\u001b[38;5;241m.\u001b[39mtrials)\n\u001b[0;32m--> 364\u001b[0m     \u001b[38;5;28;43mself\u001b[39;49m\u001b[38;5;241;43m.\u001b[39;49m\u001b[43mrun\u001b[49m\u001b[43m(\u001b[49m\u001b[38;5;28;43mself\u001b[39;49m\u001b[38;5;241;43m.\u001b[39;49m\u001b[43mmax_evals\u001b[49m\u001b[43m \u001b[49m\u001b[38;5;241;43m-\u001b[39;49m\u001b[43m \u001b[49m\u001b[43mn_done\u001b[49m\u001b[43m,\u001b[49m\u001b[43m \u001b[49m\u001b[43mblock_until_done\u001b[49m\u001b[38;5;241;43m=\u001b[39;49m\u001b[38;5;28;43mself\u001b[39;49m\u001b[38;5;241;43m.\u001b[39;49m\u001b[43masynchronous\u001b[49m\u001b[43m)\u001b[49m\n\u001b[1;32m    365\u001b[0m     \u001b[38;5;28mself\u001b[39m\u001b[38;5;241m.\u001b[39mtrials\u001b[38;5;241m.\u001b[39mrefresh()\n\u001b[1;32m    366\u001b[0m     \u001b[38;5;28;01mreturn\u001b[39;00m \u001b[38;5;28mself\u001b[39m\n",
      "File \u001b[0;32m/usr/local/lib/python3.8/dist-packages/hyperopt/fmin.py:300\u001b[0m, in \u001b[0;36mFMinIter.run\u001b[0;34m(self, N, block_until_done)\u001b[0m\n\u001b[1;32m    297\u001b[0m     time\u001b[38;5;241m.\u001b[39msleep(\u001b[38;5;28mself\u001b[39m\u001b[38;5;241m.\u001b[39mpoll_interval_secs)\n\u001b[1;32m    298\u001b[0m \u001b[38;5;28;01melse\u001b[39;00m:\n\u001b[1;32m    299\u001b[0m     \u001b[38;5;66;03m# -- loop over trials and do the jobs directly\u001b[39;00m\n\u001b[0;32m--> 300\u001b[0m     \u001b[38;5;28;43mself\u001b[39;49m\u001b[38;5;241;43m.\u001b[39;49m\u001b[43mserial_evaluate\u001b[49m\u001b[43m(\u001b[49m\u001b[43m)\u001b[49m\n\u001b[1;32m    302\u001b[0m \u001b[38;5;28mself\u001b[39m\u001b[38;5;241m.\u001b[39mtrials\u001b[38;5;241m.\u001b[39mrefresh()\n\u001b[1;32m    303\u001b[0m \u001b[38;5;28;01mif\u001b[39;00m \u001b[38;5;28mself\u001b[39m\u001b[38;5;241m.\u001b[39mtrials_save_file \u001b[38;5;241m!=\u001b[39m \u001b[38;5;124m\"\u001b[39m\u001b[38;5;124m\"\u001b[39m:\n",
      "File \u001b[0;32m/usr/local/lib/python3.8/dist-packages/hyperopt/fmin.py:178\u001b[0m, in \u001b[0;36mFMinIter.serial_evaluate\u001b[0;34m(self, N)\u001b[0m\n\u001b[1;32m    176\u001b[0m ctrl \u001b[38;5;241m=\u001b[39m base\u001b[38;5;241m.\u001b[39mCtrl(\u001b[38;5;28mself\u001b[39m\u001b[38;5;241m.\u001b[39mtrials, current_trial\u001b[38;5;241m=\u001b[39mtrial)\n\u001b[1;32m    177\u001b[0m \u001b[38;5;28;01mtry\u001b[39;00m:\n\u001b[0;32m--> 178\u001b[0m     result \u001b[38;5;241m=\u001b[39m \u001b[38;5;28;43mself\u001b[39;49m\u001b[38;5;241;43m.\u001b[39;49m\u001b[43mdomain\u001b[49m\u001b[38;5;241;43m.\u001b[39;49m\u001b[43mevaluate\u001b[49m\u001b[43m(\u001b[49m\u001b[43mspec\u001b[49m\u001b[43m,\u001b[49m\u001b[43m \u001b[49m\u001b[43mctrl\u001b[49m\u001b[43m)\u001b[49m\n\u001b[1;32m    179\u001b[0m \u001b[38;5;28;01mexcept\u001b[39;00m \u001b[38;5;167;01mException\u001b[39;00m \u001b[38;5;28;01mas\u001b[39;00m e:\n\u001b[1;32m    180\u001b[0m     logger\u001b[38;5;241m.\u001b[39merror(\u001b[38;5;124m\"\u001b[39m\u001b[38;5;124mjob exception: \u001b[39m\u001b[38;5;132;01m%s\u001b[39;00m\u001b[38;5;124m\"\u001b[39m \u001b[38;5;241m%\u001b[39m \u001b[38;5;28mstr\u001b[39m(e))\n",
      "File \u001b[0;32m/usr/local/lib/python3.8/dist-packages/hyperopt/base.py:892\u001b[0m, in \u001b[0;36mDomain.evaluate\u001b[0;34m(self, config, ctrl, attach_attachments)\u001b[0m\n\u001b[1;32m    883\u001b[0m \u001b[38;5;28;01melse\u001b[39;00m:\n\u001b[1;32m    884\u001b[0m     \u001b[38;5;66;03m# -- the \"work\" of evaluating `config` can be written\u001b[39;00m\n\u001b[1;32m    885\u001b[0m     \u001b[38;5;66;03m#    either into the pyll part (self.expr)\u001b[39;00m\n\u001b[1;32m    886\u001b[0m     \u001b[38;5;66;03m#    or the normal Python part (self.fn)\u001b[39;00m\n\u001b[1;32m    887\u001b[0m     pyll_rval \u001b[38;5;241m=\u001b[39m pyll\u001b[38;5;241m.\u001b[39mrec_eval(\n\u001b[1;32m    888\u001b[0m         \u001b[38;5;28mself\u001b[39m\u001b[38;5;241m.\u001b[39mexpr,\n\u001b[1;32m    889\u001b[0m         memo\u001b[38;5;241m=\u001b[39mmemo,\n\u001b[1;32m    890\u001b[0m         print_node_on_error\u001b[38;5;241m=\u001b[39m\u001b[38;5;28mself\u001b[39m\u001b[38;5;241m.\u001b[39mrec_eval_print_node_on_error,\n\u001b[1;32m    891\u001b[0m     )\n\u001b[0;32m--> 892\u001b[0m     rval \u001b[38;5;241m=\u001b[39m \u001b[38;5;28;43mself\u001b[39;49m\u001b[38;5;241;43m.\u001b[39;49m\u001b[43mfn\u001b[49m\u001b[43m(\u001b[49m\u001b[43mpyll_rval\u001b[49m\u001b[43m)\u001b[49m\n\u001b[1;32m    894\u001b[0m \u001b[38;5;28;01mif\u001b[39;00m \u001b[38;5;28misinstance\u001b[39m(rval, (\u001b[38;5;28mfloat\u001b[39m, \u001b[38;5;28mint\u001b[39m, np\u001b[38;5;241m.\u001b[39mnumber)):\n\u001b[1;32m    895\u001b[0m     dict_rval \u001b[38;5;241m=\u001b[39m {\u001b[38;5;124m\"\u001b[39m\u001b[38;5;124mloss\u001b[39m\u001b[38;5;124m\"\u001b[39m: \u001b[38;5;28mfloat\u001b[39m(rval), \u001b[38;5;124m\"\u001b[39m\u001b[38;5;124mstatus\u001b[39m\u001b[38;5;124m\"\u001b[39m: STATUS_OK}\n",
      "Cell \u001b[0;32mIn[27], line 27\u001b[0m, in \u001b[0;36mobjective\u001b[0;34m(params)\u001b[0m\n\u001b[1;32m     25\u001b[0m \u001b[38;5;28;01mdef\u001b[39;00m \u001b[38;5;21mobjective\u001b[39m(params):\n\u001b[1;32m     26\u001b[0m     model \u001b[38;5;241m=\u001b[39m XGBRegressor(\u001b[38;5;241m*\u001b[39m\u001b[38;5;241m*\u001b[39mparams, objective\u001b[38;5;241m=\u001b[39m\u001b[38;5;124m'\u001b[39m\u001b[38;5;124mreg:squarederror\u001b[39m\u001b[38;5;124m'\u001b[39m)\n\u001b[0;32m---> 27\u001b[0m     score \u001b[38;5;241m=\u001b[39m \u001b[43mcross_val_score\u001b[49m\u001b[43m(\u001b[49m\u001b[43mmodel\u001b[49m\u001b[43m,\u001b[49m\u001b[43m \u001b[49m\u001b[43mX_train\u001b[49m\u001b[43m,\u001b[49m\u001b[43m \u001b[49m\u001b[43my_train\u001b[49m\u001b[43m,\u001b[49m\u001b[43m \u001b[49m\u001b[43mscoring\u001b[49m\u001b[38;5;241;43m=\u001b[39;49m\u001b[43mrmse_scorer\u001b[49m\u001b[43m,\u001b[49m\u001b[43m \u001b[49m\u001b[43mcv\u001b[49m\u001b[38;5;241;43m=\u001b[39;49m\u001b[38;5;241;43m2\u001b[39;49m\u001b[43m)\u001b[49m\u001b[38;5;241m.\u001b[39mmean()\n\u001b[1;32m     28\u001b[0m     \u001b[38;5;28;01mreturn\u001b[39;00m {\u001b[38;5;124m'\u001b[39m\u001b[38;5;124mloss\u001b[39m\u001b[38;5;124m'\u001b[39m: \u001b[38;5;241m-\u001b[39mscore, \u001b[38;5;124m'\u001b[39m\u001b[38;5;124mstatus\u001b[39m\u001b[38;5;124m'\u001b[39m: STATUS_OK}\n",
      "File \u001b[0;32m/usr/local/lib/python3.8/dist-packages/sklearn/model_selection/_validation.py:562\u001b[0m, in \u001b[0;36mcross_val_score\u001b[0;34m(estimator, X, y, groups, scoring, cv, n_jobs, verbose, fit_params, pre_dispatch, error_score)\u001b[0m\n\u001b[1;32m    559\u001b[0m \u001b[38;5;66;03m# To ensure multimetric format is not supported\u001b[39;00m\n\u001b[1;32m    560\u001b[0m scorer \u001b[38;5;241m=\u001b[39m check_scoring(estimator, scoring\u001b[38;5;241m=\u001b[39mscoring)\n\u001b[0;32m--> 562\u001b[0m cv_results \u001b[38;5;241m=\u001b[39m \u001b[43mcross_validate\u001b[49m\u001b[43m(\u001b[49m\n\u001b[1;32m    563\u001b[0m \u001b[43m    \u001b[49m\u001b[43mestimator\u001b[49m\u001b[38;5;241;43m=\u001b[39;49m\u001b[43mestimator\u001b[49m\u001b[43m,\u001b[49m\n\u001b[1;32m    564\u001b[0m \u001b[43m    \u001b[49m\u001b[43mX\u001b[49m\u001b[38;5;241;43m=\u001b[39;49m\u001b[43mX\u001b[49m\u001b[43m,\u001b[49m\n\u001b[1;32m    565\u001b[0m \u001b[43m    \u001b[49m\u001b[43my\u001b[49m\u001b[38;5;241;43m=\u001b[39;49m\u001b[43my\u001b[49m\u001b[43m,\u001b[49m\n\u001b[1;32m    566\u001b[0m \u001b[43m    \u001b[49m\u001b[43mgroups\u001b[49m\u001b[38;5;241;43m=\u001b[39;49m\u001b[43mgroups\u001b[49m\u001b[43m,\u001b[49m\n\u001b[1;32m    567\u001b[0m \u001b[43m    \u001b[49m\u001b[43mscoring\u001b[49m\u001b[38;5;241;43m=\u001b[39;49m\u001b[43m{\u001b[49m\u001b[38;5;124;43m\"\u001b[39;49m\u001b[38;5;124;43mscore\u001b[39;49m\u001b[38;5;124;43m\"\u001b[39;49m\u001b[43m:\u001b[49m\u001b[43m \u001b[49m\u001b[43mscorer\u001b[49m\u001b[43m}\u001b[49m\u001b[43m,\u001b[49m\n\u001b[1;32m    568\u001b[0m \u001b[43m    \u001b[49m\u001b[43mcv\u001b[49m\u001b[38;5;241;43m=\u001b[39;49m\u001b[43mcv\u001b[49m\u001b[43m,\u001b[49m\n\u001b[1;32m    569\u001b[0m \u001b[43m    \u001b[49m\u001b[43mn_jobs\u001b[49m\u001b[38;5;241;43m=\u001b[39;49m\u001b[43mn_jobs\u001b[49m\u001b[43m,\u001b[49m\n\u001b[1;32m    570\u001b[0m \u001b[43m    \u001b[49m\u001b[43mverbose\u001b[49m\u001b[38;5;241;43m=\u001b[39;49m\u001b[43mverbose\u001b[49m\u001b[43m,\u001b[49m\n\u001b[1;32m    571\u001b[0m \u001b[43m    \u001b[49m\u001b[43mfit_params\u001b[49m\u001b[38;5;241;43m=\u001b[39;49m\u001b[43mfit_params\u001b[49m\u001b[43m,\u001b[49m\n\u001b[1;32m    572\u001b[0m \u001b[43m    \u001b[49m\u001b[43mpre_dispatch\u001b[49m\u001b[38;5;241;43m=\u001b[39;49m\u001b[43mpre_dispatch\u001b[49m\u001b[43m,\u001b[49m\n\u001b[1;32m    573\u001b[0m \u001b[43m    \u001b[49m\u001b[43merror_score\u001b[49m\u001b[38;5;241;43m=\u001b[39;49m\u001b[43merror_score\u001b[49m\u001b[43m,\u001b[49m\n\u001b[1;32m    574\u001b[0m \u001b[43m\u001b[49m\u001b[43m)\u001b[49m\n\u001b[1;32m    575\u001b[0m \u001b[38;5;28;01mreturn\u001b[39;00m cv_results[\u001b[38;5;124m\"\u001b[39m\u001b[38;5;124mtest_score\u001b[39m\u001b[38;5;124m\"\u001b[39m]\n",
      "File \u001b[0;32m/usr/local/lib/python3.8/dist-packages/sklearn/utils/_param_validation.py:214\u001b[0m, in \u001b[0;36mvalidate_params.<locals>.decorator.<locals>.wrapper\u001b[0;34m(*args, **kwargs)\u001b[0m\n\u001b[1;32m    208\u001b[0m \u001b[38;5;28;01mtry\u001b[39;00m:\n\u001b[1;32m    209\u001b[0m     \u001b[38;5;28;01mwith\u001b[39;00m config_context(\n\u001b[1;32m    210\u001b[0m         skip_parameter_validation\u001b[38;5;241m=\u001b[39m(\n\u001b[1;32m    211\u001b[0m             prefer_skip_nested_validation \u001b[38;5;129;01mor\u001b[39;00m global_skip_validation\n\u001b[1;32m    212\u001b[0m         )\n\u001b[1;32m    213\u001b[0m     ):\n\u001b[0;32m--> 214\u001b[0m         \u001b[38;5;28;01mreturn\u001b[39;00m \u001b[43mfunc\u001b[49m\u001b[43m(\u001b[49m\u001b[38;5;241;43m*\u001b[39;49m\u001b[43margs\u001b[49m\u001b[43m,\u001b[49m\u001b[43m \u001b[49m\u001b[38;5;241;43m*\u001b[39;49m\u001b[38;5;241;43m*\u001b[39;49m\u001b[43mkwargs\u001b[49m\u001b[43m)\u001b[49m\n\u001b[1;32m    215\u001b[0m \u001b[38;5;28;01mexcept\u001b[39;00m InvalidParameterError \u001b[38;5;28;01mas\u001b[39;00m e:\n\u001b[1;32m    216\u001b[0m     \u001b[38;5;66;03m# When the function is just a wrapper around an estimator, we allow\u001b[39;00m\n\u001b[1;32m    217\u001b[0m     \u001b[38;5;66;03m# the function to delegate validation to the estimator, but we replace\u001b[39;00m\n\u001b[1;32m    218\u001b[0m     \u001b[38;5;66;03m# the name of the estimator by the name of the function in the error\u001b[39;00m\n\u001b[1;32m    219\u001b[0m     \u001b[38;5;66;03m# message to avoid confusion.\u001b[39;00m\n\u001b[1;32m    220\u001b[0m     msg \u001b[38;5;241m=\u001b[39m re\u001b[38;5;241m.\u001b[39msub(\n\u001b[1;32m    221\u001b[0m         \u001b[38;5;124mr\u001b[39m\u001b[38;5;124m\"\u001b[39m\u001b[38;5;124mparameter of \u001b[39m\u001b[38;5;124m\\\u001b[39m\u001b[38;5;124mw+ must be\u001b[39m\u001b[38;5;124m\"\u001b[39m,\n\u001b[1;32m    222\u001b[0m         \u001b[38;5;124mf\u001b[39m\u001b[38;5;124m\"\u001b[39m\u001b[38;5;124mparameter of \u001b[39m\u001b[38;5;132;01m{\u001b[39;00mfunc\u001b[38;5;241m.\u001b[39m\u001b[38;5;18m__qualname__\u001b[39m\u001b[38;5;132;01m}\u001b[39;00m\u001b[38;5;124m must be\u001b[39m\u001b[38;5;124m\"\u001b[39m,\n\u001b[1;32m    223\u001b[0m         \u001b[38;5;28mstr\u001b[39m(e),\n\u001b[1;32m    224\u001b[0m     )\n",
      "File \u001b[0;32m/usr/local/lib/python3.8/dist-packages/sklearn/model_selection/_validation.py:309\u001b[0m, in \u001b[0;36mcross_validate\u001b[0;34m(estimator, X, y, groups, scoring, cv, n_jobs, verbose, fit_params, pre_dispatch, return_train_score, return_estimator, return_indices, error_score)\u001b[0m\n\u001b[1;32m    306\u001b[0m \u001b[38;5;66;03m# We clone the estimator to make sure that all the folds are\u001b[39;00m\n\u001b[1;32m    307\u001b[0m \u001b[38;5;66;03m# independent, and that it is pickle-able.\u001b[39;00m\n\u001b[1;32m    308\u001b[0m parallel \u001b[38;5;241m=\u001b[39m Parallel(n_jobs\u001b[38;5;241m=\u001b[39mn_jobs, verbose\u001b[38;5;241m=\u001b[39mverbose, pre_dispatch\u001b[38;5;241m=\u001b[39mpre_dispatch)\n\u001b[0;32m--> 309\u001b[0m results \u001b[38;5;241m=\u001b[39m \u001b[43mparallel\u001b[49m\u001b[43m(\u001b[49m\n\u001b[1;32m    310\u001b[0m \u001b[43m    \u001b[49m\u001b[43mdelayed\u001b[49m\u001b[43m(\u001b[49m\u001b[43m_fit_and_score\u001b[49m\u001b[43m)\u001b[49m\u001b[43m(\u001b[49m\n\u001b[1;32m    311\u001b[0m \u001b[43m        \u001b[49m\u001b[43mclone\u001b[49m\u001b[43m(\u001b[49m\u001b[43mestimator\u001b[49m\u001b[43m)\u001b[49m\u001b[43m,\u001b[49m\n\u001b[1;32m    312\u001b[0m \u001b[43m        \u001b[49m\u001b[43mX\u001b[49m\u001b[43m,\u001b[49m\n\u001b[1;32m    313\u001b[0m \u001b[43m        \u001b[49m\u001b[43my\u001b[49m\u001b[43m,\u001b[49m\n\u001b[1;32m    314\u001b[0m \u001b[43m        \u001b[49m\u001b[43mscorers\u001b[49m\u001b[43m,\u001b[49m\n\u001b[1;32m    315\u001b[0m \u001b[43m        \u001b[49m\u001b[43mtrain\u001b[49m\u001b[43m,\u001b[49m\n\u001b[1;32m    316\u001b[0m \u001b[43m        \u001b[49m\u001b[43mtest\u001b[49m\u001b[43m,\u001b[49m\n\u001b[1;32m    317\u001b[0m \u001b[43m        \u001b[49m\u001b[43mverbose\u001b[49m\u001b[43m,\u001b[49m\n\u001b[1;32m    318\u001b[0m \u001b[43m        \u001b[49m\u001b[38;5;28;43;01mNone\u001b[39;49;00m\u001b[43m,\u001b[49m\n\u001b[1;32m    319\u001b[0m \u001b[43m        \u001b[49m\u001b[43mfit_params\u001b[49m\u001b[43m,\u001b[49m\n\u001b[1;32m    320\u001b[0m \u001b[43m        \u001b[49m\u001b[43mreturn_train_score\u001b[49m\u001b[38;5;241;43m=\u001b[39;49m\u001b[43mreturn_train_score\u001b[49m\u001b[43m,\u001b[49m\n\u001b[1;32m    321\u001b[0m \u001b[43m        \u001b[49m\u001b[43mreturn_times\u001b[49m\u001b[38;5;241;43m=\u001b[39;49m\u001b[38;5;28;43;01mTrue\u001b[39;49;00m\u001b[43m,\u001b[49m\n\u001b[1;32m    322\u001b[0m \u001b[43m        \u001b[49m\u001b[43mreturn_estimator\u001b[49m\u001b[38;5;241;43m=\u001b[39;49m\u001b[43mreturn_estimator\u001b[49m\u001b[43m,\u001b[49m\n\u001b[1;32m    323\u001b[0m \u001b[43m        \u001b[49m\u001b[43merror_score\u001b[49m\u001b[38;5;241;43m=\u001b[39;49m\u001b[43merror_score\u001b[49m\u001b[43m,\u001b[49m\n\u001b[1;32m    324\u001b[0m \u001b[43m    \u001b[49m\u001b[43m)\u001b[49m\n\u001b[1;32m    325\u001b[0m \u001b[43m    \u001b[49m\u001b[38;5;28;43;01mfor\u001b[39;49;00m\u001b[43m \u001b[49m\u001b[43mtrain\u001b[49m\u001b[43m,\u001b[49m\u001b[43m \u001b[49m\u001b[43mtest\u001b[49m\u001b[43m \u001b[49m\u001b[38;5;129;43;01min\u001b[39;49;00m\u001b[43m \u001b[49m\u001b[43mindices\u001b[49m\n\u001b[1;32m    326\u001b[0m \u001b[43m\u001b[49m\u001b[43m)\u001b[49m\n\u001b[1;32m    328\u001b[0m _warn_or_raise_about_fit_failures(results, error_score)\n\u001b[1;32m    330\u001b[0m \u001b[38;5;66;03m# For callable scoring, the return type is only know after calling. If the\u001b[39;00m\n\u001b[1;32m    331\u001b[0m \u001b[38;5;66;03m# return type is a dictionary, the error scores can now be inserted with\u001b[39;00m\n\u001b[1;32m    332\u001b[0m \u001b[38;5;66;03m# the correct key.\u001b[39;00m\n",
      "File \u001b[0;32m/usr/local/lib/python3.8/dist-packages/sklearn/utils/parallel.py:65\u001b[0m, in \u001b[0;36mParallel.__call__\u001b[0;34m(self, iterable)\u001b[0m\n\u001b[1;32m     60\u001b[0m config \u001b[38;5;241m=\u001b[39m get_config()\n\u001b[1;32m     61\u001b[0m iterable_with_config \u001b[38;5;241m=\u001b[39m (\n\u001b[1;32m     62\u001b[0m     (_with_config(delayed_func, config), args, kwargs)\n\u001b[1;32m     63\u001b[0m     \u001b[38;5;28;01mfor\u001b[39;00m delayed_func, args, kwargs \u001b[38;5;129;01min\u001b[39;00m iterable\n\u001b[1;32m     64\u001b[0m )\n\u001b[0;32m---> 65\u001b[0m \u001b[38;5;28;01mreturn\u001b[39;00m \u001b[38;5;28;43msuper\u001b[39;49m\u001b[43m(\u001b[49m\u001b[43m)\u001b[49m\u001b[38;5;241;43m.\u001b[39;49m\u001b[38;5;21;43m__call__\u001b[39;49m\u001b[43m(\u001b[49m\u001b[43miterable_with_config\u001b[49m\u001b[43m)\u001b[49m\n",
      "File \u001b[0;32m/usr/local/lib/python3.8/dist-packages/joblib/parallel.py:1918\u001b[0m, in \u001b[0;36mParallel.__call__\u001b[0;34m(self, iterable)\u001b[0m\n\u001b[1;32m   1916\u001b[0m     output \u001b[38;5;241m=\u001b[39m \u001b[38;5;28mself\u001b[39m\u001b[38;5;241m.\u001b[39m_get_sequential_output(iterable)\n\u001b[1;32m   1917\u001b[0m     \u001b[38;5;28mnext\u001b[39m(output)\n\u001b[0;32m-> 1918\u001b[0m     \u001b[38;5;28;01mreturn\u001b[39;00m output \u001b[38;5;28;01mif\u001b[39;00m \u001b[38;5;28mself\u001b[39m\u001b[38;5;241m.\u001b[39mreturn_generator \u001b[38;5;28;01melse\u001b[39;00m \u001b[38;5;28;43mlist\u001b[39;49m\u001b[43m(\u001b[49m\u001b[43moutput\u001b[49m\u001b[43m)\u001b[49m\n\u001b[1;32m   1920\u001b[0m \u001b[38;5;66;03m# Let's create an ID that uniquely identifies the current call. If the\u001b[39;00m\n\u001b[1;32m   1921\u001b[0m \u001b[38;5;66;03m# call is interrupted early and that the same instance is immediately\u001b[39;00m\n\u001b[1;32m   1922\u001b[0m \u001b[38;5;66;03m# re-used, this id will be used to prevent workers that were\u001b[39;00m\n\u001b[1;32m   1923\u001b[0m \u001b[38;5;66;03m# concurrently finalizing a task from the previous call to run the\u001b[39;00m\n\u001b[1;32m   1924\u001b[0m \u001b[38;5;66;03m# callback.\u001b[39;00m\n\u001b[1;32m   1925\u001b[0m \u001b[38;5;28;01mwith\u001b[39;00m \u001b[38;5;28mself\u001b[39m\u001b[38;5;241m.\u001b[39m_lock:\n",
      "File \u001b[0;32m/usr/local/lib/python3.8/dist-packages/joblib/parallel.py:1847\u001b[0m, in \u001b[0;36mParallel._get_sequential_output\u001b[0;34m(self, iterable)\u001b[0m\n\u001b[1;32m   1845\u001b[0m \u001b[38;5;28mself\u001b[39m\u001b[38;5;241m.\u001b[39mn_dispatched_batches \u001b[38;5;241m+\u001b[39m\u001b[38;5;241m=\u001b[39m \u001b[38;5;241m1\u001b[39m\n\u001b[1;32m   1846\u001b[0m \u001b[38;5;28mself\u001b[39m\u001b[38;5;241m.\u001b[39mn_dispatched_tasks \u001b[38;5;241m+\u001b[39m\u001b[38;5;241m=\u001b[39m \u001b[38;5;241m1\u001b[39m\n\u001b[0;32m-> 1847\u001b[0m res \u001b[38;5;241m=\u001b[39m \u001b[43mfunc\u001b[49m\u001b[43m(\u001b[49m\u001b[38;5;241;43m*\u001b[39;49m\u001b[43margs\u001b[49m\u001b[43m,\u001b[49m\u001b[43m \u001b[49m\u001b[38;5;241;43m*\u001b[39;49m\u001b[38;5;241;43m*\u001b[39;49m\u001b[43mkwargs\u001b[49m\u001b[43m)\u001b[49m\n\u001b[1;32m   1848\u001b[0m \u001b[38;5;28mself\u001b[39m\u001b[38;5;241m.\u001b[39mn_completed_tasks \u001b[38;5;241m+\u001b[39m\u001b[38;5;241m=\u001b[39m \u001b[38;5;241m1\u001b[39m\n\u001b[1;32m   1849\u001b[0m \u001b[38;5;28mself\u001b[39m\u001b[38;5;241m.\u001b[39mprint_progress()\n",
      "File \u001b[0;32m/usr/local/lib/python3.8/dist-packages/sklearn/utils/parallel.py:127\u001b[0m, in \u001b[0;36m_FuncWrapper.__call__\u001b[0;34m(self, *args, **kwargs)\u001b[0m\n\u001b[1;32m    125\u001b[0m     config \u001b[38;5;241m=\u001b[39m {}\n\u001b[1;32m    126\u001b[0m \u001b[38;5;28;01mwith\u001b[39;00m config_context(\u001b[38;5;241m*\u001b[39m\u001b[38;5;241m*\u001b[39mconfig):\n\u001b[0;32m--> 127\u001b[0m     \u001b[38;5;28;01mreturn\u001b[39;00m \u001b[38;5;28;43mself\u001b[39;49m\u001b[38;5;241;43m.\u001b[39;49m\u001b[43mfunction\u001b[49m\u001b[43m(\u001b[49m\u001b[38;5;241;43m*\u001b[39;49m\u001b[43margs\u001b[49m\u001b[43m,\u001b[49m\u001b[43m \u001b[49m\u001b[38;5;241;43m*\u001b[39;49m\u001b[38;5;241;43m*\u001b[39;49m\u001b[43mkwargs\u001b[49m\u001b[43m)\u001b[49m\n",
      "File \u001b[0;32m/usr/local/lib/python3.8/dist-packages/sklearn/model_selection/_validation.py:729\u001b[0m, in \u001b[0;36m_fit_and_score\u001b[0;34m(estimator, X, y, scorer, train, test, verbose, parameters, fit_params, return_train_score, return_parameters, return_n_test_samples, return_times, return_estimator, split_progress, candidate_progress, error_score)\u001b[0m\n\u001b[1;32m    727\u001b[0m         estimator\u001b[38;5;241m.\u001b[39mfit(X_train, \u001b[38;5;241m*\u001b[39m\u001b[38;5;241m*\u001b[39mfit_params)\n\u001b[1;32m    728\u001b[0m     \u001b[38;5;28;01melse\u001b[39;00m:\n\u001b[0;32m--> 729\u001b[0m         \u001b[43mestimator\u001b[49m\u001b[38;5;241;43m.\u001b[39;49m\u001b[43mfit\u001b[49m\u001b[43m(\u001b[49m\u001b[43mX_train\u001b[49m\u001b[43m,\u001b[49m\u001b[43m \u001b[49m\u001b[43my_train\u001b[49m\u001b[43m,\u001b[49m\u001b[43m \u001b[49m\u001b[38;5;241;43m*\u001b[39;49m\u001b[38;5;241;43m*\u001b[39;49m\u001b[43mfit_params\u001b[49m\u001b[43m)\u001b[49m\n\u001b[1;32m    731\u001b[0m \u001b[38;5;28;01mexcept\u001b[39;00m \u001b[38;5;167;01mException\u001b[39;00m:\n\u001b[1;32m    732\u001b[0m     \u001b[38;5;66;03m# Note fit time as time until error\u001b[39;00m\n\u001b[1;32m    733\u001b[0m     fit_time \u001b[38;5;241m=\u001b[39m time\u001b[38;5;241m.\u001b[39mtime() \u001b[38;5;241m-\u001b[39m start_time\n",
      "File \u001b[0;32m/usr/local/lib/python3.8/dist-packages/xgboost/core.py:729\u001b[0m, in \u001b[0;36mrequire_keyword_args.<locals>.throw_if.<locals>.inner_f\u001b[0;34m(*args, **kwargs)\u001b[0m\n\u001b[1;32m    727\u001b[0m \u001b[38;5;28;01mfor\u001b[39;00m k, arg \u001b[38;5;129;01min\u001b[39;00m \u001b[38;5;28mzip\u001b[39m(sig\u001b[38;5;241m.\u001b[39mparameters, args):\n\u001b[1;32m    728\u001b[0m     kwargs[k] \u001b[38;5;241m=\u001b[39m arg\n\u001b[0;32m--> 729\u001b[0m \u001b[38;5;28;01mreturn\u001b[39;00m \u001b[43mfunc\u001b[49m\u001b[43m(\u001b[49m\u001b[38;5;241;43m*\u001b[39;49m\u001b[38;5;241;43m*\u001b[39;49m\u001b[43mkwargs\u001b[49m\u001b[43m)\u001b[49m\n",
      "File \u001b[0;32m/usr/local/lib/python3.8/dist-packages/xgboost/sklearn.py:1086\u001b[0m, in \u001b[0;36mXGBModel.fit\u001b[0;34m(self, X, y, sample_weight, base_margin, eval_set, eval_metric, early_stopping_rounds, verbose, xgb_model, sample_weight_eval_set, base_margin_eval_set, feature_weights, callbacks)\u001b[0m\n\u001b[1;32m   1075\u001b[0m     obj \u001b[38;5;241m=\u001b[39m \u001b[38;5;28;01mNone\u001b[39;00m\n\u001b[1;32m   1077\u001b[0m (\n\u001b[1;32m   1078\u001b[0m     model,\n\u001b[1;32m   1079\u001b[0m     metric,\n\u001b[0;32m   (...)\u001b[0m\n\u001b[1;32m   1084\u001b[0m     xgb_model, eval_metric, params, early_stopping_rounds, callbacks\n\u001b[1;32m   1085\u001b[0m )\n\u001b[0;32m-> 1086\u001b[0m \u001b[38;5;28mself\u001b[39m\u001b[38;5;241m.\u001b[39m_Booster \u001b[38;5;241m=\u001b[39m \u001b[43mtrain\u001b[49m\u001b[43m(\u001b[49m\n\u001b[1;32m   1087\u001b[0m \u001b[43m    \u001b[49m\u001b[43mparams\u001b[49m\u001b[43m,\u001b[49m\n\u001b[1;32m   1088\u001b[0m \u001b[43m    \u001b[49m\u001b[43mtrain_dmatrix\u001b[49m\u001b[43m,\u001b[49m\n\u001b[1;32m   1089\u001b[0m \u001b[43m    \u001b[49m\u001b[38;5;28;43mself\u001b[39;49m\u001b[38;5;241;43m.\u001b[39;49m\u001b[43mget_num_boosting_rounds\u001b[49m\u001b[43m(\u001b[49m\u001b[43m)\u001b[49m\u001b[43m,\u001b[49m\n\u001b[1;32m   1090\u001b[0m \u001b[43m    \u001b[49m\u001b[43mevals\u001b[49m\u001b[38;5;241;43m=\u001b[39;49m\u001b[43mevals\u001b[49m\u001b[43m,\u001b[49m\n\u001b[1;32m   1091\u001b[0m \u001b[43m    \u001b[49m\u001b[43mearly_stopping_rounds\u001b[49m\u001b[38;5;241;43m=\u001b[39;49m\u001b[43mearly_stopping_rounds\u001b[49m\u001b[43m,\u001b[49m\n\u001b[1;32m   1092\u001b[0m \u001b[43m    \u001b[49m\u001b[43mevals_result\u001b[49m\u001b[38;5;241;43m=\u001b[39;49m\u001b[43mevals_result\u001b[49m\u001b[43m,\u001b[49m\n\u001b[1;32m   1093\u001b[0m \u001b[43m    \u001b[49m\u001b[43mobj\u001b[49m\u001b[38;5;241;43m=\u001b[39;49m\u001b[43mobj\u001b[49m\u001b[43m,\u001b[49m\n\u001b[1;32m   1094\u001b[0m \u001b[43m    \u001b[49m\u001b[43mcustom_metric\u001b[49m\u001b[38;5;241;43m=\u001b[39;49m\u001b[43mmetric\u001b[49m\u001b[43m,\u001b[49m\n\u001b[1;32m   1095\u001b[0m \u001b[43m    \u001b[49m\u001b[43mverbose_eval\u001b[49m\u001b[38;5;241;43m=\u001b[39;49m\u001b[43mverbose\u001b[49m\u001b[43m,\u001b[49m\n\u001b[1;32m   1096\u001b[0m \u001b[43m    \u001b[49m\u001b[43mxgb_model\u001b[49m\u001b[38;5;241;43m=\u001b[39;49m\u001b[43mmodel\u001b[49m\u001b[43m,\u001b[49m\n\u001b[1;32m   1097\u001b[0m \u001b[43m    \u001b[49m\u001b[43mcallbacks\u001b[49m\u001b[38;5;241;43m=\u001b[39;49m\u001b[43mcallbacks\u001b[49m\u001b[43m,\u001b[49m\n\u001b[1;32m   1098\u001b[0m \u001b[43m\u001b[49m\u001b[43m)\u001b[49m\n\u001b[1;32m   1100\u001b[0m \u001b[38;5;28mself\u001b[39m\u001b[38;5;241m.\u001b[39m_set_evaluation_result(evals_result)\n\u001b[1;32m   1101\u001b[0m \u001b[38;5;28;01mreturn\u001b[39;00m \u001b[38;5;28mself\u001b[39m\n",
      "File \u001b[0;32m/usr/local/lib/python3.8/dist-packages/xgboost/core.py:729\u001b[0m, in \u001b[0;36mrequire_keyword_args.<locals>.throw_if.<locals>.inner_f\u001b[0;34m(*args, **kwargs)\u001b[0m\n\u001b[1;32m    727\u001b[0m \u001b[38;5;28;01mfor\u001b[39;00m k, arg \u001b[38;5;129;01min\u001b[39;00m \u001b[38;5;28mzip\u001b[39m(sig\u001b[38;5;241m.\u001b[39mparameters, args):\n\u001b[1;32m    728\u001b[0m     kwargs[k] \u001b[38;5;241m=\u001b[39m arg\n\u001b[0;32m--> 729\u001b[0m \u001b[38;5;28;01mreturn\u001b[39;00m \u001b[43mfunc\u001b[49m\u001b[43m(\u001b[49m\u001b[38;5;241;43m*\u001b[39;49m\u001b[38;5;241;43m*\u001b[39;49m\u001b[43mkwargs\u001b[49m\u001b[43m)\u001b[49m\n",
      "File \u001b[0;32m/usr/local/lib/python3.8/dist-packages/xgboost/training.py:181\u001b[0m, in \u001b[0;36mtrain\u001b[0;34m(params, dtrain, num_boost_round, evals, obj, feval, maximize, early_stopping_rounds, evals_result, verbose_eval, xgb_model, callbacks, custom_metric)\u001b[0m\n\u001b[1;32m    179\u001b[0m \u001b[38;5;28;01mif\u001b[39;00m cb_container\u001b[38;5;241m.\u001b[39mbefore_iteration(bst, i, dtrain, evals):\n\u001b[1;32m    180\u001b[0m     \u001b[38;5;28;01mbreak\u001b[39;00m\n\u001b[0;32m--> 181\u001b[0m \u001b[43mbst\u001b[49m\u001b[38;5;241;43m.\u001b[39;49m\u001b[43mupdate\u001b[49m\u001b[43m(\u001b[49m\u001b[43mdtrain\u001b[49m\u001b[43m,\u001b[49m\u001b[43m \u001b[49m\u001b[43mi\u001b[49m\u001b[43m,\u001b[49m\u001b[43m \u001b[49m\u001b[43mobj\u001b[49m\u001b[43m)\u001b[49m\n\u001b[1;32m    182\u001b[0m \u001b[38;5;28;01mif\u001b[39;00m cb_container\u001b[38;5;241m.\u001b[39mafter_iteration(bst, i, dtrain, evals):\n\u001b[1;32m    183\u001b[0m     \u001b[38;5;28;01mbreak\u001b[39;00m\n",
      "File \u001b[0;32m/usr/local/lib/python3.8/dist-packages/xgboost/core.py:2050\u001b[0m, in \u001b[0;36mBooster.update\u001b[0;34m(self, dtrain, iteration, fobj)\u001b[0m\n\u001b[1;32m   2046\u001b[0m \u001b[38;5;28mself\u001b[39m\u001b[38;5;241m.\u001b[39m_assign_dmatrix_features(dtrain)\n\u001b[1;32m   2048\u001b[0m \u001b[38;5;28;01mif\u001b[39;00m fobj \u001b[38;5;129;01mis\u001b[39;00m \u001b[38;5;28;01mNone\u001b[39;00m:\n\u001b[1;32m   2049\u001b[0m     _check_call(\n\u001b[0;32m-> 2050\u001b[0m         \u001b[43m_LIB\u001b[49m\u001b[38;5;241;43m.\u001b[39;49m\u001b[43mXGBoosterUpdateOneIter\u001b[49m\u001b[43m(\u001b[49m\n\u001b[1;32m   2051\u001b[0m \u001b[43m            \u001b[49m\u001b[38;5;28;43mself\u001b[39;49m\u001b[38;5;241;43m.\u001b[39;49m\u001b[43mhandle\u001b[49m\u001b[43m,\u001b[49m\u001b[43m \u001b[49m\u001b[43mctypes\u001b[49m\u001b[38;5;241;43m.\u001b[39;49m\u001b[43mc_int\u001b[49m\u001b[43m(\u001b[49m\u001b[43miteration\u001b[49m\u001b[43m)\u001b[49m\u001b[43m,\u001b[49m\u001b[43m \u001b[49m\u001b[43mdtrain\u001b[49m\u001b[38;5;241;43m.\u001b[39;49m\u001b[43mhandle\u001b[49m\n\u001b[1;32m   2052\u001b[0m \u001b[43m        \u001b[49m\u001b[43m)\u001b[49m\n\u001b[1;32m   2053\u001b[0m     )\n\u001b[1;32m   2054\u001b[0m \u001b[38;5;28;01melse\u001b[39;00m:\n\u001b[1;32m   2055\u001b[0m     pred \u001b[38;5;241m=\u001b[39m \u001b[38;5;28mself\u001b[39m\u001b[38;5;241m.\u001b[39mpredict(dtrain, output_margin\u001b[38;5;241m=\u001b[39m\u001b[38;5;28;01mTrue\u001b[39;00m, training\u001b[38;5;241m=\u001b[39m\u001b[38;5;28;01mTrue\u001b[39;00m)\n",
      "\u001b[0;31mKeyboardInterrupt\u001b[0m: "
     ]
    }
   ],
   "source": [
    "'''hyperopt, Bayes'''\n",
    "import numpy as np\n",
    "import pandas as pd\n",
    "from hyperopt import hp, fmin, tpe, STATUS_OK, Trials\n",
    "from sklearn.model_selection import train_test_split, cross_val_score\n",
    "from xgboost import XGBRegressor\n",
    "from sklearn.metrics import make_scorer, mean_squared_error\n",
    "from scipy.stats import pearsonr\n",
    "\n",
    "# 定义搜索空间\n",
    "space = {\n",
    "    'max_depth': hp.choice('max_depth', range(3, 10)),  # 选择更实用的深度范围\n",
    "    'colsample_bytree': hp.uniform('colsample_bytree', 0.5, 1.0),\n",
    "    'n_estimators': hp.choice('n_estimators', [100, 200, 300, 400, 500]),\n",
    "    'learning_rate': hp.uniform('learning_rate', 0.01, 0.1),\n",
    "    'min_child_weight': hp.choice('min_child_weight', range(1, 6))\n",
    "}\n",
    "\n",
    "# RMSE 评分函数\n",
    "def rmse_score(y_true, y_pred):\n",
    "    return np.sqrt(mean_squared_error(y_true, y_pred))\n",
    "\n",
    "rmse_scorer = make_scorer(rmse_score, greater_is_better=False)\n",
    "\n",
    "# 目标函数\n",
    "def objective(params):\n",
    "    model = XGBRegressor(**params, objective='reg:squarederror')\n",
    "    score = cross_val_score(model, X_train, y_train, scoring=rmse_scorer, cv=2).mean()\n",
    "    return {'loss': -score, 'status': STATUS_OK}\n",
    "\n",
    "# 运行贝叶斯优化\n",
    "trials = Trials()\n",
    "best = fmin(fn=objective, space=space, algo=tpe.suggest, max_evals=100, trials=trials)\n",
    "\n",
    "# 存储参数和对应的RMSE\n",
    "data = []\n",
    "for trial in trials.trials:\n",
    "    params = trial['misc']['vals']\n",
    "    params = {key: val[0] for key, val in params.items()}\n",
    "    loss = trial['result']['loss']\n",
    "    params['rmse'] = -loss\n",
    "    data.append(params)\n",
    "\n",
    "# 创建DataFrame\n",
    "df = pd.DataFrame(data)\n",
    "\n",
    "# 计算每个参数与RMSE的相关系数\n",
    "correlations = {}\n",
    "for param in df.columns[:-1]:\n",
    "    corr, _ = pearsonr(df[param], df['rmse'])\n",
    "    correlations[param] = corr\n",
    "\n",
    "print(\"参数与RMSE的相关性:\", correlations)\n",
    "print(\"最佳参数:\", best)"
   ]
  },
  {
   "cell_type": "code",
   "execution_count": null,
   "id": "2778f304-0cd2-443d-957a-143a6b284840",
   "metadata": {},
   "outputs": [],
   "source": [
    "best # test on yelp_val"
   ]
  },
  {
   "cell_type": "code",
   "execution_count": null,
   "id": "ab009f06-1552-472c-a2f5-0c3ad6e3abc0",
   "metadata": {},
   "outputs": [],
   "source": [
    "correlations"
   ]
  },
  {
   "cell_type": "code",
   "execution_count": null,
   "id": "cb947273-c043-4a30-a8fa-76fcd7e99c5c",
   "metadata": {},
   "outputs": [],
   "source": [
    "best"
   ]
  },
  {
   "cell_type": "markdown",
   "id": "a5c49f5a-296f-40c4-95b6-5a5cd3f1c9f2",
   "metadata": {},
   "source": [
    "# EVALUATION"
   ]
  },
  {
   "cell_type": "code",
   "execution_count": 8,
   "id": "d465fdb8-9607-48f9-8d9b-8f9170c43b4e",
   "metadata": {
    "scrolled": true
   },
   "outputs": [
    {
     "name": "stderr",
     "output_type": "stream",
     "text": [
      "                                                                                \r"
     ]
    }
   ],
   "source": [
    "test_data_file = '../yelp_true.csv' # '../yelp_true.csv'\n",
    "\n",
    "df_val = pd.read_csv(test_data_file)\n",
    "val_rdd = feature_processor.process_all_features(sc, df_val, '../data/', test_data_file)\n",
    "processed_val_df = rdd_to_pandas(val_rdd)"
   ]
  },
  {
   "cell_type": "code",
   "execution_count": 9,
   "id": "e6e2d453-45ad-4602-83a8-2ebf14efb5bd",
   "metadata": {},
   "outputs": [
    {
     "data": {
      "text/html": [
       "<div>\n",
       "<style scoped>\n",
       "    .dataframe tbody tr th:only-of-type {\n",
       "        vertical-align: middle;\n",
       "    }\n",
       "\n",
       "    .dataframe tbody tr th {\n",
       "        vertical-align: top;\n",
       "    }\n",
       "\n",
       "    .dataframe thead th {\n",
       "        text-align: right;\n",
       "    }\n",
       "</style>\n",
       "<table border=\"1\" class=\"dataframe\">\n",
       "  <thead>\n",
       "    <tr style=\"text-align: right;\">\n",
       "      <th></th>\n",
       "      <th>user_id</th>\n",
       "      <th>business_id</th>\n",
       "      <th>stars</th>\n",
       "      <th>average_stars</th>\n",
       "      <th>user_review_count</th>\n",
       "      <th>fans</th>\n",
       "      <th>useful</th>\n",
       "      <th>funny</th>\n",
       "      <th>cool</th>\n",
       "      <th>num_interactions</th>\n",
       "      <th>yelping_since</th>\n",
       "      <th>friends_count</th>\n",
       "      <th>elite_years</th>\n",
       "      <th>compliments</th>\n",
       "      <th>compliment_hot</th>\n",
       "      <th>compliment_more</th>\n",
       "      <th>compliment_profile</th>\n",
       "      <th>compliment_cute</th>\n",
       "      <th>compliment_list</th>\n",
       "      <th>compliment_note</th>\n",
       "      <th>compliment_plain</th>\n",
       "      <th>compliment_cool</th>\n",
       "      <th>compliment_writer</th>\n",
       "      <th>compliment_photos</th>\n",
       "      <th>total_ufc_count_per_year</th>\n",
       "      <th>avg_ufc_count_per_review</th>\n",
       "      <th>bus_stars</th>\n",
       "      <th>bus_review_count</th>\n",
       "      <th>is_open</th>\n",
       "      <th>city_encoded</th>\n",
       "      <th>affinity_score</th>\n",
       "    </tr>\n",
       "  </thead>\n",
       "  <tbody>\n",
       "    <tr>\n",
       "      <th>0</th>\n",
       "      <td>vKUlUXLVylwdttu7h1_Y5Q</td>\n",
       "      <td>EvWGuX0eqKcZvLRgtIFHZg</td>\n",
       "      <td>5.0</td>\n",
       "      <td>3.69</td>\n",
       "      <td>863</td>\n",
       "      <td>54</td>\n",
       "      <td>279</td>\n",
       "      <td>283</td>\n",
       "      <td>280</td>\n",
       "      <td>842</td>\n",
       "      <td>13</td>\n",
       "      <td>241</td>\n",
       "      <td>7</td>\n",
       "      <td>339</td>\n",
       "      <td>51</td>\n",
       "      <td>7</td>\n",
       "      <td>10</td>\n",
       "      <td>0</td>\n",
       "      <td>3</td>\n",
       "      <td>46</td>\n",
       "      <td>60</td>\n",
       "      <td>54</td>\n",
       "      <td>51</td>\n",
       "      <td>3</td>\n",
       "      <td>11.36</td>\n",
       "      <td>1.64</td>\n",
       "      <td>4.0</td>\n",
       "      <td>292</td>\n",
       "      <td>1</td>\n",
       "      <td>155</td>\n",
       "      <td>0.09</td>\n",
       "    </tr>\n",
       "    <tr>\n",
       "      <th>1</th>\n",
       "      <td>qlC607Cyp0Mj91vDFvkp3Q</td>\n",
       "      <td>hhoKM8RdfYo97Y72LqmOgw</td>\n",
       "      <td>4.0</td>\n",
       "      <td>4.02</td>\n",
       "      <td>1517</td>\n",
       "      <td>395</td>\n",
       "      <td>8361</td>\n",
       "      <td>3544</td>\n",
       "      <td>5619</td>\n",
       "      <td>17524</td>\n",
       "      <td>14</td>\n",
       "      <td>2725</td>\n",
       "      <td>9</td>\n",
       "      <td>5186</td>\n",
       "      <td>388</td>\n",
       "      <td>46</td>\n",
       "      <td>51</td>\n",
       "      <td>40</td>\n",
       "      <td>25</td>\n",
       "      <td>694</td>\n",
       "      <td>1894</td>\n",
       "      <td>822</td>\n",
       "      <td>254</td>\n",
       "      <td>150</td>\n",
       "      <td>13.56</td>\n",
       "      <td>3.00</td>\n",
       "      <td>3.5</td>\n",
       "      <td>130</td>\n",
       "      <td>1</td>\n",
       "      <td>155</td>\n",
       "      <td>0.97</td>\n",
       "    </tr>\n",
       "    <tr>\n",
       "      <th>2</th>\n",
       "      <td>90xPUscApJ9qh1iPptGmRQ</td>\n",
       "      <td>TZpTyyGvQkKPnt59PVUGhg</td>\n",
       "      <td>3.0</td>\n",
       "      <td>4.03</td>\n",
       "      <td>337</td>\n",
       "      <td>22</td>\n",
       "      <td>329</td>\n",
       "      <td>161</td>\n",
       "      <td>126</td>\n",
       "      <td>616</td>\n",
       "      <td>14</td>\n",
       "      <td>125</td>\n",
       "      <td>6</td>\n",
       "      <td>270</td>\n",
       "      <td>41</td>\n",
       "      <td>4</td>\n",
       "      <td>3</td>\n",
       "      <td>0</td>\n",
       "      <td>0</td>\n",
       "      <td>16</td>\n",
       "      <td>33</td>\n",
       "      <td>70</td>\n",
       "      <td>27</td>\n",
       "      <td>6</td>\n",
       "      <td>17.02</td>\n",
       "      <td>6.50</td>\n",
       "      <td>4.0</td>\n",
       "      <td>172</td>\n",
       "      <td>1</td>\n",
       "      <td>725</td>\n",
       "      <td>0.61</td>\n",
       "    </tr>\n",
       "    <tr>\n",
       "      <th>3</th>\n",
       "      <td>m-BZLIIh5PCAKnzH0qj_0Q</td>\n",
       "      <td>hrR9eSqDMIvzYUsEiDx7zw</td>\n",
       "      <td>2.0</td>\n",
       "      <td>3.64</td>\n",
       "      <td>713</td>\n",
       "      <td>80</td>\n",
       "      <td>370</td>\n",
       "      <td>162</td>\n",
       "      <td>165</td>\n",
       "      <td>697</td>\n",
       "      <td>17</td>\n",
       "      <td>582</td>\n",
       "      <td>9</td>\n",
       "      <td>1167</td>\n",
       "      <td>133</td>\n",
       "      <td>12</td>\n",
       "      <td>8</td>\n",
       "      <td>2</td>\n",
       "      <td>0</td>\n",
       "      <td>96</td>\n",
       "      <td>222</td>\n",
       "      <td>265</td>\n",
       "      <td>136</td>\n",
       "      <td>28</td>\n",
       "      <td>5.21</td>\n",
       "      <td>2.63</td>\n",
       "      <td>3.0</td>\n",
       "      <td>72</td>\n",
       "      <td>1</td>\n",
       "      <td>416</td>\n",
       "      <td>0.86</td>\n",
       "    </tr>\n",
       "    <tr>\n",
       "      <th>4</th>\n",
       "      <td>4IZxXA8XxeUXEjNf6yZamw</td>\n",
       "      <td>d482l58ho0_IMdFkXX1F5Q</td>\n",
       "      <td>3.0</td>\n",
       "      <td>3.57</td>\n",
       "      <td>183</td>\n",
       "      <td>13</td>\n",
       "      <td>1501</td>\n",
       "      <td>846</td>\n",
       "      <td>735</td>\n",
       "      <td>3082</td>\n",
       "      <td>11</td>\n",
       "      <td>200</td>\n",
       "      <td>0</td>\n",
       "      <td>86</td>\n",
       "      <td>6</td>\n",
       "      <td>0</td>\n",
       "      <td>0</td>\n",
       "      <td>0</td>\n",
       "      <td>0</td>\n",
       "      <td>9</td>\n",
       "      <td>21</td>\n",
       "      <td>20</td>\n",
       "      <td>2</td>\n",
       "      <td>8</td>\n",
       "      <td>35.23</td>\n",
       "      <td>8.11</td>\n",
       "      <td>3.5</td>\n",
       "      <td>319</td>\n",
       "      <td>0</td>\n",
       "      <td>416</td>\n",
       "      <td>0.93</td>\n",
       "    </tr>\n",
       "    <tr>\n",
       "      <th>...</th>\n",
       "      <td>...</td>\n",
       "      <td>...</td>\n",
       "      <td>...</td>\n",
       "      <td>...</td>\n",
       "      <td>...</td>\n",
       "      <td>...</td>\n",
       "      <td>...</td>\n",
       "      <td>...</td>\n",
       "      <td>...</td>\n",
       "      <td>...</td>\n",
       "      <td>...</td>\n",
       "      <td>...</td>\n",
       "      <td>...</td>\n",
       "      <td>...</td>\n",
       "      <td>...</td>\n",
       "      <td>...</td>\n",
       "      <td>...</td>\n",
       "      <td>...</td>\n",
       "      <td>...</td>\n",
       "      <td>...</td>\n",
       "      <td>...</td>\n",
       "      <td>...</td>\n",
       "      <td>...</td>\n",
       "      <td>...</td>\n",
       "      <td>...</td>\n",
       "      <td>...</td>\n",
       "      <td>...</td>\n",
       "      <td>...</td>\n",
       "      <td>...</td>\n",
       "      <td>...</td>\n",
       "      <td>...</td>\n",
       "    </tr>\n",
       "    <tr>\n",
       "      <th>146991</th>\n",
       "      <td>mdmFPUq98OtP8BQ4fCs8wA</td>\n",
       "      <td>u1qzJu0JwbKU-HjIFjq8kw</td>\n",
       "      <td>4.0</td>\n",
       "      <td>4.24</td>\n",
       "      <td>404</td>\n",
       "      <td>21</td>\n",
       "      <td>352</td>\n",
       "      <td>350</td>\n",
       "      <td>395</td>\n",
       "      <td>1097</td>\n",
       "      <td>11</td>\n",
       "      <td>286</td>\n",
       "      <td>3</td>\n",
       "      <td>154</td>\n",
       "      <td>9</td>\n",
       "      <td>2</td>\n",
       "      <td>4</td>\n",
       "      <td>0</td>\n",
       "      <td>0</td>\n",
       "      <td>12</td>\n",
       "      <td>40</td>\n",
       "      <td>36</td>\n",
       "      <td>7</td>\n",
       "      <td>8</td>\n",
       "      <td>1.30</td>\n",
       "      <td>2.33</td>\n",
       "      <td>4.0</td>\n",
       "      <td>77</td>\n",
       "      <td>1</td>\n",
       "      <td>175</td>\n",
       "      <td>0.93</td>\n",
       "    </tr>\n",
       "    <tr>\n",
       "      <th>146992</th>\n",
       "      <td>O3pSxv1SyHpY4qi4Q16KzA</td>\n",
       "      <td>bx2KK3t9RHD0FmLYFLE_jg</td>\n",
       "      <td>4.0</td>\n",
       "      <td>3.38</td>\n",
       "      <td>1208</td>\n",
       "      <td>31</td>\n",
       "      <td>25</td>\n",
       "      <td>1</td>\n",
       "      <td>5</td>\n",
       "      <td>31</td>\n",
       "      <td>14</td>\n",
       "      <td>27</td>\n",
       "      <td>9</td>\n",
       "      <td>135</td>\n",
       "      <td>12</td>\n",
       "      <td>1</td>\n",
       "      <td>0</td>\n",
       "      <td>0</td>\n",
       "      <td>0</td>\n",
       "      <td>21</td>\n",
       "      <td>35</td>\n",
       "      <td>19</td>\n",
       "      <td>17</td>\n",
       "      <td>11</td>\n",
       "      <td>0.16</td>\n",
       "      <td>1.00</td>\n",
       "      <td>4.0</td>\n",
       "      <td>89</td>\n",
       "      <td>1</td>\n",
       "      <td>558</td>\n",
       "      <td>0.00</td>\n",
       "    </tr>\n",
       "    <tr>\n",
       "      <th>146993</th>\n",
       "      <td>01bmnye5yXRyDZ5Je6tnKg</td>\n",
       "      <td>9x1bWbbSgFCMLJlJR8mezQ</td>\n",
       "      <td>4.0</td>\n",
       "      <td>4.38</td>\n",
       "      <td>82</td>\n",
       "      <td>12</td>\n",
       "      <td>65</td>\n",
       "      <td>11</td>\n",
       "      <td>49</td>\n",
       "      <td>125</td>\n",
       "      <td>9</td>\n",
       "      <td>105</td>\n",
       "      <td>3</td>\n",
       "      <td>25</td>\n",
       "      <td>3</td>\n",
       "      <td>0</td>\n",
       "      <td>0</td>\n",
       "      <td>0</td>\n",
       "      <td>0</td>\n",
       "      <td>2</td>\n",
       "      <td>5</td>\n",
       "      <td>5</td>\n",
       "      <td>4</td>\n",
       "      <td>1</td>\n",
       "      <td>11.76</td>\n",
       "      <td>10.60</td>\n",
       "      <td>4.0</td>\n",
       "      <td>48</td>\n",
       "      <td>1</td>\n",
       "      <td>725</td>\n",
       "      <td>0.58</td>\n",
       "    </tr>\n",
       "    <tr>\n",
       "      <th>146994</th>\n",
       "      <td>j4o2zXyNCZbH1_qsNkVTNA</td>\n",
       "      <td>bQDuSAiFW-D7zF9LsEvdnQ</td>\n",
       "      <td>5.0</td>\n",
       "      <td>4.23</td>\n",
       "      <td>59</td>\n",
       "      <td>4</td>\n",
       "      <td>3</td>\n",
       "      <td>0</td>\n",
       "      <td>0</td>\n",
       "      <td>3</td>\n",
       "      <td>12</td>\n",
       "      <td>86</td>\n",
       "      <td>2</td>\n",
       "      <td>59</td>\n",
       "      <td>19</td>\n",
       "      <td>1</td>\n",
       "      <td>0</td>\n",
       "      <td>0</td>\n",
       "      <td>0</td>\n",
       "      <td>4</td>\n",
       "      <td>2</td>\n",
       "      <td>11</td>\n",
       "      <td>10</td>\n",
       "      <td>1</td>\n",
       "      <td>2.05</td>\n",
       "      <td>2.57</td>\n",
       "      <td>3.5</td>\n",
       "      <td>42</td>\n",
       "      <td>1</td>\n",
       "      <td>675</td>\n",
       "      <td>0.19</td>\n",
       "    </tr>\n",
       "    <tr>\n",
       "      <th>146995</th>\n",
       "      <td>2ZJkgu7VeuhrW-DRzBm_tQ</td>\n",
       "      <td>pfn4CSTtpjSkN-OeyAafJQ</td>\n",
       "      <td>5.0</td>\n",
       "      <td>3.86</td>\n",
       "      <td>94</td>\n",
       "      <td>5</td>\n",
       "      <td>30</td>\n",
       "      <td>5</td>\n",
       "      <td>3</td>\n",
       "      <td>38</td>\n",
       "      <td>10</td>\n",
       "      <td>57</td>\n",
       "      <td>4</td>\n",
       "      <td>27</td>\n",
       "      <td>3</td>\n",
       "      <td>2</td>\n",
       "      <td>0</td>\n",
       "      <td>0</td>\n",
       "      <td>0</td>\n",
       "      <td>10</td>\n",
       "      <td>3</td>\n",
       "      <td>3</td>\n",
       "      <td>2</td>\n",
       "      <td>1</td>\n",
       "      <td>1.72</td>\n",
       "      <td>3.67</td>\n",
       "      <td>3.0</td>\n",
       "      <td>36</td>\n",
       "      <td>1</td>\n",
       "      <td>632</td>\n",
       "      <td>0.36</td>\n",
       "    </tr>\n",
       "  </tbody>\n",
       "</table>\n",
       "<p>146996 rows × 31 columns</p>\n",
       "</div>"
      ],
      "text/plain": [
       "                       user_id             business_id  stars  average_stars  user_review_count  \\\n",
       "0       vKUlUXLVylwdttu7h1_Y5Q  EvWGuX0eqKcZvLRgtIFHZg    5.0           3.69                863   \n",
       "1       qlC607Cyp0Mj91vDFvkp3Q  hhoKM8RdfYo97Y72LqmOgw    4.0           4.02               1517   \n",
       "2       90xPUscApJ9qh1iPptGmRQ  TZpTyyGvQkKPnt59PVUGhg    3.0           4.03                337   \n",
       "3       m-BZLIIh5PCAKnzH0qj_0Q  hrR9eSqDMIvzYUsEiDx7zw    2.0           3.64                713   \n",
       "4       4IZxXA8XxeUXEjNf6yZamw  d482l58ho0_IMdFkXX1F5Q    3.0           3.57                183   \n",
       "...                        ...                     ...    ...            ...                ...   \n",
       "146991  mdmFPUq98OtP8BQ4fCs8wA  u1qzJu0JwbKU-HjIFjq8kw    4.0           4.24                404   \n",
       "146992  O3pSxv1SyHpY4qi4Q16KzA  bx2KK3t9RHD0FmLYFLE_jg    4.0           3.38               1208   \n",
       "146993  01bmnye5yXRyDZ5Je6tnKg  9x1bWbbSgFCMLJlJR8mezQ    4.0           4.38                 82   \n",
       "146994  j4o2zXyNCZbH1_qsNkVTNA  bQDuSAiFW-D7zF9LsEvdnQ    5.0           4.23                 59   \n",
       "146995  2ZJkgu7VeuhrW-DRzBm_tQ  pfn4CSTtpjSkN-OeyAafJQ    5.0           3.86                 94   \n",
       "\n",
       "        fans  useful  funny  cool  num_interactions  yelping_since  friends_count  elite_years  \\\n",
       "0         54     279    283   280               842             13            241            7   \n",
       "1        395    8361   3544  5619             17524             14           2725            9   \n",
       "2         22     329    161   126               616             14            125            6   \n",
       "3         80     370    162   165               697             17            582            9   \n",
       "4         13    1501    846   735              3082             11            200            0   \n",
       "...      ...     ...    ...   ...               ...            ...            ...          ...   \n",
       "146991    21     352    350   395              1097             11            286            3   \n",
       "146992    31      25      1     5                31             14             27            9   \n",
       "146993    12      65     11    49               125              9            105            3   \n",
       "146994     4       3      0     0                 3             12             86            2   \n",
       "146995     5      30      5     3                38             10             57            4   \n",
       "\n",
       "        compliments  compliment_hot  compliment_more  compliment_profile  compliment_cute  \\\n",
       "0               339              51                7                  10                0   \n",
       "1              5186             388               46                  51               40   \n",
       "2               270              41                4                   3                0   \n",
       "3              1167             133               12                   8                2   \n",
       "4                86               6                0                   0                0   \n",
       "...             ...             ...              ...                 ...              ...   \n",
       "146991          154               9                2                   4                0   \n",
       "146992          135              12                1                   0                0   \n",
       "146993           25               3                0                   0                0   \n",
       "146994           59              19                1                   0                0   \n",
       "146995           27               3                2                   0                0   \n",
       "\n",
       "        compliment_list  compliment_note  compliment_plain  compliment_cool  compliment_writer  \\\n",
       "0                     3               46                60               54                 51   \n",
       "1                    25              694              1894              822                254   \n",
       "2                     0               16                33               70                 27   \n",
       "3                     0               96               222              265                136   \n",
       "4                     0                9                21               20                  2   \n",
       "...                 ...              ...               ...              ...                ...   \n",
       "146991                0               12                40               36                  7   \n",
       "146992                0               21                35               19                 17   \n",
       "146993                0                2                 5                5                  4   \n",
       "146994                0                4                 2               11                 10   \n",
       "146995                0               10                 3                3                  2   \n",
       "\n",
       "        compliment_photos  total_ufc_count_per_year  avg_ufc_count_per_review  bus_stars  \\\n",
       "0                       3                     11.36                      1.64        4.0   \n",
       "1                     150                     13.56                      3.00        3.5   \n",
       "2                       6                     17.02                      6.50        4.0   \n",
       "3                      28                      5.21                      2.63        3.0   \n",
       "4                       8                     35.23                      8.11        3.5   \n",
       "...                   ...                       ...                       ...        ...   \n",
       "146991                  8                      1.30                      2.33        4.0   \n",
       "146992                 11                      0.16                      1.00        4.0   \n",
       "146993                  1                     11.76                     10.60        4.0   \n",
       "146994                  1                      2.05                      2.57        3.5   \n",
       "146995                  1                      1.72                      3.67        3.0   \n",
       "\n",
       "        bus_review_count  is_open  city_encoded  affinity_score  \n",
       "0                    292        1           155            0.09  \n",
       "1                    130        1           155            0.97  \n",
       "2                    172        1           725            0.61  \n",
       "3                     72        1           416            0.86  \n",
       "4                    319        0           416            0.93  \n",
       "...                  ...      ...           ...             ...  \n",
       "146991                77        1           175            0.93  \n",
       "146992                89        1           558            0.00  \n",
       "146993                48        1           725            0.58  \n",
       "146994                42        1           675            0.19  \n",
       "146995                36        1           632            0.36  \n",
       "\n",
       "[146996 rows x 31 columns]"
      ]
     },
     "execution_count": 9,
     "metadata": {},
     "output_type": "execute_result"
    }
   ],
   "source": [
    "processed_val_df"
   ]
  },
  {
   "cell_type": "code",
   "execution_count": 11,
   "id": "65700512-e5e9-4c1c-befc-b3e4388df145",
   "metadata": {},
   "outputs": [],
   "source": [
    "# processed_val_df['affinity_score'] = pt.fit_transform(processed_val_df[['affinity_score']])"
   ]
  },
  {
   "cell_type": "code",
   "execution_count": 12,
   "id": "a1e97127-74c9-4471-a5f1-c9c3ee4935be",
   "metadata": {},
   "outputs": [],
   "source": [
    "y_train = final_df['stars']\n",
    "X_train = final_df.drop(['stars', 'user_id', 'business_id'], axis=1)"
   ]
  },
  {
   "cell_type": "code",
   "execution_count": 10,
   "id": "7efe87e7-30a0-47c0-9ac4-2ec8da57d32b",
   "metadata": {},
   "outputs": [],
   "source": [
    "y_val = processed_val_df['stars']\n",
    "X_val = processed_val_df.drop(['stars', 'user_id', 'business_id'], axis=1)"
   ]
  },
  {
   "cell_type": "code",
   "execution_count": 13,
   "id": "410a5381-0065-4837-bf8f-8fd8173c1e2e",
   "metadata": {},
   "outputs": [
    {
     "name": "stdout",
     "output_type": "stream",
     "text": [
      "../yelp_true.csv的RMSE: 0.9459593007885884\n"
     ]
    }
   ],
   "source": [
    "from xgboost import XGBRegressor\n",
    "\n",
    "# 最佳模型参数使用\n",
    "# params = {\n",
    "#     'objective': 'reg:squarederror',\n",
    "#     'colsample_bytree': 0.6,\n",
    "#     'gamma': 0.35,\n",
    "#     'learning_rate': 0.03,\n",
    "#     'max_depth': 8,\n",
    "#     'n_estimators': 468,\n",
    "#     'subsample': 0.9\n",
    "# }\n",
    "\n",
    "params = {\n",
    "    'objective': 'reg:squarederror',\n",
    "    'colsample_bytree': 0.6000253271077364,\n",
    "    'gamma': 0.3476073435753331,\n",
    "    'learning_rate': 0.03186356519406673,\n",
    "    'max_depth': 8,\n",
    "    'n_estimators': 480,\n",
    "    'subsample': 0.8831766281686719\n",
    "}\n",
    "\n",
    "best_model = XGBRegressor(**params)\n",
    "\n",
    "# 使用完整的训练集训练模型\n",
    "best_model.fit(X_train, y_train)\n",
    "\n",
    "# 使用独立的测试集进行最终评估\n",
    "y_pred = best_model.predict(X_val)\n",
    "final_rmse = np.sqrt(mean_squared_error(y_val, y_pred))\n",
    "\n",
    "print(f\"{test_data_file}的RMSE:\", final_rmse)"
   ]
  },
  {
   "cell_type": "code",
   "execution_count": null,
   "id": "d02d2022-63ef-4ff7-8b42-0b0808dd4f88",
   "metadata": {},
   "outputs": [],
   "source": [
    "# ../yelp_true.csv的RMSE: 0.9492449122284947 w/ original user features\n",
    "# ../yelp_true.csv的RMSE: 0.9472496841333367 w/ best params \n",
    "# ../yelp_true.csv的RMSE: 0.9472260014498024 ~ , + rev_log_trans + scaled affinity scroe by 10\n",
    "# ../yelp_true.csv的RMSE: 0.9472094388702095 ~, ~, scale by 50\n",
    "# ../yelp_true.csv的RMSE: 0.9475067831566089 ~, ~, scale by 500"
   ]
  },
  {
   "cell_type": "code",
   "execution_count": 14,
   "id": "7c424636-4403-40d9-8f42-cf8675a867b9",
   "metadata": {},
   "outputs": [
    {
     "data": {
      "image/png": "[encoded data removed]",
      "text/plain": [
       "<Figure size 1200x400 with 1 Axes>"
      ]
     },
     "metadata": {},
     "output_type": "display_data"
    }
   ],
   "source": [
    "'''compare w/ baseline'''\n",
    "import matplotlib.pyplot as plt\n",
    "\n",
    "# 假设 best_model 是已经训练好的模型\n",
    "# 获取特征重要性\n",
    "feature_importances = best_model.feature_importances_\n",
    "\n",
    "# 假设我们知道特征的名字，如果不知道可以用数字代替\n",
    "feature_names = [f'Feature {i+1}' for i in range(len(feature_importances))]\n",
    "\n",
    "# 创建一个特征重要性的DataFrame\n",
    "importances_df = pd.DataFrame({'Feature': feature_names, 'Importance': feature_importances})\n",
    "\n",
    "# 对特征重要性进行排序\n",
    "importances_df = importances_df.sort_values(by='Importance', ascending=False)\n",
    "\n",
    "# 绘制特征重要性的柱状图\n",
    "plt.figure(figsize=(12, 4))\n",
    "plt.bar(importances_df['Feature'], importances_df['Importance'], color='skyblue')\n",
    "plt.title('Feature Importances')\n",
    "plt.xlabel('Feature')\n",
    "plt.ylabel('Importance')\n",
    "plt.xticks(rotation=90)  # 可能需要旋转特征名以便更好地显示\n",
    "plt.show()\n"
   ]
  },
  {
   "cell_type": "code",
   "execution_count": null,
   "id": "e3491fe3-fab1-4e6c-a2fe-5e83a6fea94f",
   "metadata": {},
   "outputs": [],
   "source": []
  },
  {
   "cell_type": "code",
   "execution_count": 65,
   "id": "4c7f1036-eb9d-4cd9-a0be-1979d3c8c5a6",
   "metadata": {
    "collapsed": true,
    "jupyter": {
     "outputs_hidden": true,
     "source_hidden": true
    }
   },
   "outputs": [
    {
     "data": {
      "image/png": "[encoded data removed]",
      "text/plain": [
       "<Figure size 1000x600 with 1 Axes>"
      ]
     },
     "metadata": {},
     "output_type": "display_data"
    }
   ],
   "source": [
    "'''baseline'''\n",
    "import matplotlib.pyplot as plt\n",
    "\n",
    "# 假设 best_model 是已经训练好的模型\n",
    "# 获取特征重要性\n",
    "feature_importances = best_model.feature_importances_\n",
    "\n",
    "# 假设我们知道特征的名字，如果不知道可以用数字代替\n",
    "feature_names = ['years_on_yelp', 'average_stars', 'user_review_count', 'up_votes', 'avg_upvotes_per_year', 'friends_count', 'elite_years', 'num_positive_interactions', 'num_negative_interactions', 'num_neutral_interactions', 'total_ufc_count_per_year', 'avg_ufc_count_per_review', 'bus_stars', 'bus_review_count', 'is_open', 'city_encoded', 'affinity_score'] \n",
    "\n",
    "# 创建一个特征重要性的DataFrame\n",
    "importances_df = pd.DataFrame({'Feature': feature_names, 'Importance': feature_importances})\n",
    "\n",
    "# 对特征重要性进行排序\n",
    "importances_df = importances_df.sort_values(by='Importance', ascending=False)\n",
    "\n",
    "# 绘制特征重要性的柱状图\n",
    "plt.figure(figsize=(10, 6))\n",
    "plt.bar(importances_df['Feature'], importances_df['Importance'], color='skyblue')\n",
    "plt.title('Feature Importances')\n",
    "plt.xlabel('Feature')\n",
    "plt.ylabel('Importance')\n",
    "plt.xticks(rotation=90)  # 可能需要旋转特征名以便更好地显示\n",
    "plt.show()\n"
   ]
  },
  {
   "cell_type": "code",
   "execution_count": 27,
   "id": "0edde64c-22f7-483f-a808-bed0e9166df0",
   "metadata": {},
   "outputs": [],
   "source": [
    "# 最佳参数: {'learning_rate': 0.05, 'max_depth': 7, 'max_leaves': 120, 'n_estimators': 300}\n",
    "# 最终测试集上的RMSE: 0.96323351981516\n",
    "\n",
    "params = {\n",
    "    'objective': 'reg:squarederror',\n",
    "    'colsample_bytree': 0.6,\n",
    "    'gamma': 0.35,\n",
    "    'learning_rate': 0.03,\n",
    "    'max_depth': 8,\n",
    "    'n_estimators': 468,\n",
    "    'subsample': 0.9\n",
    "}\n",
    "\n",
    "最终测试集上的RMSE: 0.9502900488295253\n",
    "\n",
    "../yelp_true.csv的RMSE: 0.9492449122284947 w/ original user features"
   ]
  },
  {
   "cell_type": "code",
   "execution_count": 15,
   "id": "0badff82-194d-4628-ba2e-796bd7bf2283",
   "metadata": {},
   "outputs": [],
   "source": [
    "y_pred_series = pd.Series(y_pred)\n",
    "y_pred_clipped = y_pred_series.clip(1, 5)"
   ]
  },
  {
   "cell_type": "markdown",
   "id": "12b3283e-cc11-4bd1-b370-23be6e97a267",
   "metadata": {
    "jp-MarkdownHeadingCollapsed": true
   },
   "source": [
    "## Understand your y_pred"
   ]
  },
  {
   "cell_type": "code",
   "execution_count": 17,
   "id": "42d73551-7318-4e76-abe4-2ea78bb98015",
   "metadata": {},
   "outputs": [
    {
     "name": "stdout",
     "output_type": "stream",
     "text": [
      "RMSE with predictions clipped between 1 and 5: 0.9459485319381798\n",
      "-------------STATS afteer rounded-----------------\n",
      "count    146996.00\n",
      "mean          3.74\n",
      "std           0.61\n",
      "min           1.00\n",
      "25%           3.00\n",
      "50%           4.00\n",
      "75%           4.00\n",
      "max           5.00\n",
      "dtype: float64\n",
      "RMSE with predictions rounded (int) between 1 and 5: 0.9891930127144891\n"
     ]
    }
   ],
   "source": [
    "# round prediction\n",
    "\n",
    "# 限制预测评分在1到5之间\n",
    "y_pred_clipped = y_pred_series.clip(1, 5)\n",
    "\n",
    "# 计算 RMSE\n",
    "rmse = np.sqrt(mean_squared_error(y_val, y_pred_clipped))\n",
    "print(\"RMSE with predictions clipped between 1 and 5:\", rmse)\n",
    "\n",
    "# 对调整后的预测结果进行四舍五入\n",
    "y_pred_rounded = y_pred_clipped.round().astype(int)\n",
    "\n",
    "print(\"-------------STATS afteer rounded-----------------\")\n",
    "# 进行四舍五入后的基本统计\n",
    "print(y_pred_rounded.describe())\n",
    "\n",
    "rmse = np.sqrt(mean_squared_error(y_val, y_pred_rounded))\n",
    "print(\"RMSE with predictions rounded (int) between 1 and 5:\", rmse)"
   ]
  },
  {
   "cell_type": "code",
   "execution_count": 18,
   "id": "fd208005-d6ff-45cd-94d6-83035a5ea0e2",
   "metadata": {},
   "outputs": [
    {
     "name": "stdout",
     "output_type": "stream",
     "text": [
      "count    146996.00\n",
      "mean          3.74\n",
      "std           0.61\n",
      "min           1.00\n",
      "25%           3.00\n",
      "50%           4.00\n",
      "75%           4.00\n",
      "max           5.00\n",
      "dtype: float64\n",
      "count    146996.00\n",
      "mean          3.75\n",
      "std           1.12\n",
      "min           1.00\n",
      "25%           3.00\n",
      "50%           4.00\n",
      "75%           5.00\n",
      "max           5.00\n",
      "Name: stars, dtype: float64\n"
     ]
    },
    {
     "data": {
      "image/png": "[encoded data removed]",
      "text/plain": [
       "<Figure size 400x200 with 1 Axes>"
      ]
     },
     "metadata": {},
     "output_type": "display_data"
    },
    {
     "data": {
      "image/png": "[encoded data removed]",
      "text/plain": [
       "<Figure size 400x200 with 1 Axes>"
      ]
     },
     "metadata": {},
     "output_type": "display_data"
    },
    {
     "data": {
      "image/png": "[encoded data removed]",
      "text/plain": [
       "<Figure size 400x200 with 1 Axes>"
      ]
     },
     "metadata": {},
     "output_type": "display_data"
    }
   ],
   "source": [
    "# 输出四舍五入后的评分统计数据\n",
    "print(y_pred_rounded.describe())\n",
    "print(y_val.describe())\n",
    "# 绘制分布图\n",
    "import matplotlib.pyplot as plt\n",
    "\n",
    "plt.figure(figsize=(4, 2))\n",
    "plt.hist(y_pred_clipped, bins=10, color='orange', edgecolor='black')  # 调整bins的数量以获得适当的分布\n",
    "plt.title('Distribution of Ratings before Rounding')\n",
    "plt.xlabel('Ratings')\n",
    "plt.ylabel('Frequency')\n",
    "plt.grid(True)\n",
    "plt.show()\n",
    "\n",
    "plt.figure(figsize=(4, 2))\n",
    "y_pred_rounded.value_counts().sort_index().plot(kind='bar', color='skyblue')\n",
    "plt.title('Distribution of Ratings After Rounding')\n",
    "plt.xlabel('Ratings')\n",
    "plt.ylabel('Frequency')\n",
    "plt.xticks(rotation=0)\n",
    "plt.grid(True)\n",
    "plt.show()\n",
    "\n",
    "plt.figure(figsize=(4, 2))\n",
    "y_val.value_counts().sort_index().plot(kind='bar', color='green')\n",
    "plt.title('Distribution of True Ratings')\n",
    "plt.xlabel('Ratings')\n",
    "plt.ylabel('Frequency')\n",
    "plt.xticks(rotation=0)\n",
    "plt.grid(True)\n",
    "plt.show()"
   ]
  },
  {
   "cell_type": "markdown",
   "id": "43efd0d2-1d07-4549-904c-1ceca7a2b72b",
   "metadata": {
    "jp-MarkdownHeadingCollapsed": true
   },
   "source": [
    "# 为实际1-5星评价绘制分布图,根据实际星级分组的误差"
   ]
  },
  {
   "cell_type": "code",
   "execution_count": 19,
   "id": "fa78477b-db18-4345-b555-5d2a2abd942f",
   "metadata": {},
   "outputs": [
    {
     "name": "stdout",
     "output_type": "stream",
     "text": [
      "         count  mean   std   min   25%   50%   75%   max\n",
      "stars                                                   \n",
      "1.0     7818.0  2.04  0.70  0.00  1.61  2.11  2.54  3.69\n",
      "2.0    12812.0  1.32  0.52 -0.77  0.99  1.35  1.70  2.86\n",
      "3.0    30492.0  0.53  0.45 -1.65  0.23  0.54  0.85  1.95\n",
      "4.0    53711.0 -0.21  0.42 -2.44 -0.49 -0.19  0.09  1.00\n",
      "5.0    42163.0 -0.89  0.45 -3.74 -1.16 -0.85 -0.58  0.00\n"
     ]
    }
   ],
   "source": [
    "y_pred_clipped.name = 'prediction'\n",
    "y_val.name = 'stars'\n",
    "\n",
    "df_merged = pd.concat([y_pred_clipped, y_val], axis=1)\n",
    "df_merged['error'] = df_merged['prediction'] - df_merged['stars']\n",
    "error_distribution = df_merged.groupby('stars')['error'].describe()\n",
    "\n",
    "# 根据实际星级分组的误差\n",
    "print(error_distribution)"
   ]
  },
  {
   "cell_type": "code",
   "execution_count": 20,
   "id": "c268e372-e6e3-4209-be8d-290b3e03cf2f",
   "metadata": {},
   "outputs": [
    {
     "name": "stdout",
     "output_type": "stream",
     "text": [
      "1-star prediction, \n",
      "error distribution: predicted_category\n",
      "1-Star     179\n",
      "2-Star    1460\n",
      "3-Star    4064\n",
      "4-Star    2084\n",
      "5-Star      31\n",
      "Name: count, dtype: int64\n"
     ]
    },
    {
     "name": "stderr",
     "output_type": "stream",
     "text": [
      "/tmp/ipykernel_48701/3805797694.py:8: SettingWithCopyWarning: \n",
      "A value is trying to be set on a copy of a slice from a DataFrame.\n",
      "Try using .loc[row_indexer,col_indexer] = value instead\n",
      "\n",
      "See the caveats in the documentation: https://pandas.pydata.org/pandas-docs/stable/user_guide/indexing.html#returning-a-view-versus-a-copy\n",
      "  df_star['predicted_category'] = pd.cut(df_star['prediction'], bins=bins, labels=labels, right=False)\n"
     ]
    },
    {
     "data": {
      "image/png": "[encoded data removed]",
      "text/plain": [
       "<Figure size 500x300 with 1 Axes>"
      ]
     },
     "metadata": {},
     "output_type": "display_data"
    },
    {
     "name": "stdout",
     "output_type": "stream",
     "text": [
      "2-star prediction, \n",
      "error distribution: predicted_category\n",
      "1-Star      10\n",
      "2-Star     821\n",
      "3-Star    7023\n",
      "4-Star    4905\n",
      "5-Star      53\n",
      "Name: count, dtype: int64\n"
     ]
    },
    {
     "name": "stderr",
     "output_type": "stream",
     "text": [
      "/tmp/ipykernel_48701/3805797694.py:8: SettingWithCopyWarning: \n",
      "A value is trying to be set on a copy of a slice from a DataFrame.\n",
      "Try using .loc[row_indexer,col_indexer] = value instead\n",
      "\n",
      "See the caveats in the documentation: https://pandas.pydata.org/pandas-docs/stable/user_guide/indexing.html#returning-a-view-versus-a-copy\n",
      "  df_star['predicted_category'] = pd.cut(df_star['prediction'], bins=bins, labels=labels, right=False)\n"
     ]
    },
    {
     "data": {
      "image/png": "[encoded data removed]",
      "text/plain": [
       "<Figure size 500x300 with 1 Axes>"
      ]
     },
     "metadata": {},
     "output_type": "display_data"
    },
    {
     "name": "stderr",
     "output_type": "stream",
     "text": [
      "/tmp/ipykernel_48701/3805797694.py:8: SettingWithCopyWarning: \n",
      "A value is trying to be set on a copy of a slice from a DataFrame.\n",
      "Try using .loc[row_indexer,col_indexer] = value instead\n",
      "\n",
      "See the caveats in the documentation: https://pandas.pydata.org/pandas-docs/stable/user_guide/indexing.html#returning-a-view-versus-a-copy\n",
      "  df_star['predicted_category'] = pd.cut(df_star['prediction'], bins=bins, labels=labels, right=False)\n"
     ]
    },
    {
     "name": "stdout",
     "output_type": "stream",
     "text": [
      "3-star prediction, \n",
      "error distribution: predicted_category\n",
      "1-Star        3\n",
      "2-Star      477\n",
      "3-Star    13627\n",
      "4-Star    16148\n",
      "5-Star      237\n",
      "Name: count, dtype: int64\n"
     ]
    },
    {
     "data": {
      "image/png": "[encoded data removed]",
      "text/plain": [
       "<Figure size 500x300 with 1 Axes>"
      ]
     },
     "metadata": {},
     "output_type": "display_data"
    },
    {
     "name": "stdout",
     "output_type": "stream",
     "text": [
      "4-star prediction, \n",
      "error distribution: predicted_category\n",
      "1-Star        0\n",
      "2-Star      242\n",
      "3-Star    12718\n",
      "4-Star    39033\n",
      "5-Star     1718\n",
      "Name: count, dtype: int64\n"
     ]
    },
    {
     "name": "stderr",
     "output_type": "stream",
     "text": [
      "/tmp/ipykernel_48701/3805797694.py:8: SettingWithCopyWarning: \n",
      "A value is trying to be set on a copy of a slice from a DataFrame.\n",
      "Try using .loc[row_indexer,col_indexer] = value instead\n",
      "\n",
      "See the caveats in the documentation: https://pandas.pydata.org/pandas-docs/stable/user_guide/indexing.html#returning-a-view-versus-a-copy\n",
      "  df_star['predicted_category'] = pd.cut(df_star['prediction'], bins=bins, labels=labels, right=False)\n"
     ]
    },
    {
     "data": {
      "image/png": "[encoded data removed]",
      "text/plain": [
       "<Figure size 500x300 with 1 Axes>"
      ]
     },
     "metadata": {},
     "output_type": "display_data"
    },
    {
     "name": "stderr",
     "output_type": "stream",
     "text": [
      "/tmp/ipykernel_48701/3805797694.py:8: SettingWithCopyWarning: \n",
      "A value is trying to be set on a copy of a slice from a DataFrame.\n",
      "Try using .loc[row_indexer,col_indexer] = value instead\n",
      "\n",
      "See the caveats in the documentation: https://pandas.pydata.org/pandas-docs/stable/user_guide/indexing.html#returning-a-view-versus-a-copy\n",
      "  df_star['predicted_category'] = pd.cut(df_star['prediction'], bins=bins, labels=labels, right=False)\n"
     ]
    },
    {
     "name": "stdout",
     "output_type": "stream",
     "text": [
      "5-star prediction, \n",
      "error distribution: predicted_category\n",
      "1-Star        1\n",
      "2-Star      110\n",
      "3-Star     3868\n",
      "4-Star    30271\n",
      "5-Star     7913\n",
      "Name: count, dtype: int64\n"
     ]
    },
    {
     "data": {
      "image/png": "[encoded data removed]",
      "text/plain": [
       "<Figure size 500x300 with 1 Axes>"
      ]
     },
     "metadata": {},
     "output_type": "display_data"
    }
   ],
   "source": [
    "'''统计实际评分（1到5星）被预测为其他评分的情况'''\n",
    "def plot_distribution(df, actual_star, title):\n",
    "    df_star = df[df['stars'] == actual_star]\n",
    "\n",
    "    # 对预测结果进行分档，使用自定义的分割点\n",
    "    bins = [0, 1.5, 2.5, 3.5, 4.5, 5.5]\n",
    "    labels = ['1-Star', '2-Star', '3-Star', '4-Star', '5-Star']\n",
    "    df_star['predicted_category'] = pd.cut(df_star['prediction'], bins=bins, labels=labels, right=False)\n",
    "\n",
    "    # 计算每个预测类别的数量\n",
    "    distribution = df_star['predicted_category'].value_counts().reindex(labels, fill_value=0)\n",
    "    print(f\"{actual_star}-star prediction, \\nerror distribution: {distribution}\")\n",
    "\n",
    "    # 绘制柱状图\n",
    "    plt.figure(figsize=(5, 3))\n",
    "    distribution.plot(kind='bar', color='skyblue')\n",
    "    plt.title(title)\n",
    "    plt.xlabel('Predicted Star Rating')\n",
    "    plt.ylabel('Number of Predictions')\n",
    "    plt.xticks(rotation=0)\n",
    "    plt.show()\n",
    "\n",
    "# 调用函数绘制每个实际评分的预测分布图\n",
    "for star in range(1, 6):\n",
    "    plot_distribution(df_merged, star, f\"Distribution for Actual {star}-Star Ratings\")"
   ]
  },
  {
   "cell_type": "code",
   "execution_count": null,
   "id": "eaa9ff52-8af0-4047-81bb-43b3033b6f25",
   "metadata": {},
   "outputs": [],
   "source": []
  },
  {
   "cell_type": "code",
   "execution_count": null,
   "id": "eddc5b2c-afbb-437e-abbc-990248237fcc",
   "metadata": {},
   "outputs": [],
   "source": []
  },
  {
   "cell_type": "markdown",
   "id": "2f5870d5-0795-4da0-a221-7ef40baeb221",
   "metadata": {},
   "source": [
    "# FURTHER Fine-Tune ON YELP_TRUE"
   ]
  },
  {
   "cell_type": "code",
   "execution_count": null,
   "id": "7bd70274-b0fd-4f9c-810a-263334e405b4",
   "metadata": {},
   "outputs": [],
   "source": [
    "# X_val, y_val, X_train, y_train"
   ]
  },
  {
   "cell_type": "code",
   "execution_count": 27,
   "id": "73c319e3-8219-48fb-882c-6aa5244b027a",
   "metadata": {},
   "outputs": [],
   "source": [
    "# !pip install scikit-optimize"
   ]
  },
  {
   "cell_type": "code",
   "execution_count": 37,
   "id": "d802418e-9932-417f-9a58-c17f6f3558bd",
   "metadata": {},
   "outputs": [
    {
     "name": "stdout",
     "output_type": "stream",
     "text": [
      "最佳参数: OrderedDict([('colsample_bytree', 0.58), ('gamma', 0.34), ('learning_rate', 0.033345102554878686), ('max_depth', 9), ('max_leaves', 126), ('n_estimators', 490), ('subsample', 0.9238256765087005)])\n",
      "最终测试集上的RMSE: 0.9584182798931083\n"
     ]
    }
   ],
   "source": [
    "'''!!few CPU consuming and fast!!'''\n",
    "from skopt import BayesSearchCV\n",
    "from xgboost import XGBRegressor\n",
    "from sklearn.metrics import mean_squared_error\n",
    "from skopt.space import Real, Categorical, Integer\n",
    "import numpy as np\n",
    "\n",
    "# # 定义搜索空间\n",
    "# search_spaces = {\n",
    "#     'max_depth': Integer(7, 9),  # 在最佳值8附近细化搜索\n",
    "#     'learning_rate': Real(0.028, 0.032, 'uniform'),  # 继续细化学习率的搜索范围\n",
    "#     'n_estimators': Integer(460, 480),  # 继续细化估计器数量的范围\n",
    "#     'subsample': Real(0.88, 0.92),  # 继续细化subsample的范围\n",
    "#     'colsample_bytree': Real(0.58, 0.62),  # 继续细化colsample_bytree的搜索范围\n",
    "#     'gamma': Real(0.33, 0.37)  # 继续细化gamma的搜索范围\n",
    "# }\n",
    "\n",
    "# 针对性调整搜索空间\n",
    "search_spaces = {\n",
    "    'max_depth': Integer(7, 9),\n",
    "    'learning_rate': Real(0.029, 0.035, 'uniform'),\n",
    "    'n_estimators': Integer(470, 490),\n",
    "    'subsample': Real(0.87, 0.93),\n",
    "    'colsample_bytree': Real(0.58, 0.61),\n",
    "    'gamma': Real(0.34, 0.40),\n",
    "    'max_leaves': Integer(118, 126)\n",
    "}\n",
    "\n",
    "# 创建XGBRegressor模型实例\n",
    "model = XGBRegressor(objective='reg:squarederror')\n",
    "\n",
    "# 创建BayesSearchCV实例\n",
    "bayes_search = BayesSearchCV(model, search_spaces, n_iter=200, scoring='neg_mean_squared_error', cv=4, n_jobs=-1, return_train_score=False, random_state=42)\n",
    "\n",
    "# 使用完整的训练集来寻找最佳模型参数\n",
    "bayes_search.fit(X_train, y_train)\n",
    "\n",
    "# 输出最佳参数和RMSE\n",
    "best_model = bayes_search.best_estimator_\n",
    "y_pred = best_model.predict(X_val)\n",
    "final_rmse = np.sqrt(mean_squared_error(y_val, y_pred))\n",
    "print(\"最佳参数:\", bayes_search.best_params_)\n",
    "print(\"最终测试集上的RMSE:\", final_rmse)"
   ]
  },
  {
   "cell_type": "markdown",
   "id": "7a1809d1-45f6-49f4-98c7-8d8d330bdb7f",
   "metadata": {},
   "source": [
    "> 最佳参数: OrderedDict([('colsample_bytree', 0.666361195324929), ('gamma', 0.27330837738957436), ('learning_rate', 0.024954301649481384), ('max_depth', 8), ('max_leaves', 100), ('n_estimators', 452), ('subsample', 1.0)])\n",
    "最终测试集上的RMSE: 0.9678635570041916\n",
    "\n",
    "> 最佳参数: OrderedDict([('colsample_bytree', 0.6003630307254743), ('gamma', 0.32267450294956274), ('learning_rate', 0.028110340116999862), ('max_depth', 7), ('n_estimators', 458), ('subsample', 0.9274714848835418)])\n",
    "最终测试集上的RMSE: 0.9640748401060636\n",
    "\n",
    "> **最佳参数: OrderedDict([('colsample_bytree', 0.6), ('gamma', 0.35), ('learning_rate', 0.029999999999999995), ('max_depth', 8), ('n_estimators', 468), ('subsample', 0.9)])\n",
    "最终测试集上的RMSE: 0.9500705514804804**\n",
    "\n",
    "> 最佳参数: OrderedDict([('colsample_bytree', 0.6072881476244077), ('gamma', 0.3628798465362447), ('learning_rate', 0.029227134470457283), ('max_depth', 8), ('n_estimators', 480), ('subsample', 0.8869519293950694)])\n",
    "最终测试集上的RMSE: 0.9501365283689958"
   ]
  },
  {
   "cell_type": "markdown",
   "id": "27855417-2aec-4242-b607-7fc2f945e16e",
   "metadata": {},
   "source": [
    "> **最佳参数: OrderedDict([('colsample_bytree', 0.6000253271077364), ('gamma', 0.3476073435753331), ('learning_rate', 0.03186356519406673), ('max_depth', 8), ('n_estimators', 480), ('subsample', 0.8831766281686719)])\n",
    "最终测试集上的RMSE: 0.9472496841333367**"
   ]
  },
  {
   "cell_type": "code",
   "execution_count": 36,
   "id": "ec512f1f-1a28-4e0c-a536-d8edcf5728c0",
   "metadata": {},
   "outputs": [],
   "source": []
  },
  {
   "cell_type": "code",
   "execution_count": null,
   "id": "18a864f2-e5df-416b-ba7e-e66766b65dc0",
   "metadata": {},
   "outputs": [],
   "source": []
  },
  {
   "cell_type": "code",
   "execution_count": null,
   "id": "ccd349a9-1495-4a8b-adc0-9805cab8bbef",
   "metadata": {},
   "outputs": [],
   "source": [
    "# 'colsample_bytree': 0.8, 'gamma': 0.2, 'learning_rate': 0.04, 'max_depth': 7, 'max_leaves': 90, 'n_estimators': 550, 'subsample': 0.9}"
   ]
  },
  {
   "cell_type": "code",
   "execution_count": null,
   "id": "8a364c93-4b9f-4d94-ab30-60329c2845e9",
   "metadata": {},
   "outputs": [],
   "source": [
    "baseline:\n",
    "最佳参数: {'learning_rate': 0.05, 'max_depth': 7, 'max_leaves': 120, 'n_estimators': 300}\n",
    "最终测试集上的RMSE: 0.96323351981516\n",
    "-------------------------------------\n",
    "最佳参数: {'colsample_bytree': 0.75, 'gamma': 0.3, 'learning_rate': 0.04, 'max_depth': 6, 'n_estimators': 550, 'subsample': 0.95}\n",
    "最终测试集上的RMSE: 0.966256275391655\n",
    "\n"
   ]
  },
  {
   "cell_type": "markdown",
   "id": "e4e7a943-2578-4b19-afc5-901975009946",
   "metadata": {
    "jp-MarkdownHeadingCollapsed": true
   },
   "source": [
    "## ARCHIVE"
   ]
  },
  {
   "cell_type": "code",
   "execution_count": 12,
   "id": "d6928f5a-ec8e-41e7-93af-e8756a5d7b0b",
   "metadata": {
    "scrolled": true
   },
   "outputs": [
    {
     "data": {
      "text/plain": [
       "[{'user_id': 'ObQl16Vuc4sHPGKtzSGNUw',\n",
       "  'business_id': 'gm8BAH6eZrDkJv0CCas0Bg',\n",
       "  'stars': 4.0,\n",
       "  'years_on_yelp': 6.328767123287672,\n",
       "  'average_stars': 3.84,\n",
       "  'user_review_count': 417,\n",
       "  'up_votes': 25,\n",
       "  'avg_upvotes_per_year': 3.95021645021645,\n",
       "  'friends_count': 158,\n",
       "  'elite_years': 3,\n",
       "  'num_positive_interactions': 9,\n",
       "  'num_negative_interactions': 29,\n",
       "  'num_neutral_interactions': 17,\n",
       "  'total_ufc_count_per_year': 200.2216497795984,\n",
       "  'avg_ufc_count_per_review': 2.1166666666666667,\n",
       "  'bus_stars': 4.5,\n",
       "  'bus_review_count': 88,\n",
       "  'categories': ['bars',\n",
       "   'cocktail bars',\n",
       "   'nightlife',\n",
       "   'restaurants',\n",
       "   'lounges',\n",
       "   'fondue'],\n",
       "  'city': 'Las Vegas',\n",
       "  'is_open': 0,\n",
       "  'city_encoded': 416,\n",
       "  'review_id': 'AaN59OxHP-Q5-TA8kGKd3w',\n",
       "  'pos_count': 2,\n",
       "  'neg_count': 6,\n",
       "  'ufc_count': 8,\n",
       "  'ufc_count_per_year': 3.2808988764044944,\n",
       "  'affinity_score': 0.4367931814220288},\n",
       " {'user_id': 'ObQl16Vuc4sHPGKtzSGNUw',\n",
       "  'business_id': 'gm8BAH6eZrDkJv0CCas0Bg',\n",
       "  'stars': 4.0,\n",
       "  'years_on_yelp': 6.328767123287672,\n",
       "  'average_stars': 3.84,\n",
       "  'user_review_count': 417,\n",
       "  'up_votes': 25,\n",
       "  'avg_upvotes_per_year': 3.95021645021645,\n",
       "  'friends_count': 158,\n",
       "  'elite_years': 3,\n",
       "  'num_positive_interactions': 9,\n",
       "  'num_negative_interactions': 29,\n",
       "  'num_neutral_interactions': 17,\n",
       "  'total_ufc_count_per_year': 200.2216497795984,\n",
       "  'avg_ufc_count_per_review': 2.1166666666666667,\n",
       "  'bus_stars': 4.5,\n",
       "  'bus_review_count': 88,\n",
       "  'categories': ['bars',\n",
       "   'cocktail bars',\n",
       "   'nightlife',\n",
       "   'restaurants',\n",
       "   'lounges',\n",
       "   'fondue'],\n",
       "  'city': 'Las Vegas',\n",
       "  'is_open': 0,\n",
       "  'city_encoded': 416,\n",
       "  'review_id': 'oN-lGGTWIndQC3uuspbjew',\n",
       "  'pos_count': 0,\n",
       "  'neg_count': 0,\n",
       "  'ufc_count': 0,\n",
       "  'ufc_count_per_year': 0.0,\n",
       "  'affinity_score': 0.4367931814220288},\n",
       " {'user_id': 'ObQl16Vuc4sHPGKtzSGNUw',\n",
       "  'business_id': 'gm8BAH6eZrDkJv0CCas0Bg',\n",
       "  'stars': 4.0,\n",
       "  'years_on_yelp': 6.328767123287672,\n",
       "  'average_stars': 3.84,\n",
       "  'user_review_count': 417,\n",
       "  'up_votes': 25,\n",
       "  'avg_upvotes_per_year': 3.95021645021645,\n",
       "  'friends_count': 158,\n",
       "  'elite_years': 3,\n",
       "  'num_positive_interactions': 9,\n",
       "  'num_negative_interactions': 29,\n",
       "  'num_neutral_interactions': 17,\n",
       "  'total_ufc_count_per_year': 200.2216497795984,\n",
       "  'avg_ufc_count_per_review': 2.1166666666666667,\n",
       "  'bus_stars': 4.5,\n",
       "  'bus_review_count': 88,\n",
       "  'categories': ['bars',\n",
       "   'cocktail bars',\n",
       "   'nightlife',\n",
       "   'restaurants',\n",
       "   'lounges',\n",
       "   'fondue'],\n",
       "  'city': 'Las Vegas',\n",
       "  'is_open': 0,\n",
       "  'city_encoded': 416,\n",
       "  'review_id': '5lfXuIhK3F1u0CCNtXG-JA',\n",
       "  'pos_count': 2,\n",
       "  'neg_count': 3,\n",
       "  'ufc_count': 5,\n",
       "  'ufc_count_per_year': 2.05749718151071,\n",
       "  'affinity_score': 0.4367931814220288},\n",
       " {'user_id': 'ObQl16Vuc4sHPGKtzSGNUw',\n",
       "  'business_id': 'gm8BAH6eZrDkJv0CCas0Bg',\n",
       "  'stars': 4.0,\n",
       "  'years_on_yelp': 6.328767123287672,\n",
       "  'average_stars': 3.84,\n",
       "  'user_review_count': 417,\n",
       "  'up_votes': 25,\n",
       "  'avg_upvotes_per_year': 3.95021645021645,\n",
       "  'friends_count': 158,\n",
       "  'elite_years': 3,\n",
       "  'num_positive_interactions': 9,\n",
       "  'num_negative_interactions': 29,\n",
       "  'num_neutral_interactions': 17,\n",
       "  'total_ufc_count_per_year': 200.2216497795984,\n",
       "  'avg_ufc_count_per_review': 2.1166666666666667,\n",
       "  'bus_stars': 4.5,\n",
       "  'bus_review_count': 88,\n",
       "  'categories': ['bars',\n",
       "   'cocktail bars',\n",
       "   'nightlife',\n",
       "   'restaurants',\n",
       "   'lounges',\n",
       "   'fondue'],\n",
       "  'city': 'Las Vegas',\n",
       "  'is_open': 0,\n",
       "  'city_encoded': 416,\n",
       "  'review_id': '0iuCIcVgi3cMrsMGwe1LUQ',\n",
       "  'pos_count': 45,\n",
       "  'neg_count': 82,\n",
       "  'ufc_count': 127,\n",
       "  'ufc_count_per_year': 53.03775743707094,\n",
       "  'affinity_score': 0.4367931814220288},\n",
       " {'user_id': 'ObQl16Vuc4sHPGKtzSGNUw',\n",
       "  'business_id': 'gm8BAH6eZrDkJv0CCas0Bg',\n",
       "  'stars': 4.0,\n",
       "  'years_on_yelp': 6.328767123287672,\n",
       "  'average_stars': 3.84,\n",
       "  'user_review_count': 417,\n",
       "  'up_votes': 25,\n",
       "  'avg_upvotes_per_year': 3.95021645021645,\n",
       "  'friends_count': 158,\n",
       "  'elite_years': 3,\n",
       "  'num_positive_interactions': 9,\n",
       "  'num_negative_interactions': 29,\n",
       "  'num_neutral_interactions': 17,\n",
       "  'total_ufc_count_per_year': 200.2216497795984,\n",
       "  'avg_ufc_count_per_review': 2.1166666666666667,\n",
       "  'bus_stars': 4.5,\n",
       "  'bus_review_count': 88,\n",
       "  'categories': ['bars',\n",
       "   'cocktail bars',\n",
       "   'nightlife',\n",
       "   'restaurants',\n",
       "   'lounges',\n",
       "   'fondue'],\n",
       "  'city': 'Las Vegas',\n",
       "  'is_open': 0,\n",
       "  'city_encoded': 416,\n",
       "  'review_id': '_8Lp1oYW5L4LTvCxoheydA',\n",
       "  'pos_count': 17,\n",
       "  'neg_count': 42,\n",
       "  'ufc_count': 59,\n",
       "  'ufc_count_per_year': 23.84828349944629,\n",
       "  'affinity_score': 0.4367931814220288}]"
      ]
     },
     "execution_count": 12,
     "metadata": {},
     "output_type": "execute_result"
    }
   ],
   "source": [
    "# final_data"
   ]
  },
  {
   "cell_type": "code",
   "execution_count": 14,
   "id": "68ce1cca-228f-4af8-945a-3672db38fd1e",
   "metadata": {},
   "outputs": [
    {
     "name": "stderr",
     "output_type": "stream",
     "text": [
      "[Stage 256:==================================================>    (48 + 4) / 52]\r"
     ]
    },
    {
     "name": "stdout",
     "output_type": "stream",
     "text": [
      "Original count: 146996, Final RDD count: 7909811\n"
     ]
    },
    {
     "name": "stderr",
     "output_type": "stream",
     "text": [
      "                                                                                \r"
     ]
    }
   ],
   "source": [
    "original_count = len(train_df)  # 获取原始DataFrame的行数\n",
    "final_rdd_count = res_rdd.count()  # 计算处理后的RDD的行数\n",
    "\n",
    "print(f\"Original count: {original_count}, Final RDD count: {final_rdd_count}\")"
   ]
  },
  {
   "cell_type": "code",
   "execution_count": null,
   "id": "f520bba5-cc00-426d-adf4-70884ffd5540",
   "metadata": {},
   "outputs": [],
   "source": []
  },
  {
   "cell_type": "code",
   "execution_count": 18,
   "id": "582d42ad-77e5-43ac-a498-0942853a4380",
   "metadata": {},
   "outputs": [
    {
     "name": "stdout",
     "output_type": "stream",
     "text": [
      "Unique user_ids in user_df: 1518169 Total records in user_df: 1518169\n",
      "Unique business_ids in business_df: 188593 Total records in business_df: 188593\n",
      "Unique review_df in review_df: 24732 Total records in review_df: 455855\n"
     ]
    }
   ],
   "source": [
    "# 检查 user_df 中 user_id 的唯一性\n",
    "print(\"Unique user_ids in user_df:\", feature_processor.user_df['user_id'].nunique(), \"Total records in user_df:\", len(feature_processor.user_df))\n",
    "# 检查 business_df 中 business_id 的唯一性\n",
    "print(\"Unique business_ids in business_df:\", feature_processor.business_df['business_id'].nunique(), \"Total records in business_df:\", len(feature_processor.business_df))\n",
    "# 检查 review_df 中 business_id 的唯一性\n",
    "print(\"Unique review_df in review_df:\", feature_processor.review_df['business_id'].nunique(), \"Total records in review_df:\", len(feature_processor.review_df))"
   ]
  },
  {
   "cell_type": "code",
   "execution_count": null,
   "id": "c685017e-e5c6-4945-ab21-03c67ff8018f",
   "metadata": {},
   "outputs": [],
   "source": []
  },
  {
   "cell_type": "code",
   "execution_count": null,
   "id": "491a6212-308c-42fa-ab33-54669c184483",
   "metadata": {},
   "outputs": [],
   "source": []
  },
  {
   "cell_type": "code",
   "execution_count": null,
   "id": "0a91f3ff-92a4-444f-9936-e64fa420413c",
   "metadata": {},
   "outputs": [],
   "source": []
  },
  {
   "cell_type": "code",
   "execution_count": null,
   "id": "504d7c6b-af06-4cae-ac8a-105b9f843277",
   "metadata": {},
   "outputs": [],
   "source": []
  },
  {
   "cell_type": "code",
   "execution_count": null,
   "id": "ff9e444e-0373-408e-82d2-a813337dd0a9",
   "metadata": {},
   "outputs": [],
   "source": []
  },
  {
   "cell_type": "code",
   "execution_count": null,
   "id": "24dabf48-7045-4f2a-8ac2-485128c69b9b",
   "metadata": {},
   "outputs": [],
   "source": []
  },
  {
   "cell_type": "code",
   "execution_count": null,
   "id": "e771e07a-fc61-48f2-9e6b-e217d507eaf6",
   "metadata": {},
   "outputs": [],
   "source": []
  },
  {
   "cell_type": "code",
   "execution_count": 17,
   "id": "7ae4a9b3-8d01-4ded-a87b-1099f2ee3c82",
   "metadata": {},
   "outputs": [],
   "source": [
    "from MF import matrix_factorization_als\n",
    "\n",
    "final_scores_rdd, final_user_features_rdd, final_biz_features_rdd = matrix_factorization_als(\n",
    "    sc, data_folder_path, file_path\n",
    ")\n",
    "user_features_df = pd.DataFrame(list(final_user_features_rdd.collect()))\n",
    "biz_features_df = pd.DataFrame(list(final_biz_features_rdd.collect()))\n",
    "final_scores_df = pd.DataFrame(list(final_scores_rdd.collect()))\n",
    "\n",
    "user_features_df.columns = ['user_id', 'user_features']\n",
    "biz_features_df.columns = ['business_id', 'biz_features']\n",
    "final_scores_df.columns = ['user_business', 'affinity_score']\n",
    "\n",
    "final_scores_df[['user_id', 'business_id']] = pd.DataFrame(final_scores_df['user_business'].tolist(), index=final_scores_df.index)\n",
    "final_scores_df.drop(columns=['user_business'], inplace=True)\n",
    "\n",
    "# 合并用户特征和商家特征到一个DataFrame\n",
    "features_df = pd.concat([user_features_df.set_index('user_id'), biz_features_df.set_index('business_id')], axis=1, keys=['user_features', 'biz_features'])\n",
    "\n",
    "# 合并亲和力分数\n",
    "features_df = features_df.reset_index().merge(final_scores_df, on=['user_id', 'business_id'], how='left')\n",
    "\n",
    "# 现在将这个features_df合并到train_df\n",
    "train_df = train_df.merge(features_df, on=['user_id', 'business_id'], how='left')"
   ]
  },
  {
   "cell_type": "code",
   "execution_count": null,
   "id": "6c9a44f1-d12b-47f1-adb3-4b1c82d19221",
   "metadata": {},
   "outputs": [],
   "source": [
    "duplicated_business_ids = biz_features_df[biz_features_df.duplicated('business_id', keep=False)]\n",
    "duplicated_user_ids = user_features_df[user_features_df.duplicated('user_id', keep=False)]\n",
    "\n",
    "# 定义一个函数检查向量是否全为0\n",
    "def is_not_zero_vector(vector):\n",
    "    return not np.all(np.array(vector) == 0)\n",
    "\n",
    "# 筛选出向量非空的行\n",
    "non_empty_business_vectors = duplicated_business_ids[duplicated_business_ids['biz_features'].apply(is_not_zero_vector)]\n",
    "non_empty_user_vectors = duplicated_user_ids[duplicated_user_ids['user_features'].apply(is_not_zero_vector)]"
   ]
  },
  {
   "cell_type": "markdown",
   "id": "53747f28-ed33-4d7e-b831-7223077afc3f",
   "metadata": {
    "jp-MarkdownHeadingCollapsed": true
   },
   "source": [
    "## SANITY CHECK"
   ]
  },
  {
   "cell_type": "code",
   "execution_count": null,
   "id": "9377f54a-cdb9-4c5a-a8fd-b9d6cb13e287",
   "metadata": {},
   "outputs": [],
   "source": [
    "# print(\"Duplicated but non-empty business_ids in biz_features_df:\")\n",
    "# print(non_empty_business_vectors)\n",
    "# print(\"Duplicated but non-empty user_ids in user_features_df:\")\n",
    "# print(non_empty_user_vectors)"
   ]
  },
  {
   "cell_type": "code",
   "execution_count": 18,
   "id": "3dd7aefd-a5ab-4692-9390-2756d3f679c2",
   "metadata": {},
   "outputs": [
    {
     "name": "stdout",
     "output_type": "stream",
     "text": [
      "Unique user_ids: False\n",
      "Unique business_ids: False\n"
     ]
    }
   ],
   "source": [
    "# 检查user_id和business_id是否唯一\n",
    "print(\"Unique user_ids:\", user_features_df['user_id'].is_unique)\n",
    "print(\"Unique business_ids:\", biz_features_df['business_id'].is_unique)"
   ]
  },
  {
   "cell_type": "code",
   "execution_count": 23,
   "id": "c2b59a81-9527-4246-a4a4-ffa34563b5b6",
   "metadata": {},
   "outputs": [
    {
     "name": "stdout",
     "output_type": "stream",
     "text": [
      "Duplicated user_ids in user_features_df:\n",
      "                      user_id                                      user_features\n",
      "42     hVidDZUvOiy3xl0v3WKJlg  [-3.2705695629119873, -2.297943353652954, 2.25...\n",
      "62     2pN7H-6Sa38MGVRoDPAlyQ  [0.656044065952301, -0.48291778564453125, -0.4...\n",
      "122    9HZSqrJhVZkjJxKVaOICbg  [0.447206974029541, -0.42813563346862793, -1.3...\n",
      "124    HvZQ9qFkRSxRCI0tMQ6nLA  [0.6126260757446289, -0.11655178666114807, -1....\n",
      "212    ltszS93IpYxdL6X7TioW1A  [-0.32068267464637756, 0.5590187311172485, 0.6...\n",
      "...                       ...                                                ...\n",
      "35860  _ReALUaGu7Qayk4ULX9wnQ  [0.0, 0.0, 0.0, 0.0, 0.0, 0.0, 0.0, 0.0, 0.0, ...\n",
      "35861  FpqMgETBdQZC6DFclkrqLA  [0.0, 0.0, 0.0, 0.0, 0.0, 0.0, 0.0, 0.0, 0.0, ...\n",
      "35862  Dn8PSKgNszrWjyfu6l9NOw  [0.0, 0.0, 0.0, 0.0, 0.0, 0.0, 0.0, 0.0, 0.0, ...\n",
      "35863  Hk7n0zKhcrRwkvqgb_MQ3Q  [0.0, 0.0, 0.0, 0.0, 0.0, 0.0, 0.0, 0.0, 0.0, ...\n",
      "35864  ZMBIjbnvatw6Z6JNPlS99Q  [0.0, 0.0, 0.0, 0.0, 0.0, 0.0, 0.0, 0.0, 0.0, ...\n",
      "\n",
      "[27429 rows x 2 columns]\n"
     ]
    }
   ],
   "source": [
    "duplicated_user_ids = user_features_df[user_features_df.duplicated('user_id', keep=False)]\n",
    "print(\"Duplicated user_ids in user_features_df:\")\n",
    "print(duplicated_user_ids)"
   ]
  },
  {
   "cell_type": "code",
   "execution_count": 24,
   "id": "3f6f7dca-762d-428d-b21d-35a4b045f94d",
   "metadata": {},
   "outputs": [
    {
     "name": "stdout",
     "output_type": "stream",
     "text": [
      "Duplicated business_ids in biz_features_df:\n",
      "                  business_id                                       biz_features\n",
      "0      azE1DNVQFBU8boVbaJhj7w  [-0.069764643907547, 0.07717323303222656, -0.0...\n",
      "1      cGQKUOAZm_VHcQOJWbatog  [-0.06328084319829941, 0.05636825039982796, -0...\n",
      "2      7wMB3wMbOp0gq3l6nHfOaA  [-0.04981762170791626, 0.03817032277584076, 0....\n",
      "4      G2hXfdIKdhI6TVQrXpTnFA  [-0.05244649946689606, 0.009833292104303837, -...\n",
      "5      k8NHw2fUjisdp38PLCl0JA  [-0.05097943916916847, 0.02158268168568611, -0...\n",
      "...                       ...                                                ...\n",
      "48268  uOh6X33yWo03vp2kKqEXmA  [0.0, 0.0, 0.0, 0.0, 0.0, 0.0, 0.0, 0.0, 0.0, ...\n",
      "48269  ZWcXoh_RO7rT2DdcyOzyfQ  [0.0, 0.0, 0.0, 0.0, 0.0, 0.0, 0.0, 0.0, 0.0, ...\n",
      "48270  272a60ze8sADYRR6GyJ3GA  [0.0, 0.0, 0.0, 0.0, 0.0, 0.0, 0.0, 0.0, 0.0, ...\n",
      "48271  HFPovXxiMQ451N80-E-vyQ  [0.0, 0.0, 0.0, 0.0, 0.0, 0.0, 0.0, 0.0, 0.0, ...\n",
      "48272  vchjO0Vs5FwW2tpFnCimqg  [0.0, 0.0, 0.0, 0.0, 0.0, 0.0, 0.0, 0.0, 0.0, ...\n",
      "\n",
      "[37347 rows x 2 columns]\n"
     ]
    }
   ],
   "source": [
    "# 检查 biz_features_df 中的非唯一 business_id\n",
    "duplicated_business_ids = biz_features_df[biz_features_df.duplicated('business_id', keep=False)]\n",
    "print(\"Duplicated business_ids in biz_features_df:\")\n",
    "print(duplicated_business_ids)"
   ]
  },
  {
   "cell_type": "code",
   "execution_count": null,
   "id": "64b5e0e4-ca5b-47a7-a0f8-f416ff9123da",
   "metadata": {},
   "outputs": [],
   "source": []
  },
  {
   "cell_type": "code",
   "execution_count": null,
   "id": "1cc72b3c-d8e7-4175-8afe-7e09b0402751",
   "metadata": {},
   "outputs": [],
   "source": []
  },
  {
   "cell_type": "code",
   "execution_count": null,
   "id": "49a698fd-0cca-4133-aeee-cafe9ee79a49",
   "metadata": {},
   "outputs": [],
   "source": []
  },
  {
   "cell_type": "code",
   "execution_count": null,
   "id": "16bf0806-ac86-4666-82a0-dd2abb4f975c",
   "metadata": {},
   "outputs": [],
   "source": []
  },
  {
   "cell_type": "markdown",
   "id": "cd4a068d-c031-4796-a093-3d12418f4a69",
   "metadata": {},
   "source": [
    "## Train data TestGround Start Here "
   ]
  },
  {
   "cell_type": "code",
   "execution_count": null,
   "id": "8ca6ac7f-1bea-4f04-b969-ad8714c9750c",
   "metadata": {},
   "outputs": [],
   "source": []
  },
  {
   "cell_type": "code",
   "execution_count": null,
   "id": "f9f8a693-f626-44df-97c3-a43bec68872c",
   "metadata": {},
   "outputs": [],
   "source": []
  },
  {
   "cell_type": "code",
   "execution_count": null,
   "id": "5a404a60-0f6e-47d3-a21f-1744840d1bc6",
   "metadata": {},
   "outputs": [],
   "source": []
  },
  {
   "cell_type": "code",
   "execution_count": null,
   "id": "05e041f2-2129-4704-ba7b-73396280748a",
   "metadata": {},
   "outputs": [],
   "source": []
  },
  {
   "cell_type": "code",
   "execution_count": null,
   "id": "1b1f33ea-c5c7-4fd7-95b1-4484bae7b6f5",
   "metadata": {},
   "outputs": [],
   "source": []
  },
  {
   "cell_type": "code",
   "execution_count": null,
   "id": "40f1060f-2d89-48b4-bb37-329ae8bc6ffe",
   "metadata": {},
   "outputs": [],
   "source": []
  },
  {
   "cell_type": "code",
   "execution_count": null,
   "id": "4eef8d84-d458-4d88-a586-0a92e505d900",
   "metadata": {},
   "outputs": [],
   "source": []
  }
 ],
 "metadata": {
  "kernelspec": {
   "display_name": "Python 3 (ipykernel)",
   "language": "python",
   "name": "python3"
  },
  "language_info": {
   "codemirror_mode": {
    "name": "ipython",
    "version": 3
   },
   "file_extension": ".py",
   "mimetype": "text/x-python",
   "name": "python",
   "nbconvert_exporter": "python",
   "pygments_lexer": "ipython3",
   "version": "3.8.10"
  }
 },
 "nbformat": 4,
 "nbformat_minor": 5
}
