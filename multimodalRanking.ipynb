{
 "cells": [
  {
   "cell_type": "code",
   "execution_count": 1,
   "id": "a2a7bb63",
   "metadata": {},
   "outputs": [
    {
     "name": "stdout",
     "output_type": "stream",
     "text": [
      "Using device: cuda\n"
     ]
    }
   ],
   "source": [
    "import pandas as pd\n",
    "import numpy as np\n",
    "import torch\n",
    "from torch import nn\n",
    "from torch.utils.data import Dataset, DataLoader\n",
    "from sklearn.preprocessing import LabelEncoder, MultiLabelBinarizer, StandardScaler\n",
    "from sklearn.model_selection import train_test_split\n",
    "import tensorflow as tf\n",
    "import tensorflow_hub as hub\n",
    "from transformers import CLIPProcessor, CLIPModel,BertTokenizer, BertModel\n",
    "from PIL import Image\n",
    "from tqdm import tqdm\n",
    "import random\n",
    "import os\n",
    "import numpy as np\n",
    "import seaborn as sns\n",
    "import matplotlib.pyplot as plt\n",
    "from sklearn.metrics.pairwise import cosine_similarity\n",
    "device = torch.device('cuda' if torch.cuda.is_available() else 'cpu')\n",
    "print(f\"Using device: {device}\")\n"
   ]
  },
  {
   "cell_type": "code",
   "execution_count": 2,
   "id": "ca4f4e82",
   "metadata": {},
   "outputs": [
    {
     "name": "stdout",
     "output_type": "stream",
     "text": [
      "['review_id', 'user_id', 'business_id', 'stars', 'useful_review', 'funny_review', 'cool_review', 'text', 'date', 'name', 'review_count', 'yelping_since', 'useful_user', 'funny_user', 'cool_user', 'elite', 'friends', 'fans', 'average_stars', 'compliment_hot', 'compliment_more', 'compliment_profile', 'compliment_cute', 'compliment_list', 'compliment_note', 'compliment_plain', 'compliment_cool', 'compliment_funny', 'compliment_writer', 'compliment_photos', 'name_business', 'address', 'city', 'state', 'postal_code', 'latitude', 'longitude', 'stars_business', 'review_count_business', 'is_open', 'attributes', 'categories', 'hours', 'user_index', 'business_index']\n"
     ]
    }
   ],
   "source": [
    "\n",
    "business_df = pd.read_json('yelp_academic_dataset_business.json', lines=True,nrows=10000)\n",
    "user_df = pd.read_json('yelp_academic_dataset_user.json', lines=True,nrows=10000)\n",
    "review_df = pd.read_json('yelp_academic_dataset_review.json', lines=True,nrows=10000)\n",
    "photo_df = pd.read_json('photos.json', lines=True,nrows=10000)\n",
    "business_ids = set(business_df['business_id'])\n",
    "user_ids = set(user_df['user_id'])\n",
    "review_df = review_df[review_df['business_id'].isin(business_ids) & review_df['user_id'].isin(user_ids)]\n",
    "\n",
    "data = pd.merge(review_df, user_df, on='user_id', suffixes=('_review', '_user'))\n",
    "data = pd.merge(data, business_df, on='business_id', suffixes=('', '_business'))\n",
    "\n",
    "user_encoder = LabelEncoder()\n",
    "data['user_index'] = user_encoder.fit_transform(data['user_id'])\n",
    "business_encoder = LabelEncoder()\n",
    "data['business_index'] = business_encoder.fit_transform(data['business_id'])\n",
    "num_users = data['user_index'].nunique()\n",
    "num_businesses = data['business_index'].nunique()\n",
    "print(data.columns.tolist())"
   ]
  },
  {
   "cell_type": "code",
   "execution_count": 8,
   "id": "d2482a28",
   "metadata": {
    "scrolled": true
   },
   "outputs": [
    {
     "name": "stderr",
     "output_type": "stream",
     "text": [
      "d:\\python37\\lib\\site-packages\\ipykernel_launcher.py:37: FutureWarning: Passing 'suffixes' which cause duplicate columns {'latitude_x', 'longitude_x'} in the result is deprecated and will raise a MergeError in a future version.\n",
      "d:\\python37\\lib\\site-packages\\ipykernel_launcher.py:56: FutureWarning: Passing 'suffixes' which cause duplicate columns {'Patio Coverings_x', 'Masonry/Concrete_x', 'Aquariums_x', 'Strip Clubs_x', 'Employment Law_x', 'Pet Breeders_x', 'Active Life_x', 'Jails & Prisons_x', 'Childbirth Education_x', 'Jewelry Repair_x', 'Kickboxing_x', 'Dim Sum_x', 'Sandwiches_x', 'Pool Cleaners_x', 'Delis_x', 'Building Supplies_x', 'Personal Injury Law_x', 'Adult Entertainment_x', 'Metal Fabricators_x', 'Tiki Bars_x', 'Public Markets_x', 'Customized Merchandise_x', 'Race Tracks_x', 'Sports Bars_x', 'Wigs_x', 'Trailer Dealers_x', 'Fruits & Veggies_x', 'Scavenger Hunts_x', 'Pubs_x', 'Window Washing_x', 'Emergency Pet Hospital_x', 'Vocational & Technical School_x', 'Graphic Design_x', 'Puerto Rican_x', 'Airport Shuttles_x', 'Carpeting_x', 'Irrigation_x', 'Food Court_x', 'Middle Schools & High Schools_x', 'Diving_x', 'Naturopathic/Holistic_x', 'Shredding Services_x', 'Cardio Classes_x', 'Real Estate Services_x', 'Auction Houses_x', 'Canadian (New)_x', 'Food Tours_x', 'Gardeners_x', 'Astrologers_x', 'Pediatricians_x', 'Private Investigation_x', 'Acai Bowls_x', 'Souvenir Shops_x', 'Appraisal Services_x', 'Specialty Food_x', 'Team Building Activities_x', 'Dog Parks_x', 'University Housing_x', 'Honduran_x', 'Vehicle Wraps_x', 'Windows Installation_x', 'Pediatric Dentists_x', 'Fertility_x', 'House Sitters_x', 'Fish & Chips_x', 'Portuguese_x', 'Powder Coating_x', 'Tobacco Shops_x', 'Trailer Repair_x', 'Body Shops_x', 'Eyewear & Opticians_x', 'Fishing_x', 'Cooking Schools_x', 'Disc Golf_x', 'Rafting/Kayaking_x', 'Pet Adoption_x', 'Piano Bars_x', 'Pharmacy_x', 'Bed & Breakfast_x', 'Comic Books_x', 'Formal Wear_x', 'Coffee & Tea_x', 'Immigration Law_x', 'Movers_x', 'Septic Services_x', 'Books_x', 'Cannabis Clinics_x', 'Waldorf Schools_x', 'Halotherapy_x', 'Auto Repair_x', 'Music Production Services_x', 'Creperies_x', 'Oil Change Stations_x', 'Property Management_x', 'Shared Office Spaces_x', 'Firearm Training_x', 'Challenge Courses_x', 'Trailer Rental_x', 'Education_x', 'Crane Services_x', 'Pop-up Shops_x', 'Home & Rental Insurance_x', 'Safety Equipment_x', 'Photographers_x', 'Skilled Nursing_x', 'Pan Asian_x', 'Fabric Stores_x', 'Home Services_x', 'Poutineries_x', 'Rock Climbing_x', 'RV Rental_x', 'Boudoir Photography_x', 'Libraries_x', 'Bounce House Rentals_x', 'Machine & Tool Rental_x', 'Arabic_x', 'Cosmetology Schools_x', 'Burgers_x', 'Spanish_x', 'Bicycles_x', 'Music & DVDs_x', 'Screen Printing/T-Shirt Printing_x', 'Virtual Reality Centers_x', 'Heating & Air Conditioning/HVAC_x', 'Wills_x', 'Diners_x', 'Clothing Rental_x', 'Decks & Railing_x', 'Peruvian_x', 'Sports Medicine_x', 'Diagnostic Services_x', 'Shoe Stores_x', 'Business Consulting_x', \"Men's Hair Salons_x\", 'Coffee & Tea Supplies_x', 'Chinese_x', 'Architectural Tours_x', 'Couriers & Delivery Services_x', 'Airports_x', 'Brasseries_x', 'Buses_x', 'Elementary Schools_x', 'Motorcycle Repair_x', 'Rheumatologists_x', 'Car Inspectors_x', 'Amusement Parks_x', 'Firewood_x', 'Talent Agencies_x', 'Art Space Rentals_x', 'Used Car Dealers_x', 'Preschools_x', 'Specialty Schools_x', 'Soccer_x', 'Kebab_x', 'Packing Services_x', 'Tours_x', 'Hawaiian_x', 'Henna Artists_x', 'Safe Stores_x', 'Steakhouses_x', 'Hydro-jetting_x', 'French_x', 'Commercial Truck Dealers_x', 'Event Photography_x', 'Public Relations_x', 'Air Duct Cleaning_x', 'Cards & Stationery_x', 'Lawn Services_x', 'Fashion_x', 'Assisted Living Facilities_x', 'Bike Repair_x', 'Carpet Installation_x', 'Auto Upholstery_x', 'Indian_x', 'Ultrasound Imaging Centers_x', 'Junkyards_x', 'Cupcakes_x', 'Estate Liquidation_x', 'Patisserie/Cake Shop_x', 'Tennis_x', 'Golf Equipment_x', 'Videos & Video Game Rental_x', 'Free Diving_x', 'Door Sales/Installation_x', 'Soup_x', 'Environmental Abatement_x', 'Tea Rooms_x', 'Podiatrists_x', 'Pickleball_x', 'Donuts_x', 'Urgent Care_x', 'Foundation Repair_x', 'Interval Training Gyms_x', 'Ethnic Food_x', 'Surgeons_x', 'Security Services_x', 'Water Parks_x', 'Bus Tours_x', 'Bike Repair/Maintenance_x', 'Commercial Real Estate_x', 'Do-It-Yourself Food_x', 'Ethical Grocery_x', 'Employment Agencies_x', 'Bookkeepers_x', 'Escape Games_x', 'Boating_x', 'Allergists_x', 'Flea Markets_x', 'Meditation Centers_x', 'Discount Store_x', 'Haitian_x', 'Motorcycle Rental_x', 'Shopping_x', 'Wholesale Stores_x', 'Hearing Aid Providers_x', 'Internet Cafes_x', 'Drywall Installation & Repair_x', 'Korean_x', 'Home Staging_x', 'Gemstones & Minerals_x', 'Glass Blowing_x', 'Oriental_x', 'Bespoke Clothing_x', 'Appliances_x', 'Blood & Plasma Donation Centers_x', 'Registration Services_x', 'Himalayan/Nepalese_x', 'Russian_x', 'Snow Removal_x', 'Water Suppliers_x', 'Junk Removal & Hauling_x', 'Art Schools_x', 'Bagels_x', 'Prenatal/Perinatal Care_x', 'Wine Bars_x', 'Car Dealers_x', 'Guns & Ammo_x', 'Fireplace Services_x', 'High Fidelity Audio Equipment_x', 'Batting Cages_x', 'Cafeteria_x', 'Donation Center_x', 'Hainan_x', 'Outdoor Furniture Stores_x', 'Karaoke_x', 'Laundromat_x', 'Signmaking_x', 'Title Loans_x', 'Cheesesteaks_x', 'Day Camps_x', 'Coffeeshops_x', 'Popcorn Shops_x', 'Urologists_x', 'Health Retreats_x', 'Boat Repair_x', 'Laboratory Testing_x', 'Snorkeling_x', 'RV Repair_x', 'Cannabis Dispensaries_x', 'Farming Equipment_x', 'Colombian_x', 'Festivals_x', 'Magicians_x', 'American (Traditional)_x', 'Farms_x', 'Parenting Classes_x', 'Cardiologists_x', 'Mongolian_x', 'Lingerie_x', 'Pets_x', 'Plumbing_x', 'Private Schools_x', 'Skin Care_x', 'Thai_x', 'Dog Walkers_x', 'Stadiums & Arenas_x', 'Hair Salons_x', 'Grilling Equipment_x', 'Wildlife Control_x', 'DJs_x', 'Arts & Crafts_x', 'Windshield Installation & Repair_x', 'Malaysian_x', 'Bankruptcy Law_x', 'Occupational Therapy_x', 'Thrift Stores_x', 'Afghan_x', 'Spine Surgeons_x', 'Casinos_x', 'Battery Stores_x', 'Garage Door Services_x', 'Video/Film Production_x', 'Waffles_x', 'Estheticians_x', 'Truck Rental_x', 'Architects_x', 'Food Stands_x', 'Props_x', 'Psychiatrists_x', 'Public Services & Government_x', 'Fingerprinting_x', 'Radio Stations_x', 'Train Stations_x', 'Engraving_x', 'Museums_x', 'Yoga_x', 'Osteopathic Physicians_x', 'Pilates_x', 'Farmers Market_x', 'Home & Garden_x', 'Middle Eastern_x', 'Pool & Billiards_x', 'Laser Hair Removal_x', 'Body Contouring_x', 'Party & Event Planning_x', 'Tuscan_x', 'Circuit Training Gyms_x', 'Gelato_x', 'Club Crawl_x', 'Cideries_x', 'Mortgage Brokers_x', 'Blow Dry/Out Services_x', 'Kids Activities_x', 'Bartenders_x', 'Medical Spas_x', 'Photography Stores & Services_x', 'Apartments_x', 'Religious Schools_x', 'Grocery_x', 'Auto Customization_x', 'Security Systems_x', 'Periodontists_x', 'Champagne Bars_x', '& Probates_x', 'Dumpster Rental_x', 'Knife Sharpening_x', 'Dance Schools_x', 'Grout Services_x', 'Television Service Providers_x', 'Nightlife_x', 'Audiologist_x', 'Maternity Wear_x', 'Car Brokers_x', 'Special Education_x', 'Pet Insurance_x', 'Awnings_x', 'Latin American_x', 'Fondue_x', 'Caterers_x', 'Paint Stores_x', 'Self-defense Classes_x', 'Videographers_x', 'Oral Surgeons_x', 'Traditional Chinese Medicine_x', 'Basketball Courts_x', 'Holiday Decorations_x', 'Taiwanese_x', 'Art Tours_x', 'Alternative Medicine_x', 'Speakeasies_x', 'Banks & Credit Unions_x', 'Hair Stylists_x', 'Solar Installation_x', 'Shanghainese_x', 'Tanning_x', 'Cajun/Creole_x', 'Pole Dancing Classes_x', 'Tex-Mex_x', 'Hostels_x', 'Speech Therapists_x', 'Dance Studios_x', 'Rugs_x', 'Cantonese_x', 'Local Fish Stores_x', 'Medical Cannabis Referrals_x', 'Axe Throwing_x', 'Czech_x', 'Financial Advising_x', 'Guest Houses_x', 'Outdoor Gear_x', 'Furniture Stores_x', 'Permanent Makeup_x', 'Service Stations_x', 'Haunted Houses_x', 'Cabaret_x', 'Mass Media_x', 'Whiskey Bars_x', 'Outdoor Power Equipment Services_x', 'Beer Gardens_x', 'Paint-Your-Own Pottery_x', 'Sunglasses_x', 'Ayurveda_x', 'Personal Shopping_x', 'Physical Therapy_x', 'Gunsmith_x', 'Cycling Classes_x', 'Test Preparation_x', 'Falafel_x', 'New Mexican Cuisine_x', 'Botanical Gardens_x', 'Bicycle Paths_x', 'Bike Sharing_x', 'Cooking Classes_x', 'Badminton_x', 'Rehabilitation Center_x', 'Religious Items_x', 'Glass & Mirrors_x', 'Roof Inspectors_x', 'Vegan_x', 'Video Game Stores_x', 'Somali_x', 'Archery_x', 'Gutter Services_x', 'Medical Centers_x', 'Mobile Phone Accessories_x', 'Mountain Biking_x', 'Installment Loans_x', 'Ski & Snowboard Shops_x', 'Doctors_x', 'Vacation Rentals_x', 'Pizza_x', 'Guitar Stores_x', 'Taekwondo_x', 'Personal Assistants_x', 'Interior Design_x', 'Eyebrow Services_x', 'International_x', 'Vacation Rental Agents_x', 'Computers_x', 'Beer_x', 'Roadside Assistance_x', 'Bookstores_x', 'Art Galleries_x', 'Payroll Services_x', 'Real Estate Law_x', 'Art Museums_x', 'Excavation Services_x', 'Bubble Tea_x', 'DUI Law_x', 'Motorcycle Parts & Supplies_x', 'Irish Pub_x', 'Nail Technicians_x', 'Tree Services_x', 'Ticket Sales_x', 'Office Equipment_x', 'Electricians_x', 'Car Share Services_x', 'Laser Tag_x', 'Prosthodontists_x', 'Utilities_x', 'Home Window Tinting_x', 'Petting Zoos_x', 'Wine Tasting Classes_x', 'Dominican_x', 'Macarons_x', 'Photography Classes_x', 'Musical Instruments & Teachers_x', 'Delicatessen_x', 'Furniture Assembly_x', 'Transportation_x', 'British_x', 'Outlet Stores_x', 'Piano Stores_x', 'Car Rental_x', 'Aerial Fitness_x', 'Hunting & Fishing Supplies_x', 'Beaches_x', 'Wineries_x', 'Dive Shops_x', 'Dance Clubs_x', 'Sardinian_x', 'Laser Eye Surgery/Lasik_x', 'Senegalese_x', 'Pet Training_x', 'Hockey Equipment_x', 'ATV Rentals/Tours_x', 'Car Auctions_x', 'Paintball_x', 'Live/Raw Food_x', 'Water Delivery_x', 'Pet Hospice_x', 'Italian_x', 'Nurseries & Gardening_x', 'Gold Buyers_x', 'Modern European_x', 'Golf Equipment Shops_x', 'Surf Schools_x', 'Sporting Goods_x', 'Home Developers_x', 'Obstetricians & Gynecologists_x', 'Furniture Repair_x', 'Toy Stores_x', 'Persian/Iranian_x', 'Shutters_x', 'Reflexology_x', 'Psychic Mediums_x', 'Structural Engineers_x', 'Observatories_x', 'Shipping Centers_x', 'Amateur Sports Teams_x', 'Boot Camps_x', 'Travel Agents_x', 'Car Stereo Installation_x', 'Pet Sitting_x', 'Filipino_x', 'Painters_x', 'Clock Repair_x', 'Mortgage Lenders_x', 'Officiants_x', 'Motorcycle Dealers_x', 'Educational Services_x', 'Hotels_x', 'Chocolatiers & Shops_x', 'Motorsport Vehicle Repairs_x', 'Television Stations_x', 'Argentine_x', 'Barbers_x', 'Cheese Shops_x', 'Waxing_x', 'Drive-Thru Bars_x', 'Contractors_x', 'Brazilian_x', 'Desserts_x', 'Ethnic Grocery_x', 'Towing_x', 'Pet Boarding_x', 'Art Classes_x', 'Ice Cream & Frozen Yogurt_x', 'Yelp Events_x', 'Health Markets_x', 'Aquarium Services_x', 'Dive Bars_x', 'Food_x', 'Nanny Services_x', 'Self Storage_x', 'Tubing_x', 'Food Trucks_x', 'Party Equipment Rentals_x', 'Fitness/Exercise Equipment_x', 'Veterinarians_x', 'Distilleries_x', 'Tacos_x', 'Ranches_x', 'Cuban_x', 'Airport Terminals_x', 'Musicians_x', 'Zoos_x', 'Taxidermy_x', 'Beverage Store_x', 'Kitchen & Bath_x', 'Limos_x', 'Donairs_x', 'Personal Chefs_x', 'Sports Clubs_x', 'Syrian_x', 'Propane_x', 'Halal_x', 'Hair Extensions_x', 'Music & Video_x', 'Print Media_x', 'Arts & Entertainment_x', 'TV Mounting_x', 'Pool & Hot Tub Service_x', 'Professional Sports Teams_x', 'Shoe Shine_x', 'Bird Shops_x', 'Pick Your Own Farms_x', 'Synagogues_x', 'Dental Hygienists_x', 'Mini Golf_x', 'Muay Thai_x', 'Golf_x', 'Bridal_x', 'Hydroponics_x', 'Tax Services_x', 'Packing Supplies_x', 'Brewpubs_x', 'Eatertainment_x', 'Hot Pot_x', 'Wheel & Rim Repair_x', 'Pet Cremation Services_x', 'Indoor Playcentre_x', 'Medical Transportation_x', 'Cosmetic Surgeons_x', 'Swimwear_x', 'Automotive_x', 'General Litigation_x', 'Herbs & Spices_x', 'Screen Printing_x', 'Home Cleaning_x', 'Legal Services_x', 'Auto Security_x', 'Beer Bar_x', 'Homeowner Association_x', 'Ramen_x', 'Surfing_x', 'Orthopedists_x', 'Midwives_x', 'Bar Crawl_x', 'Post Offices_x', 'Condominiums_x', 'Tapas Bars_x', 'Tanning Beds_x', 'Historical Tours_x', 'Lebanese_x', 'Endodontists_x', 'Boat Tours_x', \"Children's Museums_x\", 'Reproductive Health Services_x', 'Churches_x', 'Wedding Planning_x', 'Balloon Services_x', 'Hair Removal_x', 'Livestock Feed & Supply_x', 'Southern_x', 'Wedding Chapels_x', 'Colonics_x', 'Countertop Installation_x', 'Gay Bars_x', 'Laotian_x', 'German_x', 'Auto Insurance_x', 'Candle Stores_x', 'Gastroenterologist_x', 'Fast Food_x', 'Nutritionists_x', 'Religious Organizations_x', 'Shoe Repair_x', 'Mobile Phone Repair_x', 'Hardware Stores_x', 'Financial Services_x', 'Oncologist_x', 'Passport & Visa Services_x', 'Business Law_x', 'Personal Care Services_x', 'Travel Services_x', 'Optometrists_x', 'Pet Stores_x', \"Women's Clothing_x\", 'Fire Protection Services_x', 'Private Tutors_x', 'Radiologists_x', 'Gyms_x', 'Arcades_x', 'Embroidery & Crochet_x', 'Gymnastics_x', 'Comfort Food_x', 'Community Service/Non-Profit_x', 'Parasailing_x', 'Damage Restoration_x', 'Home Inspectors_x', 'Landscaping_x', 'Playgrounds_x', 'Shopping Centers_x', 'Skating Rinks_x', 'Spray Tanning_x', 'Teppanyaki_x', 'Weight Loss Centers_x', 'Sewing & Alterations_x', 'Furniture Reupholstery_x', 'Web Design_x', 'Military Surplus_x', 'Internal Medicine_x', 'Jazz & Blues_x', 'Japanese_x', 'Pool Halls_x', 'Juice Bars & Smoothies_x', 'Chimney Sweeps_x', 'Bus Rental_x', 'Scuba Diving_x', 'Mobile Home Repair_x', 'Photo Booth Rentals_x', 'Gluten-Free_x', 'Doulas_x', 'Makeup Artists_x', 'Venezuelan_x', 'Perfume_x', 'Police Departments_x', 'Hotels & Travel_x', 'Hiking_x', 'Community Centers_x', 'Cultural Center_x', 'Chiropractors_x', 'Walk-in Clinics_x', 'Restaurant Supplies_x', 'Carpet Cleaning_x', 'Trinidadian_x', 'Leisure Centers_x', 'Recreation Centers_x', 'Sleep Specialists_x', 'Mediterranean_x', 'Well Drilling_x', 'Food Delivery Services_x', 'Tapas/Small Plates_x', 'Landscape Architects_x', 'Sushi Bars_x', 'Local Flavor_x', 'Boxing_x', 'Pakistani_x', 'Wine & Spirits_x', 'Seafood_x', 'Used Bookstore_x', 'Pest Control_x', 'Smokehouse_x', 'Armenian_x', 'Aestheticians_x', 'Kitchen Incubators_x', 'Beauty & Spas_x', 'Parking_x', 'Adult Education_x', 'Cigar Bars_x', 'Lighting Stores_x', 'Airlines_x', 'Acupuncture_x', 'Skate Shops_x', 'Refinishing Services_x', 'Health Coach_x', 'Taxis_x', 'Gastropubs_x', 'Handyman_x', 'Mobile Phones_x', 'Endocrinologists_x', 'Pet Waste Removal_x', 'Wraps_x', 'Commercial Truck Repair_x', 'Campgrounds_x', 'Divorce & Family Law_x', 'Karate_x', 'Piano Services_x', 'Home Network Installation_x', 'Paddleboarding_x', 'Parks_x', 'IV Hydration_x', 'Hydrotherapy_x', 'Town Car Service_x', 'Courthouses_x', 'Landmarks & Historical Buildings_x', 'Kitchen Supplies_x', 'Sugaring_x', 'RV Dealers_x', 'Wholesalers_x', 'Airport Lounges_x', 'Car Buyers_x', 'Language Schools_x', 'Costumes_x', 'Digitizing Services_x', 'Kombucha_x', 'Car Wash_x', 'Moroccan_x', 'Cambodian_x', 'Motorcycle Gear_x', 'Breakfast & Brunch_x', 'Ethiopian_x', 'Printing Services_x', 'Climbing_x', 'Hong Kong Style Cafe_x', 'Sicilian_x', 'Szechuan_x', 'Home Health Care_x', 'Scooter Rentals_x', 'Themed Cafes_x', 'Acne Treatment_x', 'Local Services_x', 'Surf Shop_x', 'Turkish_x', 'Lakes_x', 'Marketing_x', 'Demolition Services_x', 'Party Bike Rentals_x', 'Session Photography_x', 'Chicken Wings_x', 'Mobile Dent Repair_x', 'Counseling & Mental Health_x', 'Pasta Shops_x', 'Wine Tasting Room_x', 'Go Karts_x', 'Department Stores_x', 'Business Financing_x', 'General Dentistry_x', 'Gas Stations_x', 'Water Heater Installation/Repair_x', 'Horse Equipment Shops_x', 'Tires_x', 'Caribbean_x', 'Noodles_x', 'Auto Glass Services_x', 'Fences & Gates_x', 'Roofing_x', 'Real Estate Agents_x', 'EV Charging Stations_x', 'Orthodontists_x', 'Used_x', 'Head Shops_x', 'Child Care & Day Care_x', 'Soul Food_x', 'Public Transportation_x', 'Recycling Center_x', 'Billing Services_x', 'Saunas_x', 'Nursing Schools_x', 'Asian Fusion_x', 'Medical Supplies_x', 'Baby Gear & Furniture_x', 'Attraction Farms_x', 'Notaries_x', 'Ophthalmologists_x', 'Smog Check Stations_x', 'Cryotherapy_x', 'Investing_x', 'Trusts_x', 'Colleges & Universities_x', 'Flooring_x', 'Plastic Surgeons_x', 'Comedy Clubs_x', 'Memory Care_x', 'Musical Instrument Services_x', 'Public Art_x', 'Workers Compensation Law_x', 'Street Vendors_x', 'Eyelash Service_x', 'Hypnosis/Hypnotherapy_x', 'Cannabis Collective_x', 'Internet Service Providers_x', 'Tutoring Centers_x', 'Criminal Defense Law_x', 'Greek_x', 'Hospice_x', 'Jet Skis_x', 'Swimming Pools_x', 'Anesthesiologists_x', 'Poke_x', 'Advertising_x', 'Check Cashing/Pay-day Loans_x', 'Cabinetry_x', 'Seafood Markets_x', 'Spiritual Shop_x', 'Driving Schools_x', 'Environmental Testing_x', 'Nail Salons_x', 'Salad_x', 'Shades & Blinds_x', 'Hobby Shops_x', 'Venues & Event Spaces_x', 'Hats_x', 'Tasting Classes_x', 'Salvadoran_x', 'Pet Services_x', 'Christmas Trees_x', 'Data Recovery_x', 'Day Spas_x', 'Piercing_x', 'Watch Repair_x', 'Plus Size Fashion_x', 'Cocktail Bars_x', 'Coffee Roasteries_x', 'Music Venues_x', 'Watches_x', 'Polish_x', 'Vintage & Consignment_x', 'Massage Schools_x', 'Threading Services_x', 'Water Purification Services_x', 'Appliances & Repair_x', 'American (New)_x', 'Social Clubs_x', 'Traffic Schools_x', 'Pop-Up Restaurants_x', 'Boat Dealers_x', 'Uniforms_x', 'Dry Cleaning & Laundry_x', 'Placenta Encapsulations_x', 'Vitamins & Supplements_x', 'Waterproofing_x', 'Herbal Shops_x', 'Party Supplies_x', 'Diagnostic Imaging_x', 'Real Estate Photography_x', 'Estate Planning Law_x', 'Mags_x', 'Sports Wear_x', 'Burmese_x', 'Immunodermatologists_x', 'Dentists_x', 'Recording & Rehearsal Studios_x', 'Boat Charters_x', 'Ear Nose & Throat_x', 'Meat Shops_x', 'Golf Lessons_x', 'Home Energy Auditors_x', 'Animal Shelters_x', 'Hospitals_x', 'Machine Shops_x', 'Skate Parks_x', 'Auto Parts & Supplies_x', 'Floral Designers_x', 'Home Organization_x', 'Pawn Shops_x', 'Bingo Halls_x', 'Lounges_x', 'Career Counseling_x', 'Keys & Locksmiths_x', 'Trampoline Parks_x', 'Accessories_x', 'Candy Stores_x', 'Hookah Bars_x', 'Cinema_x', 'Jewelry_x', 'Pet Photography_x', 'Mattresses_x', 'Florists_x', 'Lactation Services_x', 'Tabletop Games_x', 'Neurologist_x', 'Psychics_x', 'Barbeque_x', 'Carpenters_x', 'Luggage_x', 'Ski Resorts_x', 'Cosmetics & Beauty Supply_x', 'Retirement Homes_x', 'Chicken Shop_x', 'Tiling_x', 'Framing_x', 'Beer Tours_x', 'Pet Groomers_x', 'Olive Oil_x', 'Leather Goods_x', 'Orthotics_x', 'Psychologists_x', 'Massage_x', 'Lice Services_x', 'Beach Equipment Rentals_x', 'Custom Cakes_x', 'Electronics Repair_x', 'Massage Therapy_x', 'Restaurants_x', 'Breweries_x', 'Vehicle Shipping_x', 'Gun/Rifle Ranges_x', 'Health & Medical_x', 'Shaved Ice_x', 'Summer Camps_x', 'Vape Shops_x', 'Insurance_x', 'Adult_x', 'Farm Equipment Repair_x', 'Accountants_x', 'Auto Detailing_x', 'Hot Tub & Pool_x', 'Float Spa_x', 'Emergency Rooms_x', 'Kids Hair Salons_x', 'Bikes_x', 'Pet Transportation_x', 'Life Coach_x', 'Indonesian_x', 'Lighting Fixtures & Equipment_x', 'Home Decor_x', 'Walking Tours_x', 'Ukrainian_x', 'Laundry Services_x', 'Flowers & Gifts_x', 'RV Parks_x', 'Teeth Whitening_x', 'Rest Stops_x', 'Wallpapering_x', 'Life Insurance_x', 'Social Security Law_x', 'Resorts_x', 'Organic Stores_x', 'Professional Services_x', 'Bars_x', 'Cafes_x', 'Knitting Supplies_x', 'Martial Arts_x', 'Dance Wear_x', 'Mailbox Centers_x', 'Pretzels_x', 'Tattoo Removal_x', 'Tui Na_x', 'Irish_x', 'Pain Management_x', 'Addiction Medicine_x', 'Imported Food_x', 'Antiques_x', 'Bakeries_x', 'Aerial Tours_x', 'Brewing Supplies_x', 'Flight Instruction_x', 'Home Automation_x', 'Art Restoration_x', 'Buffets_x', 'Insulation Installation_x', 'Paint & Sip_x', 'Transmission Repair_x', 'Cosmetic Dentists_x', 'Lawyers_x', 'Performing Arts_x', 'Auto Loan Providers_x', 'Party Bus Rentals_x', 'Vinyl Records_x', 'Bike Rentals_x', 'Mexican_x', 'Trainers_x', 'Matchmakers_x', 'Bartending Schools_x', 'Funeral Services & Cemeteries_x', 'Kosher_x', 'Water Stores_x', 'Shaved Snow_x', 'Bowling_x', 'Motorsport Vehicle Dealers_x', 'Pressure Washers_x', 'Car Window Tinting_x', 'Art Supplies_x', 'Tattoo_x', 'Gift Shops_x', 'Telecommunications_x', 'Departments of Motor Vehicles_x', 'Empanadas_x', 'Home Theatre Installation_x', 'Trophy Shops_x', 'Electronics_x', 'Generator Installation/Repair_x', 'Newspapers & Magazines_x', 'IT Services & Computer Repair_x', 'Valet Services_x', 'Event Planning & Services_x', 'Swimming Lessons/Schools_x', 'Mobility Equipment Sales & Services_x', 'Convenience Stores_x', 'Hair Loss Centers_x', 'Office Cleaning_x', 'Dermatologists_x', 'African_x', \"Children's Clothing_x\", 'Hot Dogs_x', 'Drugstores_x', 'International Grocery_x', 'Dry Cleaning_x', 'Real Estate_x', 'Siding_x', 'Butcher_x', 'Vegetarian_x', 'Health Insurance Offices_x', 'Horseback Riding_x', 'Country Clubs_x', \"Men's Clothing_x\", 'Reiki_x', 'Cremation Services_x', 'Barre Classes_x', 'Food Banks_x', 'Vietnamese_x', 'Wine Tours_x', 'Supernatural Readings_x', 'Brazilian Jiu-jitsu_x', 'Fitness & Instruction_x', 'Family Practice_x'} in the result is deprecated and will raise a MergeError in a future version.\n"
     ]
    },
    {
     "name": "stderr",
     "output_type": "stream",
     "text": [
      "d:\\python37\\lib\\site-packages\\ipykernel_launcher.py:60: PerformanceWarning: DataFrame is highly fragmented.  This is usually the result of calling `frame.insert` many times, which has poor performance.  Consider joining all columns at once using pd.concat(axis=1) instead.  To get a de-fragmented frame, use `newframe = frame.copy()`\n"
     ]
    },
    {
     "name": "stdout",
     "output_type": "stream",
     "text": [
      "Missing columns: []\n"
     ]
    },
    {
     "name": "stderr",
     "output_type": "stream",
     "text": [
      "Some weights of the model checkpoint at ./bert-base-uncased were not used when initializing BertModel: ['cls.predictions.transform.LayerNorm.bias', 'cls.predictions.decoder.weight', 'cls.predictions.transform.LayerNorm.weight', 'cls.predictions.transform.dense.bias', 'cls.seq_relationship.bias', 'cls.predictions.bias', 'cls.predictions.transform.dense.weight', 'cls.seq_relationship.weight']\n",
      "- This IS expected if you are initializing BertModel from the checkpoint of a model trained on another task or with another architecture (e.g. initializing a BertForSequenceClassification model from a BertForPreTraining model).\n",
      "- This IS NOT expected if you are initializing BertModel from the checkpoint of a model that you expect to be exactly identical (initializing a BertForSequenceClassification model from a BertForSequenceClassification model).\n",
      "100%|██████████████████| 592/592 [00:12<00:00, 47.58it/s]\n",
      "100%|█████████████| 10000/10000 [00:17<00:00, 581.92it/s]\n"
     ]
    }
   ],
   "source": [
    "user_features_list = ['review_count', 'useful_user', 'funny_user', 'cool_user', 'fans', 'average_stars']\n",
    "\n",
    "scaler = StandardScaler()\n",
    "user_features = scaler.fit_transform(data[user_features_list])\n",
    "def process_categories(x):\n",
    "    if isinstance(x, str):\n",
    "        categories = x.split(', ')\n",
    "    elif isinstance(x, list):\n",
    "        categories = x\n",
    "    else:\n",
    "        categories = []\n",
    "    categories = set(categories)\n",
    "    categories.discard('') \n",
    "    return list(categories)\n",
    "\n",
    "business_df['categories'] = business_df['categories'].fillna('').apply(process_categories)\n",
    "\n",
    "# 使用 MultiLabelBinarizer 进行二值化\n",
    "mlb = MultiLabelBinarizer()\n",
    "categories_encoded = mlb.fit_transform(business_df['categories'])\n",
    "categories_df = pd.DataFrame(categories_encoded, columns=mlb.classes_)\n",
    "\n",
    "# 重置索引并合并数据框\n",
    "business_df = business_df.reset_index(drop=True)\n",
    "categories_df = categories_df.reset_index(drop=True)\n",
    "business_df = pd.concat([business_df, categories_df], axis=1)\n",
    "\n",
    "# 创建需要的商家特征列表\n",
    "business_columns_needed = ['business_id', 'latitude', 'longitude'] + list(mlb.classes_)\n",
    "\n",
    "# 检查是否存在重复的列名\n",
    "if len(business_columns_needed) != len(set(business_columns_needed)):\n",
    "    print(\"存在重复的商家特征列名，请检查类别处理。\")\n",
    "\n",
    "# 提取所需的商家特征\n",
    "business_df_reduced = business_df[business_columns_needed]\n",
    "data = pd.merge(data, business_df_reduced, on='business_id', how='left')\n",
    "business_id_to_index = dict(zip(business_encoder.classes_, business_encoder.transform(business_encoder.classes_)))\n",
    "\n",
    "business_index_to_categories = {}\n",
    "for idx, row in business_df.iterrows():\n",
    "    business_id = row['business_id']\n",
    "    categories = row['categories'] \n",
    "    business_index = business_id_to_index.get(business_id)\n",
    "    if business_index is not None:\n",
    "        business_index_to_categories[business_index] = categories\n",
    "\n",
    "category_to_business_indices = {}\n",
    "for business_index, categories in business_index_to_categories.items():\n",
    "    for category in categories:\n",
    "        if category not in category_to_business_indices:\n",
    "            category_to_business_indices[category] = set()\n",
    "        category_to_business_indices[category].add(business_index)\n",
    "business_features_list = ['latitude', 'longitude'] + list(mlb.classes_)\n",
    "common_business_ids = set(data['business_id']).intersection(set(business_df_reduced['business_id']))\n",
    "data = pd.merge(data, business_df_reduced, on='business_id', how='inner')\n",
    "missing_columns = [col for col in business_features_list if col not in data.columns]\n",
    "missing_columns = [col for col in business_features_list if col not in data.columns]\n",
    "for col in missing_columns:\n",
    "    data[col] = 0\n",
    "business_features = scaler.fit_transform(data[business_features_list])\n",
    "missing_columns = [col for col in business_features_list if col not in data.columns]\n",
    "print(f\"Missing columns: {missing_columns}\")\n",
    "business_features = scaler.fit_transform(data[business_features_list])\n",
    "missing_columns = [col for col in business_features_list if col not in data.columns]\n",
    "\n",
    "business_features = scaler.fit_transform(data[business_features_list])\n",
    "use_model = hub.load('https://tfhub.dev/google/universal-sentence-encoder/4')\n",
    "tokenizer = BertTokenizer.from_pretrained('./bert-base-uncased')\n",
    "bert_model = BertModel.from_pretrained('./bert-base-uncased')\n",
    "bert_model.to(device)\n",
    "bert_model.eval()\n",
    "\n",
    "def get_bert_embedding(text):\n",
    "    if not isinstance(text, str) or text.strip() == '':\n",
    "        return np.zeros(768)\n",
    "    try:\n",
    "        inputs = tokenizer(text, return_tensors='pt', truncation=True, max_length=512)\n",
    "        inputs = {k: v.to(device) for k, v in inputs.items()}\n",
    "        with torch.no_grad():\n",
    "            outputs = bert_model(**inputs)\n",
    "        embedding = outputs.last_hidden_state[:, 0, :].cpu().numpy()[0]\n",
    "        return embedding\n",
    "    except Exception as e:\n",
    "        print(f\"Error processing text: {text}\")\n",
    "        print(e)\n",
    "        return np.zeros(768)\n",
    "data = data.dropna(subset=['text'])\n",
    "tqdm.pandas()\n",
    "data['text_embedding'] = data['text'].progress_apply(get_bert_embedding)\n",
    "photo_df = photo_df[photo_df['business_id'].isin(business_df['business_id'])]\n",
    "business_photos = photo_df.groupby('business_id')['photo_id'].apply(list).reset_index()\n",
    "business_df = pd.merge(business_df, business_photos, on='business_id', how='left')\n",
    "clip_model = CLIPModel.from_pretrained(\"./clip-vit-base-patch32\")\n",
    "clip_processor = CLIPProcessor.from_pretrained(\"./clip-vit-base-patch32\")\n",
    "clip_model.to(device)\n",
    "clip_model.eval()\n",
    "\n",
    "def get_image_embedding(image_path):\n",
    "    try:\n",
    "        image = Image.open(image_path).convert(\"RGB\")\n",
    "        inputs = clip_processor(images=image, return_tensors=\"pt\").to(device)\n",
    "        with torch.no_grad():\n",
    "            outputs = clip_model.get_image_features(**inputs)\n",
    "        embedding = outputs.cpu().numpy()[0]\n",
    "        return embedding\n",
    "    except Exception as e:\n",
    "        return np.zeros(512)\n",
    "\n",
    "def get_business_image_embedding(photo_ids):\n",
    "    embeddings = []\n",
    "    if not isinstance(photo_ids, list):\n",
    "        return np.zeros(512)\n",
    "    for photo_id in photo_ids:\n",
    "        image_path = os.path.join('photos', f'{photo_id}.jpg') \n",
    "        embedding = get_image_embedding(image_path)\n",
    "        if np.count_nonzero(embedding) > 0:\n",
    "            embeddings.append(embedding)\n",
    "    if embeddings:\n",
    "        return np.mean(embeddings, axis=0)\n",
    "    else:\n",
    "        return np.zeros(512)\n",
    "\n",
    "tqdm.pandas()\n",
    "business_df['image_embedding'] = business_df['photo_id'].progress_apply(get_business_image_embedding)\n",
    "\n",
    "business_image_embeddings = business_df[['business_id', 'image_embedding']]\n",
    "data = pd.merge(data, business_image_embeddings, on='business_id', how='left')\n",
    "user_features = np.array(user_features)\n",
    "business_features = np.array(business_features)\n",
    "text_embeddings = np.stack(data['text_embedding'].values)\n",
    "image_embeddings = np.stack(data['image_embedding'].values)\n",
    "\n",
    "user_indices = data['user_index'].values\n",
    "business_indices = data['business_index'].values\n",
    "\n",
    "user_feature_dict = {}\n",
    "for idx, user_id in enumerate(data['user_index'].unique()):\n",
    "    user_feature_dict[user_id] = user_features[data['user_index'] == user_id][0]\n",
    "\n",
    "business_feature_dict = {}\n",
    "for idx, business_id in enumerate(data['business_index'].unique()):\n",
    "    business_feature_dict[business_id] = business_features[data['business_index'] == business_id][0]\n",
    "\n",
    "business_text_embedding_dict = {}\n",
    "for idx, business_id in enumerate(data['business_index'].unique()):\n",
    "    business_text_embedding_dict[business_id] = text_embeddings[data['business_index'] == business_id][0]\n",
    "\n",
    "business_image_embedding_dict = {}\n",
    "for idx, business_id in enumerate(data['business_index'].unique()):\n",
    "    business_image_embedding_dict[business_id] = image_embeddings[data['business_index'] == business_id][0]\n"
   ]
  },
  {
   "cell_type": "code",
   "execution_count": 9,
   "id": "f4b576e7",
   "metadata": {},
   "outputs": [],
   "source": [
    "class YelpDataset(Dataset):\n",
    "    def __init__(self, data, num_businesses, business_index_to_categories, category_to_business_indices, num_negatives=10):\n",
    "        self.data = data\n",
    "        self.num_businesses = num_businesses\n",
    "        self.num_negatives = num_negatives\n",
    "        self.business_index_to_categories = business_index_to_categories\n",
    "        self.category_to_business_indices = category_to_business_indices\n",
    "        \n",
    "        self.user_business_set = set(zip(data['user_index'], data['business_index']))\n",
    "        self.user_positive_businesses = data.groupby('user_index')['business_index'].apply(set).to_dict()\n",
    "        self.all_businesses = set(range(num_businesses))\n",
    "        self.user_indices = data['user_index'].values\n",
    "        self.business_indices = data['business_index'].values\n",
    "        self.user_locations = data.groupby('user_index')[['latitude', 'longitude']].mean().to_dict('index')\n",
    "        self.business_locations = data.groupby('business_index')[['latitude', 'longitude']].mean().to_dict('index')\n",
    "    \n",
    "    def __len__(self):\n",
    "        return len(self.user_indices)\n",
    "    \n",
    "    def __getitem__(self, idx):\n",
    "        user = self.user_indices[idx]\n",
    "        pos_business = self.business_indices[idx]\n",
    "\n",
    "        candidate_neg_businesses = self.all_businesses - self.user_positive_businesses[user]\n",
    "\n",
    "        neg_businesses = self.sample_hard_negatives(user, candidate_neg_businesses, self.num_negatives)\n",
    "\n",
    "        return user, pos_business, neg_businesses\n",
    "\n",
    "    def sample_hard_negatives(self, user, candidate_neg_businesses, num_negatives):\n",
    "        user_location = self.user_locations.get(user)\n",
    "        candidate_businesses = list(candidate_neg_businesses)\n",
    "        distances = []\n",
    "        for business in candidate_businesses:\n",
    "            business_location = self.business_locations.get(business)\n",
    "            if business_location and user_location:\n",
    "                distance = haversine(user_location['longitude'], user_location['latitude'],\n",
    "                                     business_location['longitude'], business_location['latitude'])\n",
    "                distances.append((business, distance))\n",
    "            else:\n",
    "                distances.append((business, float('inf')))\n",
    "        distances.sort(key=lambda x: x[1])\n",
    "        hard_negatives = [b for b, d in distances[:num_negatives]]\n",
    "        return hard_negatives\n",
    "\n",
    "def haversine(lon1, lat1, lon2, lat2):\n",
    "    import math\n",
    "    R = 6371\n",
    "    phi1 = math.radians(lat1)\n",
    "    phi2 = math.radians(lat2)\n",
    "    delta_phi = math.radians(lat2 - lat1)\n",
    "    delta_lambda = math.radians(lon2 - lon1)\n",
    "    a = math.sin(delta_phi / 2.0) ** 2 + \\\n",
    "        math.cos(phi1) * math.cos(phi2) * \\\n",
    "        math.sin(delta_lambda / 2.0) ** 2\n",
    "    c = 2 * math.atan2(math.sqrt(a), math.sqrt(1 - a))\n",
    "    meters = R * c * 1000\n",
    "    return meters"
   ]
  },
  {
   "cell_type": "code",
   "execution_count": 10,
   "id": "e09891f0",
   "metadata": {},
   "outputs": [],
   "source": [
    "train_data, val_data = train_test_split(data, test_size=0.2, random_state=42)\n",
    "\n",
    "train_dataset = YelpDataset(train_data, num_businesses, business_index_to_categories, category_to_business_indices, num_negatives=5)\n",
    "val_dataset = YelpDataset(val_data, num_businesses, business_index_to_categories, category_to_business_indices, num_negatives=5)\n",
    "def custom_collate(batch):\n",
    "    user_indices = torch.tensor([item[0] for item in batch], dtype=torch.long)\n",
    "    pos_business_indices = torch.tensor([item[1] for item in batch], dtype=torch.long)\n",
    "    neg_business_indices = [item[2] for item in batch] \n",
    "    neg_business_indices = torch.tensor(neg_business_indices, dtype=torch.long)\n",
    "    return user_indices, pos_business_indices, neg_business_indices\n",
    "train_loader = DataLoader(train_dataset, batch_size=256, shuffle=True, collate_fn=custom_collate)\n",
    "val_loader = DataLoader(val_dataset, batch_size=256, shuffle=False, collate_fn=custom_collate)\n"
   ]
  },
  {
   "cell_type": "code",
   "execution_count": 11,
   "id": "73ea13ba",
   "metadata": {},
   "outputs": [],
   "source": [
    "class TwoTowerModel(nn.Module):\n",
    "    def __init__(self, user_feature_dim, business_feature_dim, embedding_dim):\n",
    "        super(TwoTowerModel, self).__init__()\n",
    "        self.user_tower = nn.Sequential(\n",
    "            nn.Linear(user_feature_dim, 512),\n",
    "            nn.ReLU(),\n",
    "            nn.Linear(512, 256),\n",
    "            nn.ReLU(),\n",
    "            nn.Linear(256, embedding_dim)\n",
    "        )\n",
    "        self.business_tower = nn.Sequential(\n",
    "            nn.Linear(business_feature_dim, 512),\n",
    "            nn.ReLU(),\n",
    "            nn.Linear(512, 256),\n",
    "            nn.ReLU(),\n",
    "            nn.Linear(256, embedding_dim)\n",
    "        )\n",
    "\n",
    "    def forward(self, user_features, business_features):\n",
    "        user_vector = self.user_tower(user_features)\n",
    "        business_vector = self.business_tower(business_features)\n",
    "        user_vector = F.normalize(user_vector, p=2, dim=1)\n",
    "        business_vector = F.normalize(business_vector, p=2, dim=1)\n",
    "        return user_vector, business_vector"
   ]
  },
  {
   "cell_type": "code",
   "execution_count": 12,
   "id": "fc958af9",
   "metadata": {},
   "outputs": [],
   "source": [
    "def contrastive_loss(user_vector, pos_business_vector, neg_business_vectors, temperature=0.07):\n",
    "    batch_size = user_vector.size(0)\n",
    "    user_vector = user_vector.unsqueeze(1) \n",
    "    pos_business_vector = pos_business_vector.unsqueeze(1)\n",
    "    all_business_vectors = torch.cat([pos_business_vector, neg_business_vectors], dim=1) \n",
    "    sim_matrix = torch.bmm(user_vector, all_business_vectors.permute(0, 2, 1)) \n",
    "    sim_matrix = sim_matrix.squeeze(1) / temperature  \n",
    "    \n",
    "    labels = torch.zeros(batch_size, dtype=torch.long).to(device)\n",
    "    loss = F.cross_entropy(sim_matrix, labels)\n",
    "    return loss\n",
    "def get_hard_negatives(user_idx, pos_business_idx, num_negatives):\n",
    "    user_positive_businesses = user_positive_businesses_dict[user_idx]\n",
    "    candidate_neg_businesses = all_businesses - user_positive_businesses\n",
    "    hard_negatives = random.sample(candidate_neg_businesses, num_negatives)\n",
    "    return hard_negatives\n",
    "def get_user_features(user_indices):\n",
    "    user_features_batch = []\n",
    "    for user_idx in user_indices.cpu().numpy():\n",
    "        user_features_batch.append(user_feature_dict[user_idx])\n",
    "    user_features_batch = torch.tensor(user_features_batch, dtype=torch.float).to(device)\n",
    "    return user_features_batch\n",
    "def get_business_features(business_indices):\n",
    "    business_features_batch = []\n",
    "    for business_idx in business_indices.cpu().numpy():\n",
    "        features = np.concatenate([\n",
    "            business_feature_dict[business_idx],\n",
    "            business_text_embedding_dict[business_idx],\n",
    "            business_image_embedding_dict[business_idx]\n",
    "        ])\n",
    "        business_features_batch.append(features)\n",
    "    business_features_batch = torch.tensor(business_features_batch, dtype=torch.float).to(device)\n",
    "    return business_features_batch"
   ]
  },
  {
   "cell_type": "code",
   "execution_count": 13,
   "id": "23226abb",
   "metadata": {},
   "outputs": [],
   "source": [
    "def train_model(model, train_loader, optimizer, epoch):\n",
    "    model.train()\n",
    "    total_loss = 0\n",
    "    for batch_idx, batch in enumerate(tqdm(train_loader, desc=f\"Training Epoch {epoch+1}\")):\n",
    "        user_indices, pos_business_indices, neg_business_indices = batch\n",
    "        user_indices = user_indices.to(device)\n",
    "        pos_business_indices = pos_business_indices.to(device)\n",
    "        neg_business_indices = neg_business_indices.to(device)\n",
    "\n",
    "        user_features_batch = get_user_features(user_indices) \n",
    "\n",
    "        pos_business_features_batch = get_business_features(pos_business_indices) \n",
    "\n",
    "        # 获取负样本商家特征\n",
    "        batch_size, num_negatives = neg_business_indices.shape\n",
    "        neg_business_indices_flat = neg_business_indices.view(-1)\n",
    "        neg_business_features_batch = get_business_features(neg_business_indices_flat)  \n",
    "        neg_business_features_batch = neg_business_features_batch.view(batch_size, num_negatives, -1)  \n",
    "\n",
    "        optimizer.zero_grad()\n",
    "        user_vector = model.user_tower(user_features_batch) \n",
    "        pos_business_vector = model.business_tower(pos_business_features_batch)  \n",
    "        neg_business_vectors = []\n",
    "        for i in range(num_negatives):\n",
    "            neg_business_vector = model.business_tower(neg_business_features_batch[:, i, :]) \n",
    "            neg_business_vectors.append(neg_business_vector.unsqueeze(1))  \n",
    "        neg_business_vectors = torch.cat(neg_business_vectors, dim=1) \n",
    "\n",
    "        loss = contrastive_loss(user_vector, pos_business_vector, neg_business_vectors)\n",
    "\n",
    "        loss.backward()\n",
    "        optimizer.step()\n",
    "        total_loss += loss.item()\n",
    "    avg_loss = total_loss / len(train_loader)\n",
    "    print(f\"Epoch {epoch+1}, Training Loss: {avg_loss:.4f}\")"
   ]
  },
  {
   "cell_type": "code",
   "execution_count": 14,
   "id": "5ce79fb5",
   "metadata": {},
   "outputs": [],
   "source": [
    "def evaluate_model(model, val_loader, epoch, k=10):\n",
    "    model.eval()\n",
    "    ndcgs = []\n",
    "    maps = []\n",
    "    with torch.no_grad():\n",
    "        for batch in tqdm(val_loader, desc=f\"Evaluating Epoch {epoch+1}\"):\n",
    "            user_indices, pos_business_indices, _ = batch\n",
    "            user_features_batch = get_user_features(user_indices)\n",
    "            pos_business_indices = pos_business_indices.cpu().numpy()\n",
    "\n",
    "            user_vector = model.user_tower(user_features_batch)\n",
    "            user_vector = F.normalize(user_vector, p=2, dim=1)\n",
    "            \n",
    "            business_vectors = []\n",
    "            for i in range(num_businesses):\n",
    "                features = get_business_features(torch.tensor([i]))\n",
    "                business_vector = model.business_tower(features)\n",
    "                business_vector = F.normalize(business_vector, p=2, dim=1)\n",
    "                business_vectors.append(business_vector)\n",
    "            business_vectors = torch.cat(business_vectors, dim=0)\n",
    "\n",
    "            scores = torch.matmul(user_vector, business_vectors.T)\n",
    "            _, indices = torch.topk(scores, k, dim=1)\n",
    "\n",
    "            for i in range(len(user_indices)):\n",
    "                pos_business = pos_business_indices[i]\n",
    "                recommended_businesses = indices[i].cpu().numpy()\n",
    "                relevance = [1 if b == pos_business else 0 for b in recommended_businesses]\n",
    "                dcg = relevance[0]\n",
    "                for idx, rel in enumerate(relevance[1:], start=1):\n",
    "                    dcg += rel / np.log2(idx + 1)\n",
    "                idcg = 1.0\n",
    "                ndcg = dcg / idcg\n",
    "                ndcgs.append(ndcg)\n",
    "                if pos_business in recommended_businesses:\n",
    "                    rank = np.where(recommended_businesses == pos_business)[0][0] + 1\n",
    "                    ap = 1.0 / rank\n",
    "                else:\n",
    "                    ap = 0.0\n",
    "                maps.append(ap)\n",
    "    avg_ndcg = np.mean(ndcgs)\n",
    "    mean_ap = np.mean(maps)\n",
    "    print(f\"Epoch {epoch+1}, NDCG@{k}: {avg_ndcg:.4f}, MAP@{k}: {mean_ap:.4f}\")\n",
    "    return avg_ndcg, mean_ap"
   ]
  },
  {
   "cell_type": "code",
   "execution_count": 15,
   "id": "f90611e1",
   "metadata": {},
   "outputs": [
    {
     "name": "stdout",
     "output_type": "stream",
     "text": [
      "business_features.shape: (592, 1060)\n",
      "business_feature_dim: 2340\n"
     ]
    },
    {
     "name": "stderr",
     "output_type": "stream",
     "text": [
      "Training Epoch 1: 100%|████| 2/2 [00:00<00:00,  2.63it/s]\n"
     ]
    },
    {
     "name": "stdout",
     "output_type": "stream",
     "text": [
      "Epoch 1, Training Loss: 1.7920\n"
     ]
    },
    {
     "name": "stderr",
     "output_type": "stream",
     "text": [
      "Evaluating Epoch 1: 100%|██| 1/1 [00:00<00:00,  4.06it/s]\n"
     ]
    },
    {
     "name": "stdout",
     "output_type": "stream",
     "text": [
      "Epoch 1, NDCG@10: 0.0000, MAP@10: 0.0000\n"
     ]
    },
    {
     "name": "stderr",
     "output_type": "stream",
     "text": [
      "Training Epoch 2: 100%|████| 2/2 [00:00<00:00,  2.86it/s]\n"
     ]
    },
    {
     "name": "stdout",
     "output_type": "stream",
     "text": [
      "Epoch 2, Training Loss: 1.7337\n"
     ]
    },
    {
     "name": "stderr",
     "output_type": "stream",
     "text": [
      "Evaluating Epoch 2: 100%|██| 1/1 [00:00<00:00,  4.23it/s]\n"
     ]
    },
    {
     "name": "stdout",
     "output_type": "stream",
     "text": [
      "Epoch 2, NDCG@10: 0.0025, MAP@10: 0.0008\n"
     ]
    },
    {
     "name": "stderr",
     "output_type": "stream",
     "text": [
      "Training Epoch 3: 100%|████| 2/2 [00:00<00:00,  2.89it/s]\n"
     ]
    },
    {
     "name": "stdout",
     "output_type": "stream",
     "text": [
      "Epoch 3, Training Loss: 1.6962\n"
     ]
    },
    {
     "name": "stderr",
     "output_type": "stream",
     "text": [
      "Evaluating Epoch 3: 100%|██| 1/1 [00:00<00:00,  4.32it/s]\n"
     ]
    },
    {
     "name": "stdout",
     "output_type": "stream",
     "text": [
      "Epoch 3, NDCG@10: 0.0109, MAP@10: 0.0050\n"
     ]
    },
    {
     "name": "stderr",
     "output_type": "stream",
     "text": [
      "Training Epoch 4: 100%|████| 2/2 [00:00<00:00,  2.91it/s]\n"
     ]
    },
    {
     "name": "stdout",
     "output_type": "stream",
     "text": [
      "Epoch 4, Training Loss: 1.6595\n"
     ]
    },
    {
     "name": "stderr",
     "output_type": "stream",
     "text": [
      "Evaluating Epoch 4: 100%|██| 1/1 [00:00<00:00,  4.22it/s]\n"
     ]
    },
    {
     "name": "stdout",
     "output_type": "stream",
     "text": [
      "Epoch 4, NDCG@10: 0.0114, MAP@10: 0.0096\n"
     ]
    },
    {
     "name": "stderr",
     "output_type": "stream",
     "text": [
      "Training Epoch 5: 100%|████| 2/2 [00:00<00:00,  2.85it/s]\n"
     ]
    },
    {
     "name": "stdout",
     "output_type": "stream",
     "text": [
      "Epoch 5, Training Loss: 1.6289\n"
     ]
    },
    {
     "name": "stderr",
     "output_type": "stream",
     "text": [
      "Evaluating Epoch 5: 100%|██| 1/1 [00:00<00:00,  4.43it/s]\n"
     ]
    },
    {
     "name": "stdout",
     "output_type": "stream",
     "text": [
      "Epoch 5, NDCG@10: 0.0165, MAP@10: 0.0113\n"
     ]
    },
    {
     "name": "stderr",
     "output_type": "stream",
     "text": [
      "Training Epoch 6: 100%|████| 2/2 [00:00<00:00,  2.85it/s]\n"
     ]
    },
    {
     "name": "stdout",
     "output_type": "stream",
     "text": [
      "Epoch 6, Training Loss: 1.5990\n"
     ]
    },
    {
     "name": "stderr",
     "output_type": "stream",
     "text": [
      "Evaluating Epoch 6: 100%|██| 1/1 [00:00<00:00,  4.15it/s]\n"
     ]
    },
    {
     "name": "stdout",
     "output_type": "stream",
     "text": [
      "Epoch 6, NDCG@10: 0.0114, MAP@10: 0.0096\n"
     ]
    },
    {
     "name": "stderr",
     "output_type": "stream",
     "text": [
      "Training Epoch 7:   0%|            | 0/2 [00:00<?, ?it/s]\n"
     ]
    },
    {
     "ename": "KeyboardInterrupt",
     "evalue": "",
     "output_type": "error",
     "traceback": [
      "\u001b[1;31m----------------------------------------------------------\u001b[0m",
      "\u001b[1;31mKeyboardInterrupt\u001b[0m        Traceback (most recent call last)",
      "\u001b[1;32m~\\AppData\\Local\\Temp\\ipykernel_9388\\1480128586.py\u001b[0m in \u001b[0;36m<module>\u001b[1;34m\u001b[0m\n\u001b[0;32m     18\u001b[0m \u001b[0mresults\u001b[0m \u001b[1;33m=\u001b[0m \u001b[1;33m[\u001b[0m\u001b[1;33m]\u001b[0m\u001b[1;33m\u001b[0m\u001b[1;33m\u001b[0m\u001b[0m\n\u001b[0;32m     19\u001b[0m \u001b[1;32mfor\u001b[0m \u001b[0mepoch\u001b[0m \u001b[1;32min\u001b[0m \u001b[0mrange\u001b[0m\u001b[1;33m(\u001b[0m\u001b[0mnum_epochs\u001b[0m\u001b[1;33m)\u001b[0m\u001b[1;33m:\u001b[0m\u001b[1;33m\u001b[0m\u001b[1;33m\u001b[0m\u001b[0m\n\u001b[1;32m---> 20\u001b[1;33m     \u001b[0mavg_loss\u001b[0m \u001b[1;33m=\u001b[0m \u001b[0mtrain_model\u001b[0m\u001b[1;33m(\u001b[0m\u001b[0mmodel\u001b[0m\u001b[1;33m,\u001b[0m \u001b[0mtrain_loader\u001b[0m\u001b[1;33m,\u001b[0m \u001b[0moptimizer\u001b[0m\u001b[1;33m,\u001b[0m \u001b[0mepoch\u001b[0m\u001b[1;33m)\u001b[0m\u001b[1;33m\u001b[0m\u001b[1;33m\u001b[0m\u001b[0m\n\u001b[0m\u001b[0;32m     21\u001b[0m     \u001b[0mndcg\u001b[0m\u001b[1;33m,\u001b[0m \u001b[0mmean_ap\u001b[0m \u001b[1;33m=\u001b[0m \u001b[0mevaluate_model\u001b[0m\u001b[1;33m(\u001b[0m\u001b[0mmodel\u001b[0m\u001b[1;33m,\u001b[0m \u001b[0mval_loader\u001b[0m\u001b[1;33m,\u001b[0m \u001b[0mepoch\u001b[0m\u001b[1;33m)\u001b[0m\u001b[1;33m\u001b[0m\u001b[1;33m\u001b[0m\u001b[0m\n\u001b[0;32m     22\u001b[0m     \u001b[0mresults\u001b[0m\u001b[1;33m.\u001b[0m\u001b[0mappend\u001b[0m\u001b[1;33m(\u001b[0m\u001b[1;33m(\u001b[0m\u001b[0mepoch\u001b[0m\u001b[1;33m+\u001b[0m\u001b[1;36m1\u001b[0m\u001b[1;33m,\u001b[0m \u001b[0mavg_loss\u001b[0m\u001b[1;33m,\u001b[0m \u001b[0mndcg\u001b[0m\u001b[1;33m,\u001b[0m \u001b[0mmean_ap\u001b[0m\u001b[1;33m)\u001b[0m\u001b[1;33m)\u001b[0m\u001b[1;33m\u001b[0m\u001b[1;33m\u001b[0m\u001b[0m\n",
      "\u001b[1;32m~\\AppData\\Local\\Temp\\ipykernel_9388\\1074259680.py\u001b[0m in \u001b[0;36mtrain_model\u001b[1;34m(model, train_loader, optimizer, epoch)\u001b[0m\n\u001b[0;32m     29\u001b[0m         \u001b[0mloss\u001b[0m \u001b[1;33m=\u001b[0m \u001b[0mcontrastive_loss\u001b[0m\u001b[1;33m(\u001b[0m\u001b[0muser_vector\u001b[0m\u001b[1;33m,\u001b[0m \u001b[0mpos_business_vector\u001b[0m\u001b[1;33m,\u001b[0m \u001b[0mneg_business_vectors\u001b[0m\u001b[1;33m)\u001b[0m\u001b[1;33m\u001b[0m\u001b[1;33m\u001b[0m\u001b[0m\n\u001b[0;32m     30\u001b[0m \u001b[1;33m\u001b[0m\u001b[0m\n\u001b[1;32m---> 31\u001b[1;33m         \u001b[0mloss\u001b[0m\u001b[1;33m.\u001b[0m\u001b[0mbackward\u001b[0m\u001b[1;33m(\u001b[0m\u001b[1;33m)\u001b[0m\u001b[1;33m\u001b[0m\u001b[1;33m\u001b[0m\u001b[0m\n\u001b[0m\u001b[0;32m     32\u001b[0m         \u001b[0moptimizer\u001b[0m\u001b[1;33m.\u001b[0m\u001b[0mstep\u001b[0m\u001b[1;33m(\u001b[0m\u001b[1;33m)\u001b[0m\u001b[1;33m\u001b[0m\u001b[1;33m\u001b[0m\u001b[0m\n\u001b[0;32m     33\u001b[0m         \u001b[0mtotal_loss\u001b[0m \u001b[1;33m+=\u001b[0m \u001b[0mloss\u001b[0m\u001b[1;33m.\u001b[0m\u001b[0mitem\u001b[0m\u001b[1;33m(\u001b[0m\u001b[1;33m)\u001b[0m\u001b[1;33m\u001b[0m\u001b[1;33m\u001b[0m\u001b[0m\n",
      "\u001b[1;32md:\\python37\\lib\\site-packages\\torch\\_tensor.py\u001b[0m in \u001b[0;36mbackward\u001b[1;34m(self, gradient, retain_graph, create_graph, inputs)\u001b[0m\n\u001b[0;32m    394\u001b[0m                 \u001b[0mcreate_graph\u001b[0m\u001b[1;33m=\u001b[0m\u001b[0mcreate_graph\u001b[0m\u001b[1;33m,\u001b[0m\u001b[1;33m\u001b[0m\u001b[1;33m\u001b[0m\u001b[0m\n\u001b[0;32m    395\u001b[0m                 inputs=inputs)\n\u001b[1;32m--> 396\u001b[1;33m         \u001b[0mtorch\u001b[0m\u001b[1;33m.\u001b[0m\u001b[0mautograd\u001b[0m\u001b[1;33m.\u001b[0m\u001b[0mbackward\u001b[0m\u001b[1;33m(\u001b[0m\u001b[0mself\u001b[0m\u001b[1;33m,\u001b[0m \u001b[0mgradient\u001b[0m\u001b[1;33m,\u001b[0m \u001b[0mretain_graph\u001b[0m\u001b[1;33m,\u001b[0m \u001b[0mcreate_graph\u001b[0m\u001b[1;33m,\u001b[0m \u001b[0minputs\u001b[0m\u001b[1;33m=\u001b[0m\u001b[0minputs\u001b[0m\u001b[1;33m)\u001b[0m\u001b[1;33m\u001b[0m\u001b[1;33m\u001b[0m\u001b[0m\n\u001b[0m\u001b[0;32m    397\u001b[0m \u001b[1;33m\u001b[0m\u001b[0m\n\u001b[0;32m    398\u001b[0m     \u001b[1;32mdef\u001b[0m \u001b[0mregister_hook\u001b[0m\u001b[1;33m(\u001b[0m\u001b[0mself\u001b[0m\u001b[1;33m,\u001b[0m \u001b[0mhook\u001b[0m\u001b[1;33m)\u001b[0m\u001b[1;33m:\u001b[0m\u001b[1;33m\u001b[0m\u001b[1;33m\u001b[0m\u001b[0m\n",
      "\u001b[1;32md:\\python37\\lib\\site-packages\\torch\\autograd\\__init__.py\u001b[0m in \u001b[0;36mbackward\u001b[1;34m(tensors, grad_tensors, retain_graph, create_graph, grad_variables, inputs)\u001b[0m\n\u001b[0;32m    173\u001b[0m     Variable._execution_engine.run_backward(  # Calls into the C++ engine to run the backward pass\n\u001b[0;32m    174\u001b[0m         \u001b[0mtensors\u001b[0m\u001b[1;33m,\u001b[0m \u001b[0mgrad_tensors_\u001b[0m\u001b[1;33m,\u001b[0m \u001b[0mretain_graph\u001b[0m\u001b[1;33m,\u001b[0m \u001b[0mcreate_graph\u001b[0m\u001b[1;33m,\u001b[0m \u001b[0minputs\u001b[0m\u001b[1;33m,\u001b[0m\u001b[1;33m\u001b[0m\u001b[1;33m\u001b[0m\u001b[0m\n\u001b[1;32m--> 175\u001b[1;33m         allow_unreachable=True, accumulate_grad=True)  # Calls into the C++ engine to run the backward pass\n\u001b[0m\u001b[0;32m    176\u001b[0m \u001b[1;33m\u001b[0m\u001b[0m\n\u001b[0;32m    177\u001b[0m def grad(\n",
      "\u001b[1;31mKeyboardInterrupt\u001b[0m: "
     ]
    }
   ],
   "source": [
    "import warnings\n",
    "import matplotlib.pyplot as plt\n",
    "import seaborn as sns\n",
    "import torch.nn.functional as F\n",
    "warnings.filterwarnings(\"ignore\", category=UserWarning)\n",
    "embedding_dim = 128 \n",
    "user_feature_dim = user_features.shape[1]\n",
    "business_feature_dim = business_features.shape[1] + 768 + 512\n",
    "print(\"business_features.shape:\", business_features.shape)\n",
    "print(\"business_feature_dim:\", business_feature_dim)\n",
    "model = TwoTowerModel(user_feature_dim, business_feature_dim, embedding_dim)\n",
    "model.to(device)\n",
    "optimizer = torch.optim.AdamW(model.parameters(), lr=1e-4, weight_decay=1e-5)\n",
    "scheduler = torch.optim.lr_scheduler.StepLR(optimizer, step_size=2, gamma=0.3)\n",
    "num_epochs = 50\n",
    "train_losses = []\n",
    "val_roc_aucs = []\n",
    "results = []\n",
    "for epoch in range(num_epochs):\n",
    "    avg_loss = train_model(model, train_loader, optimizer, epoch)\n",
    "    ndcg, mean_ap = evaluate_model(model, val_loader, epoch)\n",
    "    results.append((epoch+1, avg_loss, ndcg, mean_ap))\n"
   ]
  },
  {
   "cell_type": "code",
   "execution_count": 16,
   "id": "bb582ca8",
   "metadata": {},
   "outputs": [],
   "source": [
    "def recall_top_k(model, user_indices, k=10):\n",
    "    model.eval()\n",
    "    recommendations = {}\n",
    "    with torch.no_grad():\n",
    "        user_features_batch = get_user_features(torch.tensor(user_indices))\n",
    "        user_vector = model.user_tower(user_features_batch)\n",
    "        user_vector = F.normalize(user_vector, p=2, dim=1)\n",
    "\n",
    "        business_vectors = []\n",
    "        for i in range(num_businesses):\n",
    "            features = get_business_features(torch.tensor([i]))\n",
    "            business_vector = model.business_tower(features)\n",
    "            business_vector = F.normalize(business_vector, p=2, dim=1)\n",
    "            business_vectors.append(business_vector)\n",
    "        business_vectors = torch.cat(business_vectors, dim=0)\n",
    "\n",
    "        scores = torch.matmul(user_vector, business_vectors.T)\n",
    "        _, indices = torch.topk(scores, k, dim=1)\n",
    "\n",
    "        for idx, user_idx in enumerate(user_indices):\n",
    "            recommended_businesses = indices[idx].cpu().numpy()\n",
    "            recommendations[user_idx] = recommended_businesses\n",
    "    return recommendations\n"
   ]
  },
  {
   "cell_type": "code",
   "execution_count": 19,
   "id": "0cc97b04",
   "metadata": {},
   "outputs": [
    {
     "data": {
      "image/png": "[encoded data removed]",
      "text/plain": [
       "<Figure size 640x480 with 1 Axes>"
      ]
     },
     "metadata": {},
     "output_type": "display_data"
    },
    {
     "name": "stdout",
     "output_type": "stream",
     "text": [
      "User 13 features: [-0.70213697 -0.43543518 -0.34354849 -0.36446666 -0.52625179  1.25254489]\n",
      "User 9 features: [ 0.24196998 -0.13000284 -0.18778219 -0.16718967 -0.15898359 -0.35315056]\n",
      "User 142 features: [-0.3945995  -0.3838953  -0.35680519 -0.36177477 -0.46504042 -0.56724329]\n",
      "User 1 features: [3.73400826 3.56095519 2.61214458 2.95194041 1.4937233  0.69055148]\n",
      "User 96 features: [-0.56820936 -0.42606429 -0.3893946  -0.36292844 -0.47524231  0.07503489]\n"
     ]
    }
   ],
   "source": [
    "import matplotlib.pyplot as plt\n",
    "from sklearn.decomposition import PCA\n",
    "\n",
    "user_feature_array = np.array([user_feature_dict[u] for u in user_feature_dict])\n",
    "pca = PCA(n_components=2)\n",
    "user_features_2d = pca.fit_transform(user_feature_array)\n",
    "\n",
    "plt.scatter(user_features_2d[:, 0], user_features_2d[:, 1])\n",
    "plt.title('User Feature Visualization')\n",
    "plt.show()\n",
    "for user_idx in user_indices[:5]:\n",
    "    print(f\"User {user_idx} features: {user_feature_dict[user_idx]}\")"
   ]
  },
  {
   "cell_type": "code",
   "execution_count": 20,
   "id": "9e9929fc",
   "metadata": {},
   "outputs": [
    {
     "name": "stdout",
     "output_type": "stream",
     "text": [
      "Business 27 features: [0. 0. 0. ... 0. 0. 0.]\n",
      "Business 98 features: [0. 0. 0. ... 0. 0. 0.]\n",
      "Business 179 features: [0. 0. 0. ... 0. 0. 0.]\n",
      "Business 44 features: [0. 0. 0. ... 0. 0. 0.]\n",
      "Business 38 features: [0. 0. 0. ... 0. 0. 0.]\n"
     ]
    }
   ],
   "source": [
    "for business_idx in recommended_business_indices[:5]:\n",
    "    print(f\"Business {business_idx} features: {business_feature_dict[business_idx]}\")"
   ]
  },
  {
   "cell_type": "code",
   "execution_count": 17,
   "id": "f2e09fce",
   "metadata": {},
   "outputs": [
    {
     "name": "stdout",
     "output_type": "stream",
     "text": [
      "User 13 的 Top-10 推荐商家ID:\n",
      "['C43IEVBroD_3YiumPPLLdQ' 'I6L0Zxi5Ww0zEWSAVgngeQ'\n",
      " 'bdth7r1brx9yRU7sYwF9jQ' 'zJErbOQMKX-MwHs_ulV7DA'\n",
      " '8uF-bhJFgT4Tn6DTb27viA' 'mLNSOU8Ki0Fm09xd6ZKkcA'\n",
      " 'Gv-DejGMGZOLCjju3UVQRA' 'pNu5bd9aL3jcJClfdQ86MQ'\n",
      " 'CA5BOxKRDPGJgdUQ8OUOpw' 'jBCgQ6nZDsMCWU7eaSxOpw']\n",
      "\n",
      "User 9 的 Top-10 推荐商家ID:\n",
      "['bdth7r1brx9yRU7sYwF9jQ' 'zJErbOQMKX-MwHs_ulV7DA'\n",
      " 'I6L0Zxi5Ww0zEWSAVgngeQ' '0Ga7YzSAIVZ8jrWwGE9m6Q'\n",
      " 'RUCsFlBuA80Wc9PmYzmayQ' 'C43IEVBroD_3YiumPPLLdQ'\n",
      " 'KCm9f7cROQ-f0iyYxFxQog' 'Gv-DejGMGZOLCjju3UVQRA'\n",
      " '8uF-bhJFgT4Tn6DTb27viA' 'pNu5bd9aL3jcJClfdQ86MQ']\n",
      "\n",
      "User 142 的 Top-10 推荐商家ID:\n",
      "['bdth7r1brx9yRU7sYwF9jQ' 'zJErbOQMKX-MwHs_ulV7DA'\n",
      " 'C43IEVBroD_3YiumPPLLdQ' 'I6L0Zxi5Ww0zEWSAVgngeQ'\n",
      " '0Ga7YzSAIVZ8jrWwGE9m6Q' 'Gv-DejGMGZOLCjju3UVQRA'\n",
      " 'pNu5bd9aL3jcJClfdQ86MQ' 'KCm9f7cROQ-f0iyYxFxQog'\n",
      " 'RUCsFlBuA80Wc9PmYzmayQ' '8uF-bhJFgT4Tn6DTb27viA']\n",
      "\n",
      "User 1 的 Top-10 推荐商家ID:\n",
      "['C43IEVBroD_3YiumPPLLdQ' '0Ga7YzSAIVZ8jrWwGE9m6Q'\n",
      " 'Gv-DejGMGZOLCjju3UVQRA' 'actDmpJyaQPnkds6knMdKA'\n",
      " 'zJErbOQMKX-MwHs_ulV7DA' 'pNu5bd9aL3jcJClfdQ86MQ'\n",
      " 'tD_2Pw2kiUGE-lIkFTQKLw' 'vN6v8m4DO45Z4pp8yxxF_w'\n",
      " 'I6L0Zxi5Ww0zEWSAVgngeQ' 'KCm9f7cROQ-f0iyYxFxQog']\n",
      "\n",
      "User 96 的 Top-10 推荐商家ID:\n",
      "['C43IEVBroD_3YiumPPLLdQ' 'bdth7r1brx9yRU7sYwF9jQ'\n",
      " 'zJErbOQMKX-MwHs_ulV7DA' 'I6L0Zxi5Ww0zEWSAVgngeQ'\n",
      " 'Gv-DejGMGZOLCjju3UVQRA' '0Ga7YzSAIVZ8jrWwGE9m6Q'\n",
      " 'pNu5bd9aL3jcJClfdQ86MQ' '8uF-bhJFgT4Tn6DTb27viA'\n",
      " 'hkh5iyDeGLNhu-JUQFRE1Q' 'KCm9f7cROQ-f0iyYxFxQog']\n",
      "\n"
     ]
    }
   ],
   "source": [
    "user_indices = data['user_index'].unique()[:5]\n",
    "k = 10  \n",
    "recommendations = recall_top_k(model, user_indices, k)\n",
    "for user_idx in user_indices:\n",
    "    recommended_business_indices = recommendations[user_idx]\n",
    "    recommended_business_ids = business_encoder.inverse_transform(recommended_business_indices)\n",
    "    print(f\"User {user_idx} 的 Top-{k} 推荐商家ID:\")\n",
    "    print(recommended_business_ids)\n",
    "    print()"
   ]
  },
  {
   "cell_type": "code",
   "execution_count": 12,
   "id": "75dbd6fa",
   "metadata": {},
   "outputs": [
    {
     "data": {
      "image/png": "[encoded data removed]",
      "text/plain": [
       "<Figure size 1200x1000 with 2 Axes>"
      ]
     },
     "metadata": {},
     "output_type": "display_data"
    }
   ],
   "source": [
    "sample_size = 20\n",
    "sample_data = data.sample(n=sample_size, random_state=42).reset_index(drop=True)\n",
    "sample_embeddings = np.stack(sample_data['text_embedding'].values)\n",
    "similarity_matrix = cosine_similarity(sample_embeddings)\n",
    "plt.figure(figsize=(12, 10))\n",
    "sns.heatmap(similarity_matrix, annot=False, cmap='Blues')\n",
    "plt.title('USE Transformer Encoder Heatmap')\n",
    "plt.xlabel('Review Index')\n",
    "plt.ylabel('Review Index')\n",
    "plt.show()\n"
   ]
  },
  {
   "cell_type": "code",
   "execution_count": 13,
   "id": "007f34e4",
   "metadata": {},
   "outputs": [
    {
     "ename": "KeyboardInterrupt",
     "evalue": "",
     "output_type": "error",
     "traceback": [
      "\u001b[1;31m----------------------------------------------------------\u001b[0m",
      "\u001b[1;31mKeyboardInterrupt\u001b[0m        Traceback (most recent call last)",
      "\u001b[1;32m~\\AppData\\Local\\Temp\\ipykernel_18104\\1416230768.py\u001b[0m in \u001b[0;36m<module>\u001b[1;34m\u001b[0m\n\u001b[0;32m     27\u001b[0m \u001b[1;32mfor\u001b[0m \u001b[0mphoto_id\u001b[0m \u001b[1;32min\u001b[0m \u001b[0mtrain_photos\u001b[0m\u001b[1;33m[\u001b[0m\u001b[1;34m'photo_id'\u001b[0m\u001b[1;33m]\u001b[0m\u001b[1;33m:\u001b[0m\u001b[1;33m\u001b[0m\u001b[1;33m\u001b[0m\u001b[0m\n\u001b[0;32m     28\u001b[0m     \u001b[0mimage_path\u001b[0m \u001b[1;33m=\u001b[0m \u001b[0mos\u001b[0m\u001b[1;33m.\u001b[0m\u001b[0mpath\u001b[0m\u001b[1;33m.\u001b[0m\u001b[0mjoin\u001b[0m\u001b[1;33m(\u001b[0m\u001b[1;34m'photos'\u001b[0m\u001b[1;33m,\u001b[0m \u001b[1;34mf'{photo_id}.jpg'\u001b[0m\u001b[1;33m)\u001b[0m\u001b[1;33m\u001b[0m\u001b[1;33m\u001b[0m\u001b[0m\n\u001b[1;32m---> 29\u001b[1;33m     \u001b[0membedding\u001b[0m \u001b[1;33m=\u001b[0m \u001b[0mget_image_embedding\u001b[0m\u001b[1;33m(\u001b[0m\u001b[0mimage_path\u001b[0m\u001b[1;33m)\u001b[0m\u001b[1;33m\u001b[0m\u001b[1;33m\u001b[0m\u001b[0m\n\u001b[0m\u001b[0;32m     30\u001b[0m     \u001b[0mtrain_embeddings\u001b[0m\u001b[1;33m.\u001b[0m\u001b[0mappend\u001b[0m\u001b[1;33m(\u001b[0m\u001b[0membedding\u001b[0m\u001b[1;33m)\u001b[0m\u001b[1;33m\u001b[0m\u001b[1;33m\u001b[0m\u001b[0m\n\u001b[0;32m     31\u001b[0m \u001b[0mtrain_embeddings\u001b[0m \u001b[1;33m=\u001b[0m \u001b[0mnp\u001b[0m\u001b[1;33m.\u001b[0m\u001b[0marray\u001b[0m\u001b[1;33m(\u001b[0m\u001b[0mtrain_embeddings\u001b[0m\u001b[1;33m)\u001b[0m\u001b[1;33m\u001b[0m\u001b[1;33m\u001b[0m\u001b[0m\n",
      "\u001b[1;32m~\\AppData\\Local\\Temp\\ipykernel_18104\\1416230768.py\u001b[0m in \u001b[0;36mget_image_embedding\u001b[1;34m(image_path)\u001b[0m\n\u001b[0;32m     17\u001b[0m     \u001b[1;32mtry\u001b[0m\u001b[1;33m:\u001b[0m\u001b[1;33m\u001b[0m\u001b[1;33m\u001b[0m\u001b[0m\n\u001b[0;32m     18\u001b[0m         \u001b[0mimage\u001b[0m \u001b[1;33m=\u001b[0m \u001b[0mImage\u001b[0m\u001b[1;33m.\u001b[0m\u001b[0mopen\u001b[0m\u001b[1;33m(\u001b[0m\u001b[0mimage_path\u001b[0m\u001b[1;33m)\u001b[0m\u001b[1;33m.\u001b[0m\u001b[0mconvert\u001b[0m\u001b[1;33m(\u001b[0m\u001b[1;34m\"RGB\"\u001b[0m\u001b[1;33m)\u001b[0m\u001b[1;33m\u001b[0m\u001b[1;33m\u001b[0m\u001b[0m\n\u001b[1;32m---> 19\u001b[1;33m         \u001b[0minputs\u001b[0m \u001b[1;33m=\u001b[0m \u001b[0mclip_processor\u001b[0m\u001b[1;33m(\u001b[0m\u001b[0mimages\u001b[0m\u001b[1;33m=\u001b[0m\u001b[0mimage\u001b[0m\u001b[1;33m,\u001b[0m \u001b[0mreturn_tensors\u001b[0m\u001b[1;33m=\u001b[0m\u001b[1;34m\"pt\"\u001b[0m\u001b[1;33m)\u001b[0m\u001b[1;33m.\u001b[0m\u001b[0mto\u001b[0m\u001b[1;33m(\u001b[0m\u001b[0mdevice\u001b[0m\u001b[1;33m)\u001b[0m\u001b[1;33m\u001b[0m\u001b[1;33m\u001b[0m\u001b[0m\n\u001b[0m\u001b[0;32m     20\u001b[0m         \u001b[1;32mwith\u001b[0m \u001b[0mtorch\u001b[0m\u001b[1;33m.\u001b[0m\u001b[0mno_grad\u001b[0m\u001b[1;33m(\u001b[0m\u001b[1;33m)\u001b[0m\u001b[1;33m:\u001b[0m\u001b[1;33m\u001b[0m\u001b[1;33m\u001b[0m\u001b[0m\n\u001b[0;32m     21\u001b[0m             \u001b[0moutputs\u001b[0m \u001b[1;33m=\u001b[0m \u001b[0mclip_model\u001b[0m\u001b[1;33m.\u001b[0m\u001b[0mget_image_features\u001b[0m\u001b[1;33m(\u001b[0m\u001b[1;33m**\u001b[0m\u001b[0minputs\u001b[0m\u001b[1;33m)\u001b[0m\u001b[1;33m\u001b[0m\u001b[1;33m\u001b[0m\u001b[0m\n",
      "\u001b[1;32md:\\python37\\lib\\site-packages\\transformers\\models\\clip\\processing_clip.py\u001b[0m in \u001b[0;36m__call__\u001b[1;34m(self, text, images, return_tensors, **kwargs)\u001b[0m\n\u001b[0;32m    100\u001b[0m \u001b[1;33m\u001b[0m\u001b[0m\n\u001b[0;32m    101\u001b[0m         \u001b[1;32mif\u001b[0m \u001b[0mimages\u001b[0m \u001b[1;32mis\u001b[0m \u001b[1;32mnot\u001b[0m \u001b[1;32mNone\u001b[0m\u001b[1;33m:\u001b[0m\u001b[1;33m\u001b[0m\u001b[1;33m\u001b[0m\u001b[0m\n\u001b[1;32m--> 102\u001b[1;33m             \u001b[0mimage_features\u001b[0m \u001b[1;33m=\u001b[0m \u001b[0mself\u001b[0m\u001b[1;33m.\u001b[0m\u001b[0mimage_processor\u001b[0m\u001b[1;33m(\u001b[0m\u001b[0mimages\u001b[0m\u001b[1;33m,\u001b[0m \u001b[0mreturn_tensors\u001b[0m\u001b[1;33m=\u001b[0m\u001b[0mreturn_tensors\u001b[0m\u001b[1;33m,\u001b[0m \u001b[1;33m**\u001b[0m\u001b[0mkwargs\u001b[0m\u001b[1;33m)\u001b[0m\u001b[1;33m\u001b[0m\u001b[1;33m\u001b[0m\u001b[0m\n\u001b[0m\u001b[0;32m    103\u001b[0m \u001b[1;33m\u001b[0m\u001b[0m\n\u001b[0;32m    104\u001b[0m         \u001b[1;32mif\u001b[0m \u001b[0mtext\u001b[0m \u001b[1;32mis\u001b[0m \u001b[1;32mnot\u001b[0m \u001b[1;32mNone\u001b[0m \u001b[1;32mand\u001b[0m \u001b[0mimages\u001b[0m \u001b[1;32mis\u001b[0m \u001b[1;32mnot\u001b[0m \u001b[1;32mNone\u001b[0m\u001b[1;33m:\u001b[0m\u001b[1;33m\u001b[0m\u001b[1;33m\u001b[0m\u001b[0m\n",
      "\u001b[1;32md:\\python37\\lib\\site-packages\\transformers\\image_processing_utils.py\u001b[0m in \u001b[0;36m__call__\u001b[1;34m(self, images, **kwargs)\u001b[0m\n\u001b[0;32m    462\u001b[0m     \u001b[1;32mdef\u001b[0m \u001b[0m__call__\u001b[0m\u001b[1;33m(\u001b[0m\u001b[0mself\u001b[0m\u001b[1;33m,\u001b[0m \u001b[0mimages\u001b[0m\u001b[1;33m,\u001b[0m \u001b[1;33m**\u001b[0m\u001b[0mkwargs\u001b[0m\u001b[1;33m)\u001b[0m \u001b[1;33m->\u001b[0m \u001b[0mBatchFeature\u001b[0m\u001b[1;33m:\u001b[0m\u001b[1;33m\u001b[0m\u001b[1;33m\u001b[0m\u001b[0m\n\u001b[0;32m    463\u001b[0m         \u001b[1;34m\"\"\"Preprocess an image or a batch of images.\"\"\"\u001b[0m\u001b[1;33m\u001b[0m\u001b[1;33m\u001b[0m\u001b[0m\n\u001b[1;32m--> 464\u001b[1;33m         \u001b[1;32mreturn\u001b[0m \u001b[0mself\u001b[0m\u001b[1;33m.\u001b[0m\u001b[0mpreprocess\u001b[0m\u001b[1;33m(\u001b[0m\u001b[0mimages\u001b[0m\u001b[1;33m,\u001b[0m \u001b[1;33m**\u001b[0m\u001b[0mkwargs\u001b[0m\u001b[1;33m)\u001b[0m\u001b[1;33m\u001b[0m\u001b[1;33m\u001b[0m\u001b[0m\n\u001b[0m\u001b[0;32m    465\u001b[0m \u001b[1;33m\u001b[0m\u001b[0m\n\u001b[0;32m    466\u001b[0m     \u001b[1;32mdef\u001b[0m \u001b[0mpreprocess\u001b[0m\u001b[1;33m(\u001b[0m\u001b[0mself\u001b[0m\u001b[1;33m,\u001b[0m \u001b[0mimages\u001b[0m\u001b[1;33m,\u001b[0m \u001b[1;33m**\u001b[0m\u001b[0mkwargs\u001b[0m\u001b[1;33m)\u001b[0m \u001b[1;33m->\u001b[0m \u001b[0mBatchFeature\u001b[0m\u001b[1;33m:\u001b[0m\u001b[1;33m\u001b[0m\u001b[1;33m\u001b[0m\u001b[0m\n",
      "\u001b[1;32md:\\python37\\lib\\site-packages\\transformers\\models\\clip\\image_processing_clip.py\u001b[0m in \u001b[0;36mpreprocess\u001b[1;34m(self, images, do_resize, size, resample, do_center_crop, crop_size, do_rescale, rescale_factor, do_normalize, image_mean, image_std, do_convert_rgb, return_tensors, data_format, **kwargs)\u001b[0m\n\u001b[0;32m    315\u001b[0m         \u001b[1;31m# PIL RGBA images are converted to RGB\u001b[0m\u001b[1;33m\u001b[0m\u001b[1;33m\u001b[0m\u001b[1;33m\u001b[0m\u001b[0m\n\u001b[0;32m    316\u001b[0m         \u001b[1;32mif\u001b[0m \u001b[0mdo_convert_rgb\u001b[0m\u001b[1;33m:\u001b[0m\u001b[1;33m\u001b[0m\u001b[1;33m\u001b[0m\u001b[0m\n\u001b[1;32m--> 317\u001b[1;33m             \u001b[0mimages\u001b[0m \u001b[1;33m=\u001b[0m \u001b[1;33m[\u001b[0m\u001b[0mconvert_to_rgb\u001b[0m\u001b[1;33m(\u001b[0m\u001b[0mimage\u001b[0m\u001b[1;33m)\u001b[0m \u001b[1;32mfor\u001b[0m \u001b[0mimage\u001b[0m \u001b[1;32min\u001b[0m \u001b[0mimages\u001b[0m\u001b[1;33m]\u001b[0m\u001b[1;33m\u001b[0m\u001b[1;33m\u001b[0m\u001b[0m\n\u001b[0m\u001b[0;32m    318\u001b[0m \u001b[1;33m\u001b[0m\u001b[0m\n\u001b[0;32m    319\u001b[0m         \u001b[1;31m# All transformations expect numpy arrays.\u001b[0m\u001b[1;33m\u001b[0m\u001b[1;33m\u001b[0m\u001b[1;33m\u001b[0m\u001b[0m\n",
      "\u001b[1;32md:\\python37\\lib\\site-packages\\transformers\\models\\clip\\image_processing_clip.py\u001b[0m in \u001b[0;36m<listcomp>\u001b[1;34m(.0)\u001b[0m\n\u001b[0;32m    315\u001b[0m         \u001b[1;31m# PIL RGBA images are converted to RGB\u001b[0m\u001b[1;33m\u001b[0m\u001b[1;33m\u001b[0m\u001b[1;33m\u001b[0m\u001b[0m\n\u001b[0;32m    316\u001b[0m         \u001b[1;32mif\u001b[0m \u001b[0mdo_convert_rgb\u001b[0m\u001b[1;33m:\u001b[0m\u001b[1;33m\u001b[0m\u001b[1;33m\u001b[0m\u001b[0m\n\u001b[1;32m--> 317\u001b[1;33m             \u001b[0mimages\u001b[0m \u001b[1;33m=\u001b[0m \u001b[1;33m[\u001b[0m\u001b[0mconvert_to_rgb\u001b[0m\u001b[1;33m(\u001b[0m\u001b[0mimage\u001b[0m\u001b[1;33m)\u001b[0m \u001b[1;32mfor\u001b[0m \u001b[0mimage\u001b[0m \u001b[1;32min\u001b[0m \u001b[0mimages\u001b[0m\u001b[1;33m]\u001b[0m\u001b[1;33m\u001b[0m\u001b[1;33m\u001b[0m\u001b[0m\n\u001b[0m\u001b[0;32m    318\u001b[0m \u001b[1;33m\u001b[0m\u001b[0m\n\u001b[0;32m    319\u001b[0m         \u001b[1;31m# All transformations expect numpy arrays.\u001b[0m\u001b[1;33m\u001b[0m\u001b[1;33m\u001b[0m\u001b[1;33m\u001b[0m\u001b[0m\n",
      "\u001b[1;32md:\\python37\\lib\\site-packages\\transformers\\image_transforms.py\u001b[0m in \u001b[0;36mconvert_to_rgb\u001b[1;34m(image)\u001b[0m\n\u001b[0;32m    741\u001b[0m         \u001b[1;32mreturn\u001b[0m \u001b[0mimage\u001b[0m\u001b[1;33m\u001b[0m\u001b[1;33m\u001b[0m\u001b[0m\n\u001b[0;32m    742\u001b[0m \u001b[1;33m\u001b[0m\u001b[0m\n\u001b[1;32m--> 743\u001b[1;33m     \u001b[0mimage\u001b[0m \u001b[1;33m=\u001b[0m \u001b[0mimage\u001b[0m\u001b[1;33m.\u001b[0m\u001b[0mconvert\u001b[0m\u001b[1;33m(\u001b[0m\u001b[1;34m\"RGB\"\u001b[0m\u001b[1;33m)\u001b[0m\u001b[1;33m\u001b[0m\u001b[1;33m\u001b[0m\u001b[0m\n\u001b[0m\u001b[0;32m    744\u001b[0m     \u001b[1;32mreturn\u001b[0m \u001b[0mimage\u001b[0m\u001b[1;33m\u001b[0m\u001b[1;33m\u001b[0m\u001b[0m\n\u001b[0;32m    745\u001b[0m \u001b[1;33m\u001b[0m\u001b[0m\n",
      "\u001b[1;32md:\\python37\\lib\\site-packages\\PIL\\Image.py\u001b[0m in \u001b[0;36mconvert\u001b[1;34m(self, mode, matrix, dither, palette, colors)\u001b[0m\n\u001b[0;32m    943\u001b[0m                 \u001b[0mmode\u001b[0m \u001b[1;33m=\u001b[0m \u001b[1;34m\"RGBA\"\u001b[0m\u001b[1;33m\u001b[0m\u001b[1;33m\u001b[0m\u001b[0m\n\u001b[0;32m    944\u001b[0m         \u001b[1;32mif\u001b[0m \u001b[1;32mnot\u001b[0m \u001b[0mmode\u001b[0m \u001b[1;32mor\u001b[0m \u001b[1;33m(\u001b[0m\u001b[0mmode\u001b[0m \u001b[1;33m==\u001b[0m \u001b[0mself\u001b[0m\u001b[1;33m.\u001b[0m\u001b[0mmode\u001b[0m \u001b[1;32mand\u001b[0m \u001b[1;32mnot\u001b[0m \u001b[0mmatrix\u001b[0m\u001b[1;33m)\u001b[0m\u001b[1;33m:\u001b[0m\u001b[1;33m\u001b[0m\u001b[1;33m\u001b[0m\u001b[0m\n\u001b[1;32m--> 945\u001b[1;33m             \u001b[1;32mreturn\u001b[0m \u001b[0mself\u001b[0m\u001b[1;33m.\u001b[0m\u001b[0mcopy\u001b[0m\u001b[1;33m(\u001b[0m\u001b[1;33m)\u001b[0m\u001b[1;33m\u001b[0m\u001b[1;33m\u001b[0m\u001b[0m\n\u001b[0m\u001b[0;32m    946\u001b[0m \u001b[1;33m\u001b[0m\u001b[0m\n\u001b[0;32m    947\u001b[0m         \u001b[1;32mif\u001b[0m \u001b[0mmatrix\u001b[0m\u001b[1;33m:\u001b[0m\u001b[1;33m\u001b[0m\u001b[1;33m\u001b[0m\u001b[0m\n",
      "\u001b[1;32md:\\python37\\lib\\site-packages\\PIL\\Image.py\u001b[0m in \u001b[0;36mcopy\u001b[1;34m(self)\u001b[0m\n\u001b[0;32m   1200\u001b[0m         \"\"\"\n\u001b[0;32m   1201\u001b[0m         \u001b[0mself\u001b[0m\u001b[1;33m.\u001b[0m\u001b[0mload\u001b[0m\u001b[1;33m(\u001b[0m\u001b[1;33m)\u001b[0m\u001b[1;33m\u001b[0m\u001b[1;33m\u001b[0m\u001b[0m\n\u001b[1;32m-> 1202\u001b[1;33m         \u001b[1;32mreturn\u001b[0m \u001b[0mself\u001b[0m\u001b[1;33m.\u001b[0m\u001b[0m_new\u001b[0m\u001b[1;33m(\u001b[0m\u001b[0mself\u001b[0m\u001b[1;33m.\u001b[0m\u001b[0mim\u001b[0m\u001b[1;33m.\u001b[0m\u001b[0mcopy\u001b[0m\u001b[1;33m(\u001b[0m\u001b[1;33m)\u001b[0m\u001b[1;33m)\u001b[0m\u001b[1;33m\u001b[0m\u001b[1;33m\u001b[0m\u001b[0m\n\u001b[0m\u001b[0;32m   1203\u001b[0m \u001b[1;33m\u001b[0m\u001b[0m\n\u001b[0;32m   1204\u001b[0m     \u001b[0m__copy__\u001b[0m \u001b[1;33m=\u001b[0m \u001b[0mcopy\u001b[0m\u001b[1;33m\u001b[0m\u001b[1;33m\u001b[0m\u001b[0m\n",
      "\u001b[1;31mKeyboardInterrupt\u001b[0m: "
     ]
    }
   ],
   "source": [
    "import pandas as pd\n",
    "import numpy as np\n",
    "import os\n",
    "from PIL import Image\n",
    "from sklearn.metrics import confusion_matrix, ConfusionMatrixDisplay\n",
    "from sklearn.preprocessing import LabelEncoder\n",
    "from sklearn.model_selection import train_test_split\n",
    "from sklearn.linear_model import LogisticRegression\n",
    "import matplotlib.pyplot as plt\n",
    "photo_df = pd.read_json('photos.json', lines=True,nrows=5000)\n",
    "labels_to_use = ['food', 'drink', 'menu', 'inside', 'outside']\n",
    "photo_df = photo_df[photo_df['label'].isin(labels_to_use)]\n",
    "label_encoder = LabelEncoder()\n",
    "photo_df['label_encoded'] = label_encoder.fit_transform(photo_df['label'])\n",
    "train_photos, test_photos = train_test_split(photo_df, test_size=0.2, random_state=42, stratify=photo_df['label'])\n",
    "def get_image_embedding(image_path):\n",
    "    try:\n",
    "        image = Image.open(image_path).convert(\"RGB\")\n",
    "        inputs = clip_processor(images=image, return_tensors=\"pt\").to(device)\n",
    "        with torch.no_grad():\n",
    "            outputs = clip_model.get_image_features(**inputs)\n",
    "        embedding = outputs.cpu().numpy()[0]\n",
    "        return embedding\n",
    "    except Exception:\n",
    "        return np.zeros(512)\n",
    "train_embeddings = []\n",
    "for photo_id in train_photos['photo_id']:\n",
    "    image_path = os.path.join('photos', f'{photo_id}.jpg')\n",
    "    embedding = get_image_embedding(image_path)\n",
    "    train_embeddings.append(embedding)\n",
    "train_embeddings = np.array(train_embeddings)\n",
    "test_embeddings = []\n",
    "for photo_id in test_photos['photo_id']:\n",
    "    image_path = os.path.join('photos', f'{photo_id}.jpg')\n",
    "    embedding = get_image_embedding(image_path)\n",
    "    test_embeddings.append(embedding)\n",
    "test_embeddings = np.array(test_embeddings)\n",
    "clf = LogisticRegression(max_iter=1000)\n",
    "clf.fit(train_embeddings, train_photos['label_encoded'])\n",
    "preds = clf.predict(test_embeddings)\n",
    "true_labels = test_photos['label_encoded']\n",
    "cm = confusion_matrix(true_labels, preds, normalize='true')\n",
    "disp = ConfusionMatrixDisplay(confusion_matrix=cm, display_labels=label_encoder.classes_)\n",
    "fig, ax = plt.subplots(figsize=(8, 8))\n",
    "disp.plot(cmap='Blues', ax=ax, values_format='.2f')\n",
    "plt.title('5-way Precision Confusion Matrix')\n",
    "plt.xlabel('Predicted Label')\n",
    "plt.ylabel('True Label')\n",
    "plt.show()\n"
   ]
  },
  {
   "cell_type": "code",
   "execution_count": null,
   "id": "ae0c0a6b",
   "metadata": {},
   "outputs": [],
   "source": [
    "unique_labels = photo_df['label'].unique()\n",
    "print(unique_labels)\n",
    "home_service_categories = ['inside', 'outside']\n",
    "photo_df_home = photo_df[photo_df['label'].isin(home_service_categories)]\n",
    "\n",
    "label_encoder_home = LabelEncoder()\n",
    "photo_df_home['label_encoded'] = label_encoder_home.fit_transform(photo_df_home['label'])\n",
    "\n",
    "train_photos_home, test_photos_home = train_test_split(photo_df_home, test_size=0.2, random_state=42, stratify=photo_df_home['label'])\n",
    "\n",
    "train_embeddings_home = []\n",
    "for photo_id in train_photos_home['photo_id']:\n",
    "    image_path = os.path.join('photos', f'{photo_id}.jpg')\n",
    "    embedding = get_image_embedding(image_path)\n",
    "    train_embeddings_home.append(embedding)\n",
    "train_embeddings_home = np.array(train_embeddings_home)\n",
    "\n",
    "test_embeddings_home = []\n",
    "for photo_id in test_photos_home['photo_id']:\n",
    "    image_path = os.path.join('photos', f'{photo_id}.jpg')\n",
    "    embedding = get_image_embedding(image_path)\n",
    "    test_embeddings_home.append(embedding)\n",
    "test_embeddings_home = np.array(test_embeddings_home)\n",
    "\n",
    "clf_home = LogisticRegression(max_iter=1000)\n",
    "clf_home.fit(train_embeddings_home, train_photos_home['label_encoded'])\n",
    "\n",
    "preds_home = clf_home.predict(test_embeddings_home)\n",
    "true_labels_home = test_photos_home['label_encoded']\n",
    "\n",
    "cm_home = confusion_matrix(true_labels_home, preds_home, normalize='true')\n",
    "disp_home = ConfusionMatrixDisplay(confusion_matrix=cm_home, display_labels=label_encoder_home.classes_)\n",
    "fig, ax = plt.subplots(figsize=(8, 8))\n",
    "disp_home.plot(cmap='Blues', ax=ax, values_format='.2f')\n",
    "plt.title('Home Services Contractors Precision Confusion Matrix')\n",
    "plt.xlabel('Predicted Label')\n",
    "plt.ylabel('True Label')\n",
    "plt.show()\n"
   ]
  },
  {
   "cell_type": "code",
   "execution_count": null,
   "id": "ab1a02cc",
   "metadata": {},
   "outputs": [],
   "source": [
    "from tqdm import tqdm\n",
    "tqdm.pandas()\n",
    "\n",
    "def get_text_embedding(text):\n",
    "    if not isinstance(text, str) or text.strip() == '':\n",
    "        return np.zeros(768)\n",
    "    try:\n",
    "        inputs = tokenizer(text, return_tensors='pt', truncation=True, max_length=512)\n",
    "        inputs = {k: v.to(device) for k, v in inputs.items()}\n",
    "        with torch.no_grad():\n",
    "            outputs = bert_model(**inputs)\n",
    "        embedding = outputs.last_hidden_state[:, 0, :].cpu().numpy()[0]\n",
    "        return embedding\n",
    "    except Exception as e:\n",
    "        print(f\"Error processing text: {text}\")\n",
    "        print(e)\n",
    "        return np.zeros(768)\n",
    "\n",
    "data = data.dropna(subset=['text'])\n",
    "data['text_embedding'] = data['text'].progress_apply(get_text_embedding)"
   ]
  },
  {
   "cell_type": "code",
   "execution_count": null,
   "id": "0ed7749d",
   "metadata": {},
   "outputs": [],
   "source": [
    "from sklearn.metrics.pairwise import cosine_similarity\n",
    "\n",
    "sample_data = data.head(100)\n",
    "embeddings = np.stack(sample_data['text_embedding'].values)\n",
    "\n",
    "similarity_matrix = cosine_similarity(embeddings)"
   ]
  },
  {
   "cell_type": "code",
   "execution_count": null,
   "id": "2e90dd0e",
   "metadata": {},
   "outputs": [],
   "source": [
    "import matplotlib.pyplot as plt\n",
    "import seaborn as sns\n",
    "\n",
    "plt.figure(figsize=(10, 8))\n",
    "sns.heatmap(similarity_matrix, cmap='viridis')\n",
    "plt.title('Yelp 评论相似性热力图')\n",
    "plt.xlabel('评论索引')\n",
    "plt.ylabel('评论索引')\n",
    "plt.show()"
   ]
  },
  {
   "cell_type": "code",
   "execution_count": null,
   "id": "823e44c5",
   "metadata": {},
   "outputs": [],
   "source": []
  }
 ],
 "metadata": {
  "kernelspec": {
   "display_name": "Python 3 (ipykernel)",
   "language": "python",
   "name": "python3"
  },
  "language_info": {
   "codemirror_mode": {
    "name": "ipython",
    "version": 3
   },
   "file_extension": ".py",
   "mimetype": "text/x-python",
   "name": "python",
   "nbconvert_exporter": "python",
   "pygments_lexer": "ipython3",
   "version": "3.7.8"
  }
 },
 "nbformat": 4,
 "nbformat_minor": 5
}
